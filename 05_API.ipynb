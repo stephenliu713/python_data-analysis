{
  "nbformat": 4,
  "nbformat_minor": 0,
  "metadata": {
    "colab": {
      "name": "05_API.ipynb",
      "provenance": [],
      "collapsed_sections": [],
      "toc_visible": true,
      "authorship_tag": "ABX9TyPuT+m/RfccK7sGfoP9mkk1",
      "include_colab_link": true
    },
    "kernelspec": {
      "name": "python3",
      "display_name": "Python 3"
    },
    "language_info": {
      "name": "python"
    }
  },
  "cells": [
    {
      "cell_type": "markdown",
      "metadata": {
        "id": "view-in-github",
        "colab_type": "text"
      },
      "source": [
        "<a href=\"https://colab.research.google.com/github/stephenliu713/python_data-analysis/blob/main/05_API.ipynb\" target=\"_parent\"><img src=\"https://colab.research.google.com/assets/colab-badge.svg\" alt=\"Open In Colab\"/></a>"
      ]
    },
    {
      "cell_type": "markdown",
      "metadata": {
        "id": "dZBu2BJ6s00g"
      },
      "source": [
        "# 0. 什么是API？\n",
        "\n",
        "> **应用程序接口**（英语：Application Programming Interface），缩写为API，是一种计算接口，它定义多个软件中介之间的**交互**，以及可以进行的**调用（call）**或**请求（request）**的种类，如何进行调用或发出请求，应使用的数据格式，应遵循的惯例等。\n",
        "\n",
        "我们已经通过`read_csv()`和`read_excel`读取并处理过文件，但许多时候更方便的方法是从云端直接获取数据。\n",
        "\n",
        "网络爬虫是一种方式，但是耗时很长。**通过API接口获取数据更加快捷方便。**\n",
        "\n",
        "优点：\n",
        "\n",
        "* 只下载需要的数据即可\n",
        "* 不需要预先载入数据\n",
        "* 不需要为了爬虫研究复杂的网页结构\n",
        "* 可以始终获取到最新数据\n",
        "\n",
        "缺点：\n",
        "\n",
        "* 代码必须在线运行\n",
        "* **API接口的可达性(accessibility)**"
      ]
    },
    {
      "cell_type": "markdown",
      "metadata": {
        "id": "xZ48xAjXuhRN"
      },
      "source": [
        "# 1. 通过API获取数据\n",
        "\n",
        "每个API都有自己的调用规范。**一般来说，提供API接口的网站都会附上详细的技术文档和操作示例。** 参考它们是最简洁的方式。\n"
      ]
    },
    {
      "cell_type": "markdown",
      "metadata": {
        "id": "lPcQvKshw_MF"
      },
      "source": [
        "## 1.1 pandas自带的API接口 `import pandas_datareader.data as web` → `web.DataReader`\n",
        "\n",
        "pandas预留了[一些常用数据网站的API接口](https://pandas.pydata.org/docs/ecosystem.html?highlight=datareader)（大部分是与经济/金融有关的公开数据），通过`pandas_datareader`可以非常轻松的获取这些数据。\n",
        "\n",
        "* Google Finance\n",
        "\n",
        "* Tiingo\n",
        "\n",
        "* Morningstar\n",
        "\n",
        "* IEX\n",
        "\n",
        "* Robinhood\n",
        "\n",
        "* Enigma\n",
        "\n",
        "* Quandl\n",
        "\n",
        "* FRED\n",
        "\n",
        "* Fama/French\n",
        "\n",
        "* World Bank\n",
        "\n",
        "* OECD\n",
        "\n",
        "* Eurostat\n",
        "\n",
        "* TSP Fund Data\n",
        "\n",
        "* Nasdaq Trader Symbol Definitions\n",
        "\n",
        "* Stooq Index Data\n",
        "\n",
        "* MOEX Data"
      ]
    },
    {
      "cell_type": "markdown",
      "metadata": {
        "id": "QOmFQ_q7KXDE"
      },
      "source": [
        "### 1.1.1 以FRED为例"
      ]
    },
    {
      "cell_type": "code",
      "metadata": {
        "id": "VZRdi3jc0DkJ"
      },
      "source": [
        "import pandas as pd\n",
        "import numpy as np\n",
        "import pandas_datareader.data as web\n",
        "import datetime as dt\n",
        "\n",
        "import matplotlib.pyplot as plt\n",
        "%matplotlib inline"
      ],
      "execution_count": null,
      "outputs": []
    },
    {
      "cell_type": "markdown",
      "metadata": {
        "id": "eqjDrUBVyfEa"
      },
      "source": [
        "\n",
        "下面我们以FRED（一个经济与金融数据库，国内可以直接访问）为例。\n",
        "\n",
        "我们希望得到**中国近几十年的GDP数据**。现在我们需要中国GDP所对应的数据代码（code），不同数据的代码请前往[FRED官网](https://fred.stlouisfed.org/)直接搜索。\n",
        "\n",
        "![image.png](data:image/png;base64,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)"
      ]
    },
    {
      "cell_type": "code",
      "metadata": {
        "colab": {
          "base_uri": "https://localhost:8080/",
          "height": 234
        },
        "id": "k14mDFQPsTeG",
        "outputId": "96f0c55c-3585-4d92-cb01-bed43c82b6f6"
      },
      "source": [
        "df_gdpcn = web.DataReader(['MKTGDPCNA646NWDB'],\n",
        "                           'fred',\n",
        "                           start = '1960-01-01')\n",
        "df_gdpcn.head()"
      ],
      "execution_count": null,
      "outputs": [
        {
          "output_type": "execute_result",
          "data": {
            "text/html": [
              "<div>\n",
              "<style scoped>\n",
              "    .dataframe tbody tr th:only-of-type {\n",
              "        vertical-align: middle;\n",
              "    }\n",
              "\n",
              "    .dataframe tbody tr th {\n",
              "        vertical-align: top;\n",
              "    }\n",
              "\n",
              "    .dataframe thead th {\n",
              "        text-align: right;\n",
              "    }\n",
              "</style>\n",
              "<table border=\"1\" class=\"dataframe\">\n",
              "  <thead>\n",
              "    <tr style=\"text-align: right;\">\n",
              "      <th></th>\n",
              "      <th>MKTGDPCNA646NWDB</th>\n",
              "    </tr>\n",
              "    <tr>\n",
              "      <th>DATE</th>\n",
              "      <th></th>\n",
              "    </tr>\n",
              "  </thead>\n",
              "  <tbody>\n",
              "    <tr>\n",
              "      <th>1960-01-01</th>\n",
              "      <td>5.971647e+10</td>\n",
              "    </tr>\n",
              "    <tr>\n",
              "      <th>1961-01-01</th>\n",
              "      <td>5.005687e+10</td>\n",
              "    </tr>\n",
              "    <tr>\n",
              "      <th>1962-01-01</th>\n",
              "      <td>4.720936e+10</td>\n",
              "    </tr>\n",
              "    <tr>\n",
              "      <th>1963-01-01</th>\n",
              "      <td>5.070680e+10</td>\n",
              "    </tr>\n",
              "    <tr>\n",
              "      <th>1964-01-01</th>\n",
              "      <td>5.970834e+10</td>\n",
              "    </tr>\n",
              "  </tbody>\n",
              "</table>\n",
              "</div>"
            ],
            "text/plain": [
              "            MKTGDPCNA646NWDB\n",
              "DATE                        \n",
              "1960-01-01      5.971647e+10\n",
              "1961-01-01      5.005687e+10\n",
              "1962-01-01      4.720936e+10\n",
              "1963-01-01      5.070680e+10\n",
              "1964-01-01      5.970834e+10"
            ]
          },
          "metadata": {},
          "execution_count": 13
        }
      ]
    },
    {
      "cell_type": "markdown",
      "metadata": {
        "id": "FJ1Yl44s1FUc"
      },
      "source": [
        "我们对数据进行一些简单的处理来使可读性更高。"
      ]
    },
    {
      "cell_type": "code",
      "metadata": {
        "colab": {
          "base_uri": "https://localhost:8080/",
          "height": 234
        },
        "id": "THLgH0NU1NDi",
        "outputId": "fdbbeb3f-2b2e-43d5-d713-2bb129af1df4"
      },
      "source": [
        "# codes重命名\n",
        "df_gdpcn.rename(columns = {'MKTGDPCNA646NWDB':'GDP_CN'},\n",
        "                inplace=True)\n",
        "df_gdpcn.head()"
      ],
      "execution_count": null,
      "outputs": [
        {
          "output_type": "execute_result",
          "data": {
            "text/html": [
              "<div>\n",
              "<style scoped>\n",
              "    .dataframe tbody tr th:only-of-type {\n",
              "        vertical-align: middle;\n",
              "    }\n",
              "\n",
              "    .dataframe tbody tr th {\n",
              "        vertical-align: top;\n",
              "    }\n",
              "\n",
              "    .dataframe thead th {\n",
              "        text-align: right;\n",
              "    }\n",
              "</style>\n",
              "<table border=\"1\" class=\"dataframe\">\n",
              "  <thead>\n",
              "    <tr style=\"text-align: right;\">\n",
              "      <th></th>\n",
              "      <th>GDP_CN</th>\n",
              "    </tr>\n",
              "    <tr>\n",
              "      <th>DATE</th>\n",
              "      <th></th>\n",
              "    </tr>\n",
              "  </thead>\n",
              "  <tbody>\n",
              "    <tr>\n",
              "      <th>1960-01-01</th>\n",
              "      <td>5.971647e+10</td>\n",
              "    </tr>\n",
              "    <tr>\n",
              "      <th>1961-01-01</th>\n",
              "      <td>5.005687e+10</td>\n",
              "    </tr>\n",
              "    <tr>\n",
              "      <th>1962-01-01</th>\n",
              "      <td>4.720936e+10</td>\n",
              "    </tr>\n",
              "    <tr>\n",
              "      <th>1963-01-01</th>\n",
              "      <td>5.070680e+10</td>\n",
              "    </tr>\n",
              "    <tr>\n",
              "      <th>1964-01-01</th>\n",
              "      <td>5.970834e+10</td>\n",
              "    </tr>\n",
              "  </tbody>\n",
              "</table>\n",
              "</div>"
            ],
            "text/plain": [
              "                  GDP_CN\n",
              "DATE                    \n",
              "1960-01-01  5.971647e+10\n",
              "1961-01-01  5.005687e+10\n",
              "1962-01-01  4.720936e+10\n",
              "1963-01-01  5.070680e+10\n",
              "1964-01-01  5.970834e+10"
            ]
          },
          "metadata": {},
          "execution_count": 14
        }
      ]
    },
    {
      "cell_type": "code",
      "metadata": {
        "colab": {
          "base_uri": "https://localhost:8080/",
          "height": 234
        },
        "id": "3mJ_O0B11v-w",
        "outputId": "f7fcfb55-8785-4ff8-b8ac-f7ca25ae971a"
      },
      "source": [
        "# 单位转换 -> billion\n",
        "df_gdpcn['GDP_CN_bn'] = df_gdpcn['GDP_CN']/1000000000\n",
        "df_gdpcn.head()"
      ],
      "execution_count": null,
      "outputs": [
        {
          "output_type": "execute_result",
          "data": {
            "text/html": [
              "<div>\n",
              "<style scoped>\n",
              "    .dataframe tbody tr th:only-of-type {\n",
              "        vertical-align: middle;\n",
              "    }\n",
              "\n",
              "    .dataframe tbody tr th {\n",
              "        vertical-align: top;\n",
              "    }\n",
              "\n",
              "    .dataframe thead th {\n",
              "        text-align: right;\n",
              "    }\n",
              "</style>\n",
              "<table border=\"1\" class=\"dataframe\">\n",
              "  <thead>\n",
              "    <tr style=\"text-align: right;\">\n",
              "      <th></th>\n",
              "      <th>GDP_CN</th>\n",
              "      <th>GDP_CN_bn</th>\n",
              "    </tr>\n",
              "    <tr>\n",
              "      <th>DATE</th>\n",
              "      <th></th>\n",
              "      <th></th>\n",
              "    </tr>\n",
              "  </thead>\n",
              "  <tbody>\n",
              "    <tr>\n",
              "      <th>1960-01-01</th>\n",
              "      <td>5.971647e+10</td>\n",
              "      <td>59.716468</td>\n",
              "    </tr>\n",
              "    <tr>\n",
              "      <th>1961-01-01</th>\n",
              "      <td>5.005687e+10</td>\n",
              "      <td>50.056869</td>\n",
              "    </tr>\n",
              "    <tr>\n",
              "      <th>1962-01-01</th>\n",
              "      <td>4.720936e+10</td>\n",
              "      <td>47.209359</td>\n",
              "    </tr>\n",
              "    <tr>\n",
              "      <th>1963-01-01</th>\n",
              "      <td>5.070680e+10</td>\n",
              "      <td>50.706800</td>\n",
              "    </tr>\n",
              "    <tr>\n",
              "      <th>1964-01-01</th>\n",
              "      <td>5.970834e+10</td>\n",
              "      <td>59.708343</td>\n",
              "    </tr>\n",
              "  </tbody>\n",
              "</table>\n",
              "</div>"
            ],
            "text/plain": [
              "                  GDP_CN  GDP_CN_bn\n",
              "DATE                               \n",
              "1960-01-01  5.971647e+10  59.716468\n",
              "1961-01-01  5.005687e+10  50.056869\n",
              "1962-01-01  4.720936e+10  47.209359\n",
              "1963-01-01  5.070680e+10  50.706800\n",
              "1964-01-01  5.970834e+10  59.708343"
            ]
          },
          "metadata": {},
          "execution_count": 15
        }
      ]
    },
    {
      "cell_type": "markdown",
      "metadata": {
        "id": "O9iYTHjn2bN6"
      },
      "source": [
        "我们参照上章的方法将这些数据可视化"
      ]
    },
    {
      "cell_type": "code",
      "metadata": {
        "colab": {
          "base_uri": "https://localhost:8080/",
          "height": 281
        },
        "id": "iJoQwDMF2etZ",
        "outputId": "90f35214-22f5-45b3-9a65-fd4ca2dee19c"
      },
      "source": [
        "fig, ax = plt.subplots()\n",
        "\n",
        "ax.plot(df_gdpcn.index, df_gdpcn['GDP_CN_bn'],\n",
        "        color = 'red')\n",
        "\n",
        "ax.set_ylabel('GDP (bn.)')\n",
        "ax.set_title('Gross Domestic Product for China (1960-2020)')\n",
        "\n",
        "ax.spines['top'].set_visible(False)\n",
        "ax.spines['right'].set_visible(False)\n",
        "\n",
        "plt.show()"
      ],
      "execution_count": null,
      "outputs": [
        {
          "output_type": "display_data",
          "data": {
            "image/png": "[encoded data removed]",
            "text/plain": [
              "<Figure size 432x288 with 1 Axes>"
            ]
          },
          "metadata": {
            "needs_background": "light"
          }
        }
      ]
    },
    {
      "cell_type": "markdown",
      "metadata": {
        "id": "IMTl6vhb9S8X"
      },
      "source": [
        "## 1.2 其他API接口\n",
        "\n",
        "API本质上是一项服务，而服务的提供商们对于这项服务的整合程度和开放程度都不同。\n",
        "\n",
        "对于非专业编程者来说，从0开始搭建一个API框架是十分困难的。因此，如果你需要的服务开放了API，**先找找是否有人已经搭好了API框架**。**不要重复造轮子！**"
      ]
    },
    {
      "cell_type": "markdown",
      "metadata": {
        "id": "i2ReWEbF-Ewl"
      },
      "source": [
        "### 1.2.1 以bilibili-api为例\n",
        "\n",
        "Bilibili开放了可以各种查询视频相关信息的API，Github上有人将它整合为了一个第三方库[bilibili-api](https://github.com/MoyuScript/bilibili-api)。"
      ]
    },
    {
      "cell_type": "code",
      "metadata": {
        "colab": {
          "base_uri": "https://localhost:8080/"
        },
        "id": "SKVXz7YE-3ZZ",
        "outputId": "e94a357e-bd4b-4053-b318-974acbb79d27"
      },
      "source": [
        "pip install bilibili-api"
      ],
      "execution_count": null,
      "outputs": [
        {
          "output_type": "stream",
          "name": "stdout",
          "text": [
            "Requirement already satisfied: bilibili-api in /usr/local/lib/python3.7/dist-packages (5.1.2)\n",
            "Requirement already satisfied: beautifulsoup4~=4.9.3 in /usr/local/lib/python3.7/dist-packages (from bilibili-api) (4.9.3)\n",
            "Requirement already satisfied: urllib3~=1.26.3 in /usr/local/lib/python3.7/dist-packages (from bilibili-api) (1.26.7)\n",
            "Requirement already satisfied: pyyaml~=5.4.1 in /usr/local/lib/python3.7/dist-packages (from bilibili-api) (5.4.1)\n",
            "Requirement already satisfied: aiohttp~=3.7.3 in /usr/local/lib/python3.7/dist-packages (from bilibili-api) (3.7.4.post0)\n",
            "Requirement already satisfied: colorama~=0.4.4 in /usr/local/lib/python3.7/dist-packages (from bilibili-api) (0.4.4)\n",
            "Requirement already satisfied: lxml~=4.6.1 in /usr/local/lib/python3.7/dist-packages (from bilibili-api) (4.6.4)\n",
            "Requirement already satisfied: attrs>=17.3.0 in /usr/local/lib/python3.7/dist-packages (from aiohttp~=3.7.3->bilibili-api) (21.2.0)\n",
            "Requirement already satisfied: chardet<5.0,>=2.0 in /usr/local/lib/python3.7/dist-packages (from aiohttp~=3.7.3->bilibili-api) (3.0.4)\n",
            "Requirement already satisfied: yarl<2.0,>=1.0 in /usr/local/lib/python3.7/dist-packages (from aiohttp~=3.7.3->bilibili-api) (1.7.2)\n",
            "Requirement already satisfied: async-timeout<4.0,>=3.0 in /usr/local/lib/python3.7/dist-packages (from aiohttp~=3.7.3->bilibili-api) (3.0.1)\n",
            "Requirement already satisfied: multidict<7.0,>=4.5 in /usr/local/lib/python3.7/dist-packages (from aiohttp~=3.7.3->bilibili-api) (5.2.0)\n",
            "Requirement already satisfied: typing-extensions>=3.6.5 in /usr/local/lib/python3.7/dist-packages (from aiohttp~=3.7.3->bilibili-api) (3.10.0.2)\n",
            "Requirement already satisfied: soupsieve>1.2 in /usr/local/lib/python3.7/dist-packages (from beautifulsoup4~=4.9.3->bilibili-api) (2.3)\n",
            "Requirement already satisfied: idna>=2.0 in /usr/local/lib/python3.7/dist-packages (from yarl<2.0,>=1.0->aiohttp~=3.7.3->bilibili-api) (2.10)\n"
          ]
        }
      ]
    },
    {
      "cell_type": "code",
      "metadata": {
        "id": "IcTnSSLd_ot6"
      },
      "source": [
        "from bilibili_api import video, sync\n",
        "from threading import Thread\n",
        "import asyncio"
      ],
      "execution_count": null,
      "outputs": []
    },
    {
      "cell_type": "code",
      "metadata": {
        "colab": {
          "base_uri": "https://localhost:8080/"
        },
        "id": "1hRfrXvLJlTc",
        "outputId": "faf3fc93-08e7-4be3-ceb7-c5610d1966e3"
      },
      "source": [
        "async def main():\n",
        "    v = video.Video('BV1s34y1Q7Kq') # 输入BV号\n",
        "    print(await v.get_info())\n",
        "\n",
        "def thread():\n",
        "    try:\n",
        "        asyncio.get_event_loop()\n",
        "    except:\n",
        "        asyncio.set_event_loop(asyncio.new_event_loop())\n",
        "    sync(main())\n",
        "\n",
        "th = Thread(target=thread)\n",
        "\n",
        "th.start()\n",
        "th.join()\n"
      ],
      "execution_count": null,
      "outputs": [
        {
          "output_type": "stream",
          "name": "stdout",
          "text": [
            "{'bvid': 'BV1s34y1Q7Kq', 'aid': 805381915, 'videos': 2, 'tid': 130, 'tname': '音乐综合', 'copyright': 1, 'pic': 'http://i1.hdslb.com/bfs/archive/6d96ae0729d42957928bfe00b1ea695ab333657e.png', 'title': '管弦乐·魔卡少女樱OP - CLEAR', 'pubdate': 1631195062, 'ctime': 1631195062, 'desc': '网易云音乐：https://music.163.com/song?id=1876800780&userid=132211598\\r\\n\\r\\n喜欢的可以三连转发关注支持一下_(:з」∠)_', 'desc_v2': [{'raw_text': '网易云音乐：https://music.163.com/song?id=1876800780&userid=132211598\\r\\n\\r\\n喜欢的可以三连转发关注支持一下_(:з」∠)_', 'type': 1, 'biz_id': 0}], 'state': 0, 'duration': 1836, 'rights': {'bp': 0, 'elec': 0, 'download': 1, 'movie': 0, 'pay': 0, 'hd5': 0, 'no_reprint': 1, 'autoplay': 1, 'ugc_pay': 0, 'is_cooperation': 0, 'ugc_pay_preview': 0, 'no_background': 0, 'clean_mode': 0, 'is_stein_gate': 0, 'is_360': 0, 'no_share': 0}, 'owner': {'mid': 660303135, 'name': '摸鱼Script', 'face': 'http://i0.hdslb.com/bfs/face/99895125d7ea820dc13f15b499b5c9b73dd576de.jpg'}, 'stat': {'aid': 805381915, 'view': 1416, 'danmaku': 1, 'reply': 21, 'favorite': 80, 'coin': 119, 'share': 6, 'now_rank': 0, 'his_rank': 0, 'like': 138, 'dislike': 0, 'evaluation': '', 'argue_msg': ''}, 'dynamic': '', 'cid': 405485483, 'dimension': {'width': 1920, 'height': 1080, 'rotate': 0}, 'no_cache': False, 'pages': [{'cid': 405485483, 'page': 1, 'from': 'vupload', 'part': '正片', 'duration': 260, 'vid': '', 'weblink': '', 'dimension': {'width': 1920, 'height': 1080, 'rotate': 0}, 'first_frame': 'http://i0.hdslb.com/bfs/storyff/n21090913syb4moa46n1x2b39m76a4ff_firsti.jpg'}, {'cid': 405485576, 'page': 2, 'from': 'vupload', 'part': '制作过程', 'duration': 1576, 'vid': '', 'weblink': '', 'dimension': {'width': 1920, 'height': 1080, 'rotate': 0}, 'first_frame': 'http://i2.hdslb.com/bfs/storyff/n210909133t1vu4h5bjiux3bn3n24qob_firsti.jpg'}], 'subtitle': {'allow_submit': False, 'list': []}, 'user_garb': {'url_image_ani_cut': ''}, 'honor_reply': {}}\n"
          ]
        }
      ]
    }
  ]
}