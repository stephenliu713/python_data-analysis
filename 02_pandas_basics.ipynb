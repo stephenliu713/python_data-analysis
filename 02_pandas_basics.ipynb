{
  "nbformat": 4,
  "nbformat_minor": 0,
  "metadata": {
    "colab": {
      "name": "02_pandas basics.ipynb",
      "provenance": [],
      "collapsed_sections": [
        "wLHj2o14obbU"
      ],
      "authorship_tag": "ABX9TyPHDf8TAmsDuNXXWCutZ81j",
      "include_colab_link": true
    },
    "kernelspec": {
      "name": "python3",
      "display_name": "Python 3"
    },
    "language_info": {
      "name": "python"
    }
  },
  "cells": [
    {
      "cell_type": "markdown",
      "metadata": {
        "id": "view-in-github",
        "colab_type": "text"
      },
      "source": [
        "<a href=\"https://colab.research.google.com/github/stephenliu713/python_data-analysis/blob/main/02_pandas_basics.ipynb\" target=\"_parent\"><img src=\"https://colab.research.google.com/assets/colab-badge.svg\" alt=\"Open In Colab\"/></a>"
      ]
    },
    {
      "cell_type": "markdown",
      "metadata": {
        "id": "9ZWkrO-IqtMZ"
      },
      "source": [
        "所需文件: `data/supplier_data.csv`, `data/debt.xlsx`"
      ]
    },
    {
      "cell_type": "markdown",
      "metadata": {
        "id": "dcc9_0C8uddW"
      },
      "source": [
        "# 0. pandas - 数据分析的神器\n",
        "> Pandas是一个强大的分析结构化数据的工具集；它的使用基础是Numpy（提供高性能的矩阵运算）；用于数据挖掘和数据分析，同时也提供数据清洗功能。\n",
        "\n",
        "pandas库是数据分析最常用也是功能最强大的一个库。由于篇幅所限，我们这里只展示pandas中的部分函数的部分功能，完整的函数和更多的功能请参考[pandas官方技术文档](https://pandas.pydata.org/docs/)"
      ]
    },
    {
      "cell_type": "code",
      "metadata": {
        "id": "Wau9foj4xVuI"
      },
      "source": [
        "import pandas as pd"
      ],
      "execution_count": null,
      "outputs": []
    },
    {
      "cell_type": "markdown",
      "metadata": {
        "id": "v0xkvU_zzgTN"
      },
      "source": [
        "# 1. pandas中的数据类型：`DataFrame`与`Series`\n",
        "\n",
        "pandas中主要构建两种类型的数据：`Series`和`DataFrame`。\n",
        "\n",
        "`DataFrame`简单理解就是一种panda格式的表格，它和我们平常看到的表格一样也有列、行、单元格等等。`Series`可以理解为只有一列的`DataFrame`。因此我们先重点来说`DataFrame`。\n",
        "\n",
        "比起枯燥的概念，不如我们直接动手构建一个简单的`DataFrame`。"
      ]
    },
    {
      "cell_type": "markdown",
      "metadata": {
        "id": "WJi6LvMP0izo"
      },
      "source": [
        "## 1.1 `DataFrame`的初始化"
      ]
    },
    {
      "cell_type": "markdown",
      "metadata": {
        "id": "kLd8-G2H0sgy"
      },
      "source": [
        "首先我们先来初始化一个简单的字典。"
      ]
    },
    {
      "cell_type": "code",
      "metadata": {
        "colab": {
          "base_uri": "https://localhost:8080/"
        },
        "id": "9Ctaa3QN0pT_",
        "outputId": "44677ee3-78e5-462a-bc5d-9f417ff2c4c6"
      },
      "source": [
        "dict_data = {'year': [1990, 1995, 2000, 2005 ],\n",
        "             'gdp':[5.9, 7.6, 10.2, 13.0], \n",
        "             'cons':[3.8, 4.9, 6.8, 8.7]}\n",
        "dict_data"
      ],
      "execution_count": null,
      "outputs": [
        {
          "output_type": "execute_result",
          "data": {
            "text/plain": [
              "{'cons': [3.8, 4.9, 6.8, 8.7],\n",
              " 'gdp': [5.9, 7.6, 10.2, 13.0],\n",
              " 'year': [1990, 1995, 2000, 2005]}"
            ]
          },
          "metadata": {},
          "execution_count": 1
        }
      ]
    },
    {
      "cell_type": "markdown",
      "metadata": {
        "id": "8urjiZCr06yb"
      },
      "source": [
        "pandas可以将`dict`直接转化为`DataFrame`类型。其实你已经可以把这个字典想象成拥有3列4行的一张表，列名为`year`,`gdp`,`cons`。事实上pandas也确实是这么做的。\n",
        "\n",
        "下面我们就来用一行代码初始化一个`DataFrame`。"
      ]
    },
    {
      "cell_type": "code",
      "metadata": {
        "colab": {
          "base_uri": "https://localhost:8080/",
          "height": 172
        },
        "id": "Zz-wT6Iy1kCh",
        "outputId": "19facb7e-13f7-4b56-93e6-ba72b1a8323e"
      },
      "source": [
        "df_data = pd.DataFrame(dict_data)\n",
        "df_data"
      ],
      "execution_count": null,
      "outputs": [
        {
          "output_type": "execute_result",
          "data": {
            "text/html": [
              "<div>\n",
              "<style scoped>\n",
              "    .dataframe tbody tr th:only-of-type {\n",
              "        vertical-align: middle;\n",
              "    }\n",
              "\n",
              "    .dataframe tbody tr th {\n",
              "        vertical-align: top;\n",
              "    }\n",
              "\n",
              "    .dataframe thead th {\n",
              "        text-align: right;\n",
              "    }\n",
              "</style>\n",
              "<table border=\"1\" class=\"dataframe\">\n",
              "  <thead>\n",
              "    <tr style=\"text-align: right;\">\n",
              "      <th></th>\n",
              "      <th>year</th>\n",
              "      <th>gdp</th>\n",
              "      <th>cons</th>\n",
              "    </tr>\n",
              "  </thead>\n",
              "  <tbody>\n",
              "    <tr>\n",
              "      <th>0</th>\n",
              "      <td>1990</td>\n",
              "      <td>5.9</td>\n",
              "      <td>3.8</td>\n",
              "    </tr>\n",
              "    <tr>\n",
              "      <th>1</th>\n",
              "      <td>1995</td>\n",
              "      <td>7.6</td>\n",
              "      <td>4.9</td>\n",
              "    </tr>\n",
              "    <tr>\n",
              "      <th>2</th>\n",
              "      <td>2000</td>\n",
              "      <td>10.2</td>\n",
              "      <td>6.8</td>\n",
              "    </tr>\n",
              "    <tr>\n",
              "      <th>3</th>\n",
              "      <td>2005</td>\n",
              "      <td>13.0</td>\n",
              "      <td>8.7</td>\n",
              "    </tr>\n",
              "  </tbody>\n",
              "</table>\n",
              "</div>"
            ],
            "text/plain": [
              "   year   gdp  cons\n",
              "0  1990   5.9   3.8\n",
              "1  1995   7.6   4.9\n",
              "2  2000  10.2   6.8\n",
              "3  2005  13.0   8.7"
            ]
          },
          "metadata": {},
          "execution_count": 4
        }
      ]
    },
    {
      "cell_type": "markdown",
      "metadata": {
        "id": "1NfaGCRj7DCX"
      },
      "source": [
        "你可以很简单的从这个表格中单独读取某一列。"
      ]
    },
    {
      "cell_type": "code",
      "metadata": {
        "colab": {
          "base_uri": "https://localhost:8080/"
        },
        "id": "UMPxXuFD7IzZ",
        "outputId": "e97e8f10-7d1f-4116-d27a-6b8efe122448"
      },
      "source": [
        "df_data['year']"
      ],
      "execution_count": null,
      "outputs": [
        {
          "output_type": "execute_result",
          "data": {
            "text/plain": [
              "0    1990\n",
              "1    1995\n",
              "2    2000\n",
              "3    2005\n",
              "Name: year, dtype: int64"
            ]
          },
          "metadata": {},
          "execution_count": 21
        }
      ]
    },
    {
      "cell_type": "markdown",
      "metadata": {
        "id": "TZvUbpwA2AdX"
      },
      "source": [
        "当然，你也可以创建一个空`DataFrame`"
      ]
    },
    {
      "cell_type": "code",
      "metadata": {
        "colab": {
          "base_uri": "https://localhost:8080/",
          "height": 32
        },
        "id": "9GSH7Ghw2GWH",
        "outputId": "56455655-fb4c-4626-df38-727a10753304"
      },
      "source": [
        "df1 = pd.DataFrame()\n",
        "df1"
      ],
      "execution_count": null,
      "outputs": [
        {
          "output_type": "execute_result",
          "data": {
            "text/html": [
              "<div>\n",
              "<style scoped>\n",
              "    .dataframe tbody tr th:only-of-type {\n",
              "        vertical-align: middle;\n",
              "    }\n",
              "\n",
              "    .dataframe tbody tr th {\n",
              "        vertical-align: top;\n",
              "    }\n",
              "\n",
              "    .dataframe thead th {\n",
              "        text-align: right;\n",
              "    }\n",
              "</style>\n",
              "<table border=\"1\" class=\"dataframe\">\n",
              "  <thead>\n",
              "    <tr style=\"text-align: right;\">\n",
              "      <th></th>\n",
              "    </tr>\n",
              "  </thead>\n",
              "  <tbody>\n",
              "  </tbody>\n",
              "</table>\n",
              "</div>"
            ],
            "text/plain": [
              "Empty DataFrame\n",
              "Columns: []\n",
              "Index: []"
            ]
          },
          "metadata": {},
          "execution_count": 7
        }
      ]
    },
    {
      "cell_type": "markdown",
      "metadata": {
        "id": "yec5MLmw2Mar"
      },
      "source": [
        "不过更多时候，我们是用pandas从csv、Excel或其他格式的文件中读取`DataFrame`格式的数据（稍后讲到）"
      ]
    },
    {
      "cell_type": "markdown",
      "metadata": {
        "id": "pzm2kei82ZEV"
      },
      "source": [
        "## 1.2 `DataFrame`的大小 `df.size`, `df.shape`"
      ]
    },
    {
      "cell_type": "markdown",
      "metadata": {
        "id": "feZyUBBC2kRe"
      },
      "source": [
        "还是以刚才的gdp数据为例。这是一个3列4行的表格。"
      ]
    },
    {
      "cell_type": "code",
      "metadata": {
        "colab": {
          "base_uri": "https://localhost:8080/",
          "height": 172
        },
        "id": "-Hf7PQrD2qm_",
        "outputId": "c3fc3a62-f2ff-4b56-e38c-fdd184d2d69e"
      },
      "source": [
        "df_data"
      ],
      "execution_count": null,
      "outputs": [
        {
          "output_type": "execute_result",
          "data": {
            "text/html": [
              "<div>\n",
              "<style scoped>\n",
              "    .dataframe tbody tr th:only-of-type {\n",
              "        vertical-align: middle;\n",
              "    }\n",
              "\n",
              "    .dataframe tbody tr th {\n",
              "        vertical-align: top;\n",
              "    }\n",
              "\n",
              "    .dataframe thead th {\n",
              "        text-align: right;\n",
              "    }\n",
              "</style>\n",
              "<table border=\"1\" class=\"dataframe\">\n",
              "  <thead>\n",
              "    <tr style=\"text-align: right;\">\n",
              "      <th></th>\n",
              "      <th>year</th>\n",
              "      <th>gdp</th>\n",
              "      <th>cons</th>\n",
              "    </tr>\n",
              "  </thead>\n",
              "  <tbody>\n",
              "    <tr>\n",
              "      <th>0</th>\n",
              "      <td>1990</td>\n",
              "      <td>5.9</td>\n",
              "      <td>3.8</td>\n",
              "    </tr>\n",
              "    <tr>\n",
              "      <th>1</th>\n",
              "      <td>1995</td>\n",
              "      <td>7.6</td>\n",
              "      <td>4.9</td>\n",
              "    </tr>\n",
              "    <tr>\n",
              "      <th>2</th>\n",
              "      <td>2000</td>\n",
              "      <td>10.2</td>\n",
              "      <td>6.8</td>\n",
              "    </tr>\n",
              "    <tr>\n",
              "      <th>3</th>\n",
              "      <td>2005</td>\n",
              "      <td>13.0</td>\n",
              "      <td>8.7</td>\n",
              "    </tr>\n",
              "  </tbody>\n",
              "</table>\n",
              "</div>"
            ],
            "text/plain": [
              "   year   gdp  cons\n",
              "0  1990   5.9   3.8\n",
              "1  1995   7.6   4.9\n",
              "2  2000  10.2   6.8\n",
              "3  2005  13.0   8.7"
            ]
          },
          "metadata": {},
          "execution_count": 8
        }
      ]
    },
    {
      "cell_type": "markdown",
      "metadata": {
        "id": "cXZRwYES2uab"
      },
      "source": [
        "我们用`df.shape`和`df.size`函数读取`df`的大小"
      ]
    },
    {
      "cell_type": "code",
      "metadata": {
        "colab": {
          "base_uri": "https://localhost:8080/"
        },
        "id": "vQ9acn91275c",
        "outputId": "d9b238d9-5205-4a46-8a8e-c04d7bd62fa4"
      },
      "source": [
        "df_data.shape"
      ],
      "execution_count": null,
      "outputs": [
        {
          "output_type": "execute_result",
          "data": {
            "text/plain": [
              "(4, 3)"
            ]
          },
          "metadata": {},
          "execution_count": 10
        }
      ]
    },
    {
      "cell_type": "code",
      "metadata": {
        "colab": {
          "base_uri": "https://localhost:8080/"
        },
        "id": "0jTMiYYP3Duj",
        "outputId": "71ff3657-2f44-4a56-8879-4e3b2d8c4086"
      },
      "source": [
        "df_data.size"
      ],
      "execution_count": null,
      "outputs": [
        {
          "output_type": "execute_result",
          "data": {
            "text/plain": [
              "12"
            ]
          },
          "metadata": {},
          "execution_count": 11
        }
      ]
    },
    {
      "cell_type": "markdown",
      "metadata": {
        "id": "I1ZRiysj4LJf"
      },
      "source": [
        "## 1.3 `Series`与`DataFrame`\n",
        "\n",
        "####区别：\n",
        "* `Series`，只是一个一维数据结构，它由index和value组成。\n",
        "\n",
        "* `DataFrame`，是一个二维结构，除了拥有index和value之外，还拥有column。\n",
        "\n",
        "####联系：\n",
        "\n",
        "* `DataFrame`由多个`Series`组成，无论是行还是列，单独拆分出来都是一个`Series`。\n"
      ]
    },
    {
      "cell_type": "code",
      "metadata": {
        "colab": {
          "base_uri": "https://localhost:8080/",
          "height": 172
        },
        "id": "qTE7nvgc4voN",
        "outputId": "417061f0-a36b-48e5-d919-85909d4c0a1b"
      },
      "source": [
        "df_data"
      ],
      "execution_count": null,
      "outputs": [
        {
          "output_type": "execute_result",
          "data": {
            "text/html": [
              "<div>\n",
              "<style scoped>\n",
              "    .dataframe tbody tr th:only-of-type {\n",
              "        vertical-align: middle;\n",
              "    }\n",
              "\n",
              "    .dataframe tbody tr th {\n",
              "        vertical-align: top;\n",
              "    }\n",
              "\n",
              "    .dataframe thead th {\n",
              "        text-align: right;\n",
              "    }\n",
              "</style>\n",
              "<table border=\"1\" class=\"dataframe\">\n",
              "  <thead>\n",
              "    <tr style=\"text-align: right;\">\n",
              "      <th></th>\n",
              "      <th>year</th>\n",
              "      <th>gdp</th>\n",
              "      <th>cons</th>\n",
              "    </tr>\n",
              "  </thead>\n",
              "  <tbody>\n",
              "    <tr>\n",
              "      <th>0</th>\n",
              "      <td>1990</td>\n",
              "      <td>5.9</td>\n",
              "      <td>3.8</td>\n",
              "    </tr>\n",
              "    <tr>\n",
              "      <th>1</th>\n",
              "      <td>1995</td>\n",
              "      <td>7.6</td>\n",
              "      <td>4.9</td>\n",
              "    </tr>\n",
              "    <tr>\n",
              "      <th>2</th>\n",
              "      <td>2000</td>\n",
              "      <td>10.2</td>\n",
              "      <td>6.8</td>\n",
              "    </tr>\n",
              "    <tr>\n",
              "      <th>3</th>\n",
              "      <td>2005</td>\n",
              "      <td>13.0</td>\n",
              "      <td>8.7</td>\n",
              "    </tr>\n",
              "  </tbody>\n",
              "</table>\n",
              "</div>"
            ],
            "text/plain": [
              "   year   gdp  cons\n",
              "0  1990   5.9   3.8\n",
              "1  1995   7.6   4.9\n",
              "2  2000  10.2   6.8\n",
              "3  2005  13.0   8.7"
            ]
          },
          "metadata": {},
          "execution_count": 12
        }
      ]
    },
    {
      "cell_type": "code",
      "metadata": {
        "colab": {
          "base_uri": "https://localhost:8080/"
        },
        "id": "p8ibvHJf40iU",
        "outputId": "4b6f1472-036a-4cb3-f1da-13ed601b90e6"
      },
      "source": [
        "df_data['gdp']"
      ],
      "execution_count": null,
      "outputs": [
        {
          "output_type": "execute_result",
          "data": {
            "text/plain": [
              "0     5.9\n",
              "1     7.6\n",
              "2    10.2\n",
              "3    13.0\n",
              "Name: gdp, dtype: float64"
            ]
          },
          "metadata": {},
          "execution_count": 13
        }
      ]
    },
    {
      "cell_type": "code",
      "metadata": {
        "colab": {
          "base_uri": "https://localhost:8080/"
        },
        "id": "Kl-qmXRQ47Xz",
        "outputId": "2a1f92d1-eff3-45ce-aba6-a11b9e79f423"
      },
      "source": [
        "type(df_data)"
      ],
      "execution_count": null,
      "outputs": [
        {
          "output_type": "execute_result",
          "data": {
            "text/plain": [
              "pandas.core.frame.DataFrame"
            ]
          },
          "metadata": {},
          "execution_count": 14
        }
      ]
    },
    {
      "cell_type": "code",
      "metadata": {
        "colab": {
          "base_uri": "https://localhost:8080/"
        },
        "id": "4lWL862L5CT0",
        "outputId": "79f3956d-8dda-4716-b923-72369fed2f42"
      },
      "source": [
        "type(df_data['gdp'])"
      ],
      "execution_count": null,
      "outputs": [
        {
          "output_type": "execute_result",
          "data": {
            "text/plain": [
              "pandas.core.series.Series"
            ]
          },
          "metadata": {},
          "execution_count": 15
        }
      ]
    },
    {
      "cell_type": "markdown",
      "metadata": {
        "id": "jc7h0AzX5izt"
      },
      "source": [
        "## 1.4 读取列名columns names与索引index `df.columns`,`df.index`"
      ]
    },
    {
      "cell_type": "code",
      "metadata": {
        "colab": {
          "base_uri": "https://localhost:8080/"
        },
        "id": "Qoguk9I35rje",
        "outputId": "a20bf84d-cd76-4f30-ee26-b6e70c86b2f0"
      },
      "source": [
        "df_data.columns"
      ],
      "execution_count": null,
      "outputs": [
        {
          "output_type": "execute_result",
          "data": {
            "text/plain": [
              "Index(['year', 'gdp', 'cons'], dtype='object')"
            ]
          },
          "metadata": {},
          "execution_count": 16
        }
      ]
    },
    {
      "cell_type": "code",
      "metadata": {
        "colab": {
          "base_uri": "https://localhost:8080/"
        },
        "id": "ja6uZeEi5xQi",
        "outputId": "9ed4f348-cdc8-4fe6-d12d-c460a80866ad"
      },
      "source": [
        "type(df_data.columns)"
      ],
      "execution_count": null,
      "outputs": [
        {
          "output_type": "execute_result",
          "data": {
            "text/plain": [
              "pandas.core.indexes.base.Index"
            ]
          },
          "metadata": {},
          "execution_count": 17
        }
      ]
    },
    {
      "cell_type": "code",
      "metadata": {
        "colab": {
          "base_uri": "https://localhost:8080/"
        },
        "id": "48n0Poda581D",
        "outputId": "7b716809-c2a9-4749-8e44-65ece8942a48"
      },
      "source": [
        "df_data.index"
      ],
      "execution_count": null,
      "outputs": [
        {
          "output_type": "execute_result",
          "data": {
            "text/plain": [
              "RangeIndex(start=0, stop=4, step=1)"
            ]
          },
          "metadata": {},
          "execution_count": 18
        }
      ]
    },
    {
      "cell_type": "code",
      "metadata": {
        "colab": {
          "base_uri": "https://localhost:8080/"
        },
        "id": "aojZbISe6B9v",
        "outputId": "b807c1d6-47bc-46e8-c14d-919c0739670c"
      },
      "source": [
        "type(df_data.index)"
      ],
      "execution_count": null,
      "outputs": [
        {
          "output_type": "execute_result",
          "data": {
            "text/plain": [
              "pandas.core.indexes.range.RangeIndex"
            ]
          },
          "metadata": {},
          "execution_count": 19
        }
      ]
    },
    {
      "cell_type": "markdown",
      "metadata": {
        "id": "lmTMjdnt6X2v"
      },
      "source": [
        "## 1.5 读取df各列的数据类型"
      ]
    },
    {
      "cell_type": "code",
      "metadata": {
        "colab": {
          "base_uri": "https://localhost:8080/"
        },
        "id": "QcWpVBLL6ba4",
        "outputId": "9f7fdad6-3a79-48d0-9125-07c59f7ef25e"
      },
      "source": [
        "df_data.dtypes"
      ],
      "execution_count": null,
      "outputs": [
        {
          "output_type": "execute_result",
          "data": {
            "text/plain": [
              "year      int64\n",
              "gdp     float64\n",
              "cons    float64\n",
              "dtype: object"
            ]
          },
          "metadata": {},
          "execution_count": 20
        }
      ]
    },
    {
      "cell_type": "markdown",
      "metadata": {
        "id": "wi5MJ8tv7O_S"
      },
      "source": [
        "## 1.6 读取多列 columns"
      ]
    },
    {
      "cell_type": "markdown",
      "metadata": {
        "id": "CCoOIgL57ftr"
      },
      "source": [
        "我们可以一次读取多列，只要将目标列合并为一个list（相当于一个子集）。"
      ]
    },
    {
      "cell_type": "code",
      "metadata": {
        "colab": {
          "base_uri": "https://localhost:8080/",
          "height": 172
        },
        "id": "xBrRnl-o7e3I",
        "outputId": "6cbab148-40bc-4ba4-86f1-6c4ec5f8c188"
      },
      "source": [
        "df_data[['year','gdp']]"
      ],
      "execution_count": null,
      "outputs": [
        {
          "output_type": "execute_result",
          "data": {
            "text/html": [
              "<div>\n",
              "<style scoped>\n",
              "    .dataframe tbody tr th:only-of-type {\n",
              "        vertical-align: middle;\n",
              "    }\n",
              "\n",
              "    .dataframe tbody tr th {\n",
              "        vertical-align: top;\n",
              "    }\n",
              "\n",
              "    .dataframe thead th {\n",
              "        text-align: right;\n",
              "    }\n",
              "</style>\n",
              "<table border=\"1\" class=\"dataframe\">\n",
              "  <thead>\n",
              "    <tr style=\"text-align: right;\">\n",
              "      <th></th>\n",
              "      <th>year</th>\n",
              "      <th>gdp</th>\n",
              "    </tr>\n",
              "  </thead>\n",
              "  <tbody>\n",
              "    <tr>\n",
              "      <th>0</th>\n",
              "      <td>1990</td>\n",
              "      <td>5.9</td>\n",
              "    </tr>\n",
              "    <tr>\n",
              "      <th>1</th>\n",
              "      <td>1995</td>\n",
              "      <td>7.6</td>\n",
              "    </tr>\n",
              "    <tr>\n",
              "      <th>2</th>\n",
              "      <td>2000</td>\n",
              "      <td>10.2</td>\n",
              "    </tr>\n",
              "    <tr>\n",
              "      <th>3</th>\n",
              "      <td>2005</td>\n",
              "      <td>13.0</td>\n",
              "    </tr>\n",
              "  </tbody>\n",
              "</table>\n",
              "</div>"
            ],
            "text/plain": [
              "   year   gdp\n",
              "0  1990   5.9\n",
              "1  1995   7.6\n",
              "2  2000  10.2\n",
              "3  2005  13.0"
            ]
          },
          "metadata": {},
          "execution_count": 22
        }
      ]
    },
    {
      "cell_type": "markdown",
      "metadata": {
        "id": "7BA3cK4q7vLf"
      },
      "source": [
        "## 1.7 列 columns的重命名 `df.rename(columns={oldname:newname})`\n"
      ]
    },
    {
      "cell_type": "code",
      "metadata": {
        "colab": {
          "base_uri": "https://localhost:8080/",
          "height": 172
        },
        "id": "xShj_-rw70wH",
        "outputId": "d3eb6434-5b45-433f-c93d-2fe77730b934"
      },
      "source": [
        "df_data_2 = df_data.rename(columns={'gdp':'gross domestic product'})\n",
        "df_data_2"
      ],
      "execution_count": null,
      "outputs": [
        {
          "output_type": "execute_result",
          "data": {
            "text/html": [
              "<div>\n",
              "<style scoped>\n",
              "    .dataframe tbody tr th:only-of-type {\n",
              "        vertical-align: middle;\n",
              "    }\n",
              "\n",
              "    .dataframe tbody tr th {\n",
              "        vertical-align: top;\n",
              "    }\n",
              "\n",
              "    .dataframe thead th {\n",
              "        text-align: right;\n",
              "    }\n",
              "</style>\n",
              "<table border=\"1\" class=\"dataframe\">\n",
              "  <thead>\n",
              "    <tr style=\"text-align: right;\">\n",
              "      <th></th>\n",
              "      <th>year</th>\n",
              "      <th>gross domestic product</th>\n",
              "      <th>cons</th>\n",
              "    </tr>\n",
              "  </thead>\n",
              "  <tbody>\n",
              "    <tr>\n",
              "      <th>0</th>\n",
              "      <td>1990</td>\n",
              "      <td>5.9</td>\n",
              "      <td>3.8</td>\n",
              "    </tr>\n",
              "    <tr>\n",
              "      <th>1</th>\n",
              "      <td>1995</td>\n",
              "      <td>7.6</td>\n",
              "      <td>4.9</td>\n",
              "    </tr>\n",
              "    <tr>\n",
              "      <th>2</th>\n",
              "      <td>2000</td>\n",
              "      <td>10.2</td>\n",
              "      <td>6.8</td>\n",
              "    </tr>\n",
              "    <tr>\n",
              "      <th>3</th>\n",
              "      <td>2005</td>\n",
              "      <td>13.0</td>\n",
              "      <td>8.7</td>\n",
              "    </tr>\n",
              "  </tbody>\n",
              "</table>\n",
              "</div>"
            ],
            "text/plain": [
              "   year  gross domestic product  cons\n",
              "0  1990                     5.9   3.8\n",
              "1  1995                     7.6   4.9\n",
              "2  2000                    10.2   6.8\n",
              "3  2005                    13.0   8.7"
            ]
          },
          "metadata": {},
          "execution_count": 23
        }
      ]
    },
    {
      "cell_type": "code",
      "metadata": {
        "colab": {
          "base_uri": "https://localhost:8080/",
          "height": 172
        },
        "id": "0Fab_Omf8uG5",
        "outputId": "ef8346f0-1a64-4650-acdb-8a9d361cb52a"
      },
      "source": [
        "# 原来的df并没有改变\n",
        "df_data"
      ],
      "execution_count": null,
      "outputs": [
        {
          "output_type": "execute_result",
          "data": {
            "text/html": [
              "<div>\n",
              "<style scoped>\n",
              "    .dataframe tbody tr th:only-of-type {\n",
              "        vertical-align: middle;\n",
              "    }\n",
              "\n",
              "    .dataframe tbody tr th {\n",
              "        vertical-align: top;\n",
              "    }\n",
              "\n",
              "    .dataframe thead th {\n",
              "        text-align: right;\n",
              "    }\n",
              "</style>\n",
              "<table border=\"1\" class=\"dataframe\">\n",
              "  <thead>\n",
              "    <tr style=\"text-align: right;\">\n",
              "      <th></th>\n",
              "      <th>year</th>\n",
              "      <th>gdp</th>\n",
              "      <th>cons</th>\n",
              "    </tr>\n",
              "  </thead>\n",
              "  <tbody>\n",
              "    <tr>\n",
              "      <th>0</th>\n",
              "      <td>1990</td>\n",
              "      <td>5.9</td>\n",
              "      <td>3.8</td>\n",
              "    </tr>\n",
              "    <tr>\n",
              "      <th>1</th>\n",
              "      <td>1995</td>\n",
              "      <td>7.6</td>\n",
              "      <td>4.9</td>\n",
              "    </tr>\n",
              "    <tr>\n",
              "      <th>2</th>\n",
              "      <td>2000</td>\n",
              "      <td>10.2</td>\n",
              "      <td>6.8</td>\n",
              "    </tr>\n",
              "    <tr>\n",
              "      <th>3</th>\n",
              "      <td>2005</td>\n",
              "      <td>13.0</td>\n",
              "      <td>8.7</td>\n",
              "    </tr>\n",
              "  </tbody>\n",
              "</table>\n",
              "</div>"
            ],
            "text/plain": [
              "   year   gdp  cons\n",
              "0  1990   5.9   3.8\n",
              "1  1995   7.6   4.9\n",
              "2  2000  10.2   6.8\n",
              "3  2005  13.0   8.7"
            ]
          },
          "metadata": {},
          "execution_count": 24
        }
      ]
    },
    {
      "cell_type": "markdown",
      "metadata": {
        "id": "Nbyte9po9gA8"
      },
      "source": [
        "## 1.8 条件筛选 `df[df[column]==value]`"
      ]
    },
    {
      "cell_type": "code",
      "metadata": {
        "colab": {
          "base_uri": "https://localhost:8080/",
          "height": 80
        },
        "id": "AhOYeXql9whK",
        "outputId": "4f9ed1c5-a732-4d76-b836-4c36b142050d"
      },
      "source": [
        "df_data[df_data['year']==2000]"
      ],
      "execution_count": null,
      "outputs": [
        {
          "output_type": "execute_result",
          "data": {
            "text/html": [
              "<div>\n",
              "<style scoped>\n",
              "    .dataframe tbody tr th:only-of-type {\n",
              "        vertical-align: middle;\n",
              "    }\n",
              "\n",
              "    .dataframe tbody tr th {\n",
              "        vertical-align: top;\n",
              "    }\n",
              "\n",
              "    .dataframe thead th {\n",
              "        text-align: right;\n",
              "    }\n",
              "</style>\n",
              "<table border=\"1\" class=\"dataframe\">\n",
              "  <thead>\n",
              "    <tr style=\"text-align: right;\">\n",
              "      <th></th>\n",
              "      <th>year</th>\n",
              "      <th>gdp</th>\n",
              "      <th>cons</th>\n",
              "    </tr>\n",
              "  </thead>\n",
              "  <tbody>\n",
              "    <tr>\n",
              "      <th>2</th>\n",
              "      <td>2000</td>\n",
              "      <td>10.2</td>\n",
              "      <td>6.8</td>\n",
              "    </tr>\n",
              "  </tbody>\n",
              "</table>\n",
              "</div>"
            ],
            "text/plain": [
              "   year   gdp  cons\n",
              "2  2000  10.2   6.8"
            ]
          },
          "metadata": {},
          "execution_count": 26
        }
      ]
    },
    {
      "cell_type": "code",
      "metadata": {
        "colab": {
          "base_uri": "https://localhost:8080/"
        },
        "id": "MX4FpVS7ACHi",
        "outputId": "873d9bae-e528-4fa9-c0d3-3f68840739ac"
      },
      "source": [
        "type(df_data[df_data['year']==2000])"
      ],
      "execution_count": null,
      "outputs": [
        {
          "output_type": "execute_result",
          "data": {
            "text/plain": [
              "pandas.core.frame.DataFrame"
            ]
          },
          "metadata": {},
          "execution_count": 29
        }
      ]
    },
    {
      "cell_type": "markdown",
      "metadata": {
        "id": "i34x24Kc848J"
      },
      "source": [
        "## 1.9 精确坐标筛选 `df.iloc[rowNum, colNum]`"
      ]
    },
    {
      "cell_type": "markdown",
      "metadata": {
        "id": "OyUBtzwU_4zs"
      },
      "source": [
        "你必须给出准确的数字坐标（或坐标范围）。"
      ]
    },
    {
      "cell_type": "code",
      "metadata": {
        "colab": {
          "base_uri": "https://localhost:8080/"
        },
        "id": "-YDNm9Xs9N4h",
        "outputId": "e60979c6-344c-4366-ea09-f2ae08687a82"
      },
      "source": [
        "# 读取第三行，所有列\n",
        "df_data.iloc[2,:]"
      ],
      "execution_count": null,
      "outputs": [
        {
          "output_type": "execute_result",
          "data": {
            "text/plain": [
              "year    2000.0\n",
              "gdp       10.2\n",
              "cons       6.8\n",
              "Name: 2, dtype: float64"
            ]
          },
          "metadata": {},
          "execution_count": 25
        }
      ]
    },
    {
      "cell_type": "code",
      "metadata": {
        "colab": {
          "base_uri": "https://localhost:8080/"
        },
        "id": "uYqRmio3-AdY",
        "outputId": "aec05aad-36fd-4896-d5df-f64994364579"
      },
      "source": [
        "type(df_data[df_data['year']==2000])"
      ],
      "execution_count": null,
      "outputs": [
        {
          "output_type": "execute_result",
          "data": {
            "text/plain": [
              "pandas.core.frame.DataFrame"
            ]
          },
          "metadata": {},
          "execution_count": 27
        }
      ]
    },
    {
      "cell_type": "markdown",
      "metadata": {
        "id": "PlR1k2U7-JuN"
      },
      "source": [
        "## 1.10 改变索引index `df.set_index(newIdx)`"
      ]
    },
    {
      "cell_type": "markdown",
      "metadata": {
        "id": "RysjD-kY-jQK"
      },
      "source": [
        "pandas中默认的索引是从0开始的数字排序，但是你可以改变这一点——你可以选取一列或者多列（后续章节）作为索引index列。"
      ]
    },
    {
      "cell_type": "code",
      "metadata": {
        "colab": {
          "base_uri": "https://localhost:8080/",
          "height": 203
        },
        "id": "FmZuua6F-Tvc",
        "outputId": "c2df5b75-a6cd-412e-eb81-90972532b768"
      },
      "source": [
        "df_data_3 = df_data.set_index('year')\n",
        "df_data_3"
      ],
      "execution_count": null,
      "outputs": [
        {
          "output_type": "execute_result",
          "data": {
            "text/html": [
              "<div>\n",
              "<style scoped>\n",
              "    .dataframe tbody tr th:only-of-type {\n",
              "        vertical-align: middle;\n",
              "    }\n",
              "\n",
              "    .dataframe tbody tr th {\n",
              "        vertical-align: top;\n",
              "    }\n",
              "\n",
              "    .dataframe thead th {\n",
              "        text-align: right;\n",
              "    }\n",
              "</style>\n",
              "<table border=\"1\" class=\"dataframe\">\n",
              "  <thead>\n",
              "    <tr style=\"text-align: right;\">\n",
              "      <th></th>\n",
              "      <th>gdp</th>\n",
              "      <th>cons</th>\n",
              "    </tr>\n",
              "    <tr>\n",
              "      <th>year</th>\n",
              "      <th></th>\n",
              "      <th></th>\n",
              "    </tr>\n",
              "  </thead>\n",
              "  <tbody>\n",
              "    <tr>\n",
              "      <th>1990</th>\n",
              "      <td>5.9</td>\n",
              "      <td>3.8</td>\n",
              "    </tr>\n",
              "    <tr>\n",
              "      <th>1995</th>\n",
              "      <td>7.6</td>\n",
              "      <td>4.9</td>\n",
              "    </tr>\n",
              "    <tr>\n",
              "      <th>2000</th>\n",
              "      <td>10.2</td>\n",
              "      <td>6.8</td>\n",
              "    </tr>\n",
              "    <tr>\n",
              "      <th>2005</th>\n",
              "      <td>13.0</td>\n",
              "      <td>8.7</td>\n",
              "    </tr>\n",
              "  </tbody>\n",
              "</table>\n",
              "</div>"
            ],
            "text/plain": [
              "       gdp  cons\n",
              "year            \n",
              "1990   5.9   3.8\n",
              "1995   7.6   4.9\n",
              "2000  10.2   6.8\n",
              "2005  13.0   8.7"
            ]
          },
          "metadata": {},
          "execution_count": 28
        }
      ]
    },
    {
      "cell_type": "markdown",
      "metadata": {
        "id": "WHpXcrU-_jcK"
      },
      "source": [
        "## 1.11 模糊坐标筛选 `df.loc[idxName]`\n",
        "\n",
        "模糊坐标筛选不需要像`iloc`那样给出准确数字坐标。在使用某一列作为index列时，使用loc查找往往很方便。"
      ]
    },
    {
      "cell_type": "code",
      "metadata": {
        "colab": {
          "base_uri": "https://localhost:8080/"
        },
        "id": "oEKm9sSA__xy",
        "outputId": "967ec267-b14d-4863-8a60-ed0c37d7f93e"
      },
      "source": [
        "df_data_3.loc[2000]"
      ],
      "execution_count": null,
      "outputs": [
        {
          "output_type": "execute_result",
          "data": {
            "text/plain": [
              "gdp     10.2\n",
              "cons     6.8\n",
              "Name: 2000, dtype: float64"
            ]
          },
          "metadata": {},
          "execution_count": 33
        }
      ]
    },
    {
      "cell_type": "markdown",
      "metadata": {
        "id": "fMUw5aNtA2ST"
      },
      "source": [
        "## 1.12 索引列index的重设 `df.reset_index()`"
      ]
    },
    {
      "cell_type": "code",
      "metadata": {
        "colab": {
          "base_uri": "https://localhost:8080/",
          "height": 172
        },
        "id": "vNn_nHCgBE3T",
        "outputId": "bf455bb2-a365-4ee9-980e-bc4b842f9e6d"
      },
      "source": [
        "df_data_3.reset_index()"
      ],
      "execution_count": null,
      "outputs": [
        {
          "output_type": "execute_result",
          "data": {
            "text/html": [
              "<div>\n",
              "<style scoped>\n",
              "    .dataframe tbody tr th:only-of-type {\n",
              "        vertical-align: middle;\n",
              "    }\n",
              "\n",
              "    .dataframe tbody tr th {\n",
              "        vertical-align: top;\n",
              "    }\n",
              "\n",
              "    .dataframe thead th {\n",
              "        text-align: right;\n",
              "    }\n",
              "</style>\n",
              "<table border=\"1\" class=\"dataframe\">\n",
              "  <thead>\n",
              "    <tr style=\"text-align: right;\">\n",
              "      <th></th>\n",
              "      <th>year</th>\n",
              "      <th>gdp</th>\n",
              "      <th>cons</th>\n",
              "    </tr>\n",
              "  </thead>\n",
              "  <tbody>\n",
              "    <tr>\n",
              "      <th>0</th>\n",
              "      <td>1990</td>\n",
              "      <td>5.9</td>\n",
              "      <td>3.8</td>\n",
              "    </tr>\n",
              "    <tr>\n",
              "      <th>1</th>\n",
              "      <td>1995</td>\n",
              "      <td>7.6</td>\n",
              "      <td>4.9</td>\n",
              "    </tr>\n",
              "    <tr>\n",
              "      <th>2</th>\n",
              "      <td>2000</td>\n",
              "      <td>10.2</td>\n",
              "      <td>6.8</td>\n",
              "    </tr>\n",
              "    <tr>\n",
              "      <th>3</th>\n",
              "      <td>2005</td>\n",
              "      <td>13.0</td>\n",
              "      <td>8.7</td>\n",
              "    </tr>\n",
              "  </tbody>\n",
              "</table>\n",
              "</div>"
            ],
            "text/plain": [
              "   year   gdp  cons\n",
              "0  1990   5.9   3.8\n",
              "1  1995   7.6   4.9\n",
              "2  2000  10.2   6.8\n",
              "3  2005  13.0   8.7"
            ]
          },
          "metadata": {},
          "execution_count": 38
        }
      ]
    },
    {
      "cell_type": "markdown",
      "metadata": {
        "id": "_CS6A8S7BRS_"
      },
      "source": [
        "## 1.13 行、列的删除 `df.drop(label,axis=0)`\n",
        "\n",
        "`label`:需要删除的行/列，可以是单个值，也可以是一个列表\n",
        "\n",
        "`axis`: 以列/行为基准进行删除: `index` -> 0, columns -> 1, 默认为0"
      ]
    },
    {
      "cell_type": "code",
      "metadata": {
        "colab": {
          "base_uri": "https://localhost:8080/",
          "height": 172
        },
        "id": "cQYGxpOMCL16",
        "outputId": "2f8473c5-e08f-4f2e-eab1-669e50137f9e"
      },
      "source": [
        "df_data.drop('year',axis=1)"
      ],
      "execution_count": null,
      "outputs": [
        {
          "output_type": "execute_result",
          "data": {
            "text/html": [
              "<div>\n",
              "<style scoped>\n",
              "    .dataframe tbody tr th:only-of-type {\n",
              "        vertical-align: middle;\n",
              "    }\n",
              "\n",
              "    .dataframe tbody tr th {\n",
              "        vertical-align: top;\n",
              "    }\n",
              "\n",
              "    .dataframe thead th {\n",
              "        text-align: right;\n",
              "    }\n",
              "</style>\n",
              "<table border=\"1\" class=\"dataframe\">\n",
              "  <thead>\n",
              "    <tr style=\"text-align: right;\">\n",
              "      <th></th>\n",
              "      <th>gdp</th>\n",
              "      <th>cons</th>\n",
              "    </tr>\n",
              "  </thead>\n",
              "  <tbody>\n",
              "    <tr>\n",
              "      <th>0</th>\n",
              "      <td>5.9</td>\n",
              "      <td>3.8</td>\n",
              "    </tr>\n",
              "    <tr>\n",
              "      <th>1</th>\n",
              "      <td>7.6</td>\n",
              "      <td>4.9</td>\n",
              "    </tr>\n",
              "    <tr>\n",
              "      <th>2</th>\n",
              "      <td>10.2</td>\n",
              "      <td>6.8</td>\n",
              "    </tr>\n",
              "    <tr>\n",
              "      <th>3</th>\n",
              "      <td>13.0</td>\n",
              "      <td>8.7</td>\n",
              "    </tr>\n",
              "  </tbody>\n",
              "</table>\n",
              "</div>"
            ],
            "text/plain": [
              "    gdp  cons\n",
              "0   5.9   3.8\n",
              "1   7.6   4.9\n",
              "2  10.2   6.8\n",
              "3  13.0   8.7"
            ]
          },
          "metadata": {},
          "execution_count": 36
        }
      ]
    },
    {
      "cell_type": "code",
      "metadata": {
        "colab": {
          "base_uri": "https://localhost:8080/",
          "height": 142
        },
        "id": "9kkEOPRqCsG8",
        "outputId": "2f5acbc9-a8fc-4200-ba9e-5de96da07437"
      },
      "source": [
        "df_data.drop(2,axis=0)"
      ],
      "execution_count": null,
      "outputs": [
        {
          "output_type": "execute_result",
          "data": {
            "text/html": [
              "<div>\n",
              "<style scoped>\n",
              "    .dataframe tbody tr th:only-of-type {\n",
              "        vertical-align: middle;\n",
              "    }\n",
              "\n",
              "    .dataframe tbody tr th {\n",
              "        vertical-align: top;\n",
              "    }\n",
              "\n",
              "    .dataframe thead th {\n",
              "        text-align: right;\n",
              "    }\n",
              "</style>\n",
              "<table border=\"1\" class=\"dataframe\">\n",
              "  <thead>\n",
              "    <tr style=\"text-align: right;\">\n",
              "      <th></th>\n",
              "      <th>year</th>\n",
              "      <th>gdp</th>\n",
              "      <th>cons</th>\n",
              "    </tr>\n",
              "  </thead>\n",
              "  <tbody>\n",
              "    <tr>\n",
              "      <th>0</th>\n",
              "      <td>1990</td>\n",
              "      <td>5.9</td>\n",
              "      <td>3.8</td>\n",
              "    </tr>\n",
              "    <tr>\n",
              "      <th>1</th>\n",
              "      <td>1995</td>\n",
              "      <td>7.6</td>\n",
              "      <td>4.9</td>\n",
              "    </tr>\n",
              "    <tr>\n",
              "      <th>3</th>\n",
              "      <td>2005</td>\n",
              "      <td>13.0</td>\n",
              "      <td>8.7</td>\n",
              "    </tr>\n",
              "  </tbody>\n",
              "</table>\n",
              "</div>"
            ],
            "text/plain": [
              "   year   gdp  cons\n",
              "0  1990   5.9   3.8\n",
              "1  1995   7.6   4.9\n",
              "3  2005  13.0   8.7"
            ]
          },
          "metadata": {},
          "execution_count": 39
        }
      ]
    },
    {
      "cell_type": "markdown",
      "metadata": {
        "id": "aaTPXIdfLcOM"
      },
      "source": [
        "# 2. `DataFrame`的计算"
      ]
    },
    {
      "cell_type": "markdown",
      "metadata": {
        "id": "FKEO9f-hLziz"
      },
      "source": [
        "## 2.1 简单四则运算\n",
        "df支持在列于列之间直接对应进行+,-,*,/的四则运算"
      ]
    },
    {
      "cell_type": "code",
      "metadata": {
        "colab": {
          "base_uri": "https://localhost:8080/",
          "height": 172
        },
        "id": "p38g2GJRMAEL",
        "outputId": "ba473acb-18db-4d08-fa0e-504358490094"
      },
      "source": [
        "df_data['cons_share'] = df_data['cons'] / df_data['gdp']\n",
        "df_data"
      ],
      "execution_count": null,
      "outputs": [
        {
          "output_type": "execute_result",
          "data": {
            "text/html": [
              "<div>\n",
              "<style scoped>\n",
              "    .dataframe tbody tr th:only-of-type {\n",
              "        vertical-align: middle;\n",
              "    }\n",
              "\n",
              "    .dataframe tbody tr th {\n",
              "        vertical-align: top;\n",
              "    }\n",
              "\n",
              "    .dataframe thead th {\n",
              "        text-align: right;\n",
              "    }\n",
              "</style>\n",
              "<table border=\"1\" class=\"dataframe\">\n",
              "  <thead>\n",
              "    <tr style=\"text-align: right;\">\n",
              "      <th></th>\n",
              "      <th>year</th>\n",
              "      <th>gdp</th>\n",
              "      <th>cons</th>\n",
              "      <th>cons_share</th>\n",
              "    </tr>\n",
              "  </thead>\n",
              "  <tbody>\n",
              "    <tr>\n",
              "      <th>0</th>\n",
              "      <td>1990</td>\n",
              "      <td>5.9</td>\n",
              "      <td>3.8</td>\n",
              "      <td>0.644068</td>\n",
              "    </tr>\n",
              "    <tr>\n",
              "      <th>1</th>\n",
              "      <td>1995</td>\n",
              "      <td>7.6</td>\n",
              "      <td>4.9</td>\n",
              "      <td>0.644737</td>\n",
              "    </tr>\n",
              "    <tr>\n",
              "      <th>2</th>\n",
              "      <td>2000</td>\n",
              "      <td>10.2</td>\n",
              "      <td>6.8</td>\n",
              "      <td>0.666667</td>\n",
              "    </tr>\n",
              "    <tr>\n",
              "      <th>3</th>\n",
              "      <td>2005</td>\n",
              "      <td>13.0</td>\n",
              "      <td>8.7</td>\n",
              "      <td>0.669231</td>\n",
              "    </tr>\n",
              "  </tbody>\n",
              "</table>\n",
              "</div>"
            ],
            "text/plain": [
              "   year   gdp  cons  cons_share\n",
              "0  1990   5.9   3.8    0.644068\n",
              "1  1995   7.6   4.9    0.644737\n",
              "2  2000  10.2   6.8    0.666667\n",
              "3  2005  13.0   8.7    0.669231"
            ]
          },
          "metadata": {},
          "execution_count": 5
        }
      ]
    },
    {
      "cell_type": "code",
      "metadata": {
        "colab": {
          "base_uri": "https://localhost:8080/",
          "height": 172
        },
        "id": "qdhnQGeVNEQ1",
        "outputId": "44eebd31-4283-4d50-b3a0-8ff8f846830b"
      },
      "source": [
        "df_data['cons_share'] = df_data['cons_share'] * 100\n",
        "df_data"
      ],
      "execution_count": null,
      "outputs": [
        {
          "output_type": "execute_result",
          "data": {
            "text/html": [
              "<div>\n",
              "<style scoped>\n",
              "    .dataframe tbody tr th:only-of-type {\n",
              "        vertical-align: middle;\n",
              "    }\n",
              "\n",
              "    .dataframe tbody tr th {\n",
              "        vertical-align: top;\n",
              "    }\n",
              "\n",
              "    .dataframe thead th {\n",
              "        text-align: right;\n",
              "    }\n",
              "</style>\n",
              "<table border=\"1\" class=\"dataframe\">\n",
              "  <thead>\n",
              "    <tr style=\"text-align: right;\">\n",
              "      <th></th>\n",
              "      <th>year</th>\n",
              "      <th>gdp</th>\n",
              "      <th>cons</th>\n",
              "      <th>cons_share</th>\n",
              "    </tr>\n",
              "  </thead>\n",
              "  <tbody>\n",
              "    <tr>\n",
              "      <th>0</th>\n",
              "      <td>1990</td>\n",
              "      <td>5.9</td>\n",
              "      <td>3.8</td>\n",
              "      <td>64.406780</td>\n",
              "    </tr>\n",
              "    <tr>\n",
              "      <th>1</th>\n",
              "      <td>1995</td>\n",
              "      <td>7.6</td>\n",
              "      <td>4.9</td>\n",
              "      <td>64.473684</td>\n",
              "    </tr>\n",
              "    <tr>\n",
              "      <th>2</th>\n",
              "      <td>2000</td>\n",
              "      <td>10.2</td>\n",
              "      <td>6.8</td>\n",
              "      <td>66.666667</td>\n",
              "    </tr>\n",
              "    <tr>\n",
              "      <th>3</th>\n",
              "      <td>2005</td>\n",
              "      <td>13.0</td>\n",
              "      <td>8.7</td>\n",
              "      <td>66.923077</td>\n",
              "    </tr>\n",
              "  </tbody>\n",
              "</table>\n",
              "</div>"
            ],
            "text/plain": [
              "   year   gdp  cons  cons_share\n",
              "0  1990   5.9   3.8   64.406780\n",
              "1  1995   7.6   4.9   64.473684\n",
              "2  2000  10.2   6.8   66.666667\n",
              "3  2005  13.0   8.7   66.923077"
            ]
          },
          "metadata": {},
          "execution_count": 6
        }
      ]
    },
    {
      "cell_type": "markdown",
      "metadata": {
        "id": "9ZGndbDRNS1W"
      },
      "source": [
        "## 2.2 描述性统计 **`df.describe()`**(`sum`,`mean`, `var`, `std`, `skew`, `rank`, `quantile`, `mode`, `min`, `max`...)\n",
        "\n",
        "`df.describe()`会给出df的描述性统计常用值。当然，你也可以分别输出它们。"
      ]
    },
    {
      "cell_type": "code",
      "metadata": {
        "colab": {
          "base_uri": "https://localhost:8080/",
          "height": 295
        },
        "id": "VU92JpU8OTah",
        "outputId": "78711fa1-4b7b-4703-ecd4-4d54d909d0a1"
      },
      "source": [
        "df_data.describe()"
      ],
      "execution_count": null,
      "outputs": [
        {
          "output_type": "execute_result",
          "data": {
            "text/html": [
              "<div>\n",
              "<style scoped>\n",
              "    .dataframe tbody tr th:only-of-type {\n",
              "        vertical-align: middle;\n",
              "    }\n",
              "\n",
              "    .dataframe tbody tr th {\n",
              "        vertical-align: top;\n",
              "    }\n",
              "\n",
              "    .dataframe thead th {\n",
              "        text-align: right;\n",
              "    }\n",
              "</style>\n",
              "<table border=\"1\" class=\"dataframe\">\n",
              "  <thead>\n",
              "    <tr style=\"text-align: right;\">\n",
              "      <th></th>\n",
              "      <th>year</th>\n",
              "      <th>gdp</th>\n",
              "      <th>cons</th>\n",
              "      <th>cons_share</th>\n",
              "    </tr>\n",
              "  </thead>\n",
              "  <tbody>\n",
              "    <tr>\n",
              "      <th>count</th>\n",
              "      <td>4.000000</td>\n",
              "      <td>4.00000</td>\n",
              "      <td>4.000000</td>\n",
              "      <td>4.000000</td>\n",
              "    </tr>\n",
              "    <tr>\n",
              "      <th>mean</th>\n",
              "      <td>1997.500000</td>\n",
              "      <td>9.17500</td>\n",
              "      <td>6.050000</td>\n",
              "      <td>65.617552</td>\n",
              "    </tr>\n",
              "    <tr>\n",
              "      <th>std</th>\n",
              "      <td>6.454972</td>\n",
              "      <td>3.10309</td>\n",
              "      <td>2.157931</td>\n",
              "      <td>1.363750</td>\n",
              "    </tr>\n",
              "    <tr>\n",
              "      <th>min</th>\n",
              "      <td>1990.000000</td>\n",
              "      <td>5.90000</td>\n",
              "      <td>3.800000</td>\n",
              "      <td>64.406780</td>\n",
              "    </tr>\n",
              "    <tr>\n",
              "      <th>25%</th>\n",
              "      <td>1993.750000</td>\n",
              "      <td>7.17500</td>\n",
              "      <td>4.625000</td>\n",
              "      <td>64.456958</td>\n",
              "    </tr>\n",
              "    <tr>\n",
              "      <th>50%</th>\n",
              "      <td>1997.500000</td>\n",
              "      <td>8.90000</td>\n",
              "      <td>5.850000</td>\n",
              "      <td>65.570175</td>\n",
              "    </tr>\n",
              "    <tr>\n",
              "      <th>75%</th>\n",
              "      <td>2001.250000</td>\n",
              "      <td>10.90000</td>\n",
              "      <td>7.275000</td>\n",
              "      <td>66.730769</td>\n",
              "    </tr>\n",
              "    <tr>\n",
              "      <th>max</th>\n",
              "      <td>2005.000000</td>\n",
              "      <td>13.00000</td>\n",
              "      <td>8.700000</td>\n",
              "      <td>66.923077</td>\n",
              "    </tr>\n",
              "  </tbody>\n",
              "</table>\n",
              "</div>"
            ],
            "text/plain": [
              "              year       gdp      cons  cons_share\n",
              "count     4.000000   4.00000  4.000000    4.000000\n",
              "mean   1997.500000   9.17500  6.050000   65.617552\n",
              "std       6.454972   3.10309  2.157931    1.363750\n",
              "min    1990.000000   5.90000  3.800000   64.406780\n",
              "25%    1993.750000   7.17500  4.625000   64.456958\n",
              "50%    1997.500000   8.90000  5.850000   65.570175\n",
              "75%    2001.250000  10.90000  7.275000   66.730769\n",
              "max    2005.000000  13.00000  8.700000   66.923077"
            ]
          },
          "metadata": {},
          "execution_count": 16
        }
      ]
    },
    {
      "cell_type": "code",
      "metadata": {
        "colab": {
          "base_uri": "https://localhost:8080/"
        },
        "id": "d_G9uVYANVj8",
        "outputId": "fcc08b5e-84a6-49ad-8f76-f816ddd4e4d1"
      },
      "source": [
        "df_data.sum()"
      ],
      "execution_count": null,
      "outputs": [
        {
          "output_type": "execute_result",
          "data": {
            "text/plain": [
              "year          7990.000000\n",
              "gdp             36.700000\n",
              "cons            24.200000\n",
              "cons_share     262.470207\n",
              "dtype: float64"
            ]
          },
          "metadata": {},
          "execution_count": 7
        }
      ]
    },
    {
      "cell_type": "code",
      "metadata": {
        "colab": {
          "base_uri": "https://localhost:8080/"
        },
        "id": "28CIu2lTNx6M",
        "outputId": "e018930b-ce52-4653-e7c8-df8c620c7e96"
      },
      "source": [
        "df_data['gdp'].sum()"
      ],
      "execution_count": null,
      "outputs": [
        {
          "output_type": "execute_result",
          "data": {
            "text/plain": [
              "36.7"
            ]
          },
          "metadata": {},
          "execution_count": 10
        }
      ]
    },
    {
      "cell_type": "code",
      "metadata": {
        "colab": {
          "base_uri": "https://localhost:8080/"
        },
        "id": "b3oSLmskOBcm",
        "outputId": "f07b8e9d-34fe-46e6-ba13-67f25324b894"
      },
      "source": [
        "df_data['gdp'].mean()"
      ],
      "execution_count": null,
      "outputs": [
        {
          "output_type": "execute_result",
          "data": {
            "text/plain": [
              "9.175"
            ]
          },
          "metadata": {},
          "execution_count": 11
        }
      ]
    },
    {
      "cell_type": "code",
      "metadata": {
        "colab": {
          "base_uri": "https://localhost:8080/"
        },
        "id": "i_6tUY6mOGvU",
        "outputId": "ab982978-3cce-4cd8-ad06-485b581af8bc"
      },
      "source": [
        "df_data['gdp'].std()"
      ],
      "execution_count": null,
      "outputs": [
        {
          "output_type": "execute_result",
          "data": {
            "text/plain": [
              "3.1030898579748967"
            ]
          },
          "metadata": {},
          "execution_count": 12
        }
      ]
    },
    {
      "cell_type": "code",
      "metadata": {
        "colab": {
          "base_uri": "https://localhost:8080/"
        },
        "id": "pCbsETB7OLQo",
        "outputId": "f3d165c3-6efe-4ce9-b809-735f83f5fb51"
      },
      "source": [
        "df_data['gdp'].min()"
      ],
      "execution_count": null,
      "outputs": [
        {
          "output_type": "execute_result",
          "data": {
            "text/plain": [
              "5.9"
            ]
          },
          "metadata": {},
          "execution_count": 14
        }
      ]
    },
    {
      "cell_type": "code",
      "metadata": {
        "colab": {
          "base_uri": "https://localhost:8080/"
        },
        "id": "X3eEEcP4OPd5",
        "outputId": "1b312359-ba80-4be1-d565-9e21dd8e9a5e"
      },
      "source": [
        "df_data['gdp'].max()"
      ],
      "execution_count": null,
      "outputs": [
        {
          "output_type": "execute_result",
          "data": {
            "text/plain": [
              "13.0"
            ]
          },
          "metadata": {},
          "execution_count": 15
        }
      ]
    },
    {
      "cell_type": "markdown",
      "metadata": {
        "id": "Exz1ZqB5PBgr"
      },
      "source": [
        "# 3. 读写文件"
      ]
    },
    {
      "cell_type": "markdown",
      "metadata": {
        "id": "wLHj2o14obbU"
      },
      "source": [
        "## 3.0 CSV文件\n",
        "CSV（comma-separated value，逗号分隔值）文件格式是一种非常简单的**数据存储与分享格式**。\n",
        "\n",
        "CSV 文件将数据表格存储为**纯文本**，表格（或电子表格）中的每个单元格都是一个数值或字符串。\n",
        "\n",
        "*   Excel功能更强大\n",
        "*   CSV读写更简单（因此对程序来说更友好）\n",
        "\n",
        "主要区别：\n",
        "\n",
        "\n",
        "*   CSV的单元格无法像Excel一样定义“类型”（数值、文本、货币、日期等）\n",
        "*   CSV的单元格无法保存公式（其实是优点）\n",
        "\n",
        "\n",
        "\n"
      ]
    },
    {
      "cell_type": "markdown",
      "metadata": {
        "id": "RgvzJMiCQBUw"
      },
      "source": [
        "下面我们试着打开一份csv文件 `supplier_data.csv`\n",
        "\n",
        "你可以用多种方式读取它"
      ]
    },
    {
      "cell_type": "markdown",
      "metadata": {
        "id": "MkWUHNMCQtyw"
      },
      "source": [
        "以txt打开：\n",
        "\n",
        "![image.png](data:image/png;base64,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)\n"
      ]
    },
    {
      "cell_type": "markdown",
      "metadata": {
        "id": "gCwokiU6QWfM"
      },
      "source": [
        "以Excel打开：\n",
        "\n",
        "![image.png](data:image/png;base64,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)\n"
      ]
    },
    {
      "cell_type": "markdown",
      "metadata": {
        "id": "2KlR-I9-xb__"
      },
      "source": [
        "## 3.1 读取csv文件 `pd.read_csv(io)`"
      ]
    },
    {
      "cell_type": "code",
      "metadata": {
        "colab": {
          "base_uri": "https://localhost:8080/",
          "height": 203
        },
        "id": "wOdPq5-dyOKv",
        "outputId": "d3833359-1645-4250-fade-02c84cb59f97"
      },
      "source": [
        "df_supplier = pd.read_csv('data/supplier_data.csv')\n",
        "# df.head(n) 展示数据开头（默认为5行）\n",
        "df_supplier.head() "
      ],
      "execution_count": null,
      "outputs": [
        {
          "output_type": "execute_result",
          "data": {
            "text/html": [
              "<div>\n",
              "<style scoped>\n",
              "    .dataframe tbody tr th:only-of-type {\n",
              "        vertical-align: middle;\n",
              "    }\n",
              "\n",
              "    .dataframe tbody tr th {\n",
              "        vertical-align: top;\n",
              "    }\n",
              "\n",
              "    .dataframe thead th {\n",
              "        text-align: right;\n",
              "    }\n",
              "</style>\n",
              "<table border=\"1\" class=\"dataframe\">\n",
              "  <thead>\n",
              "    <tr style=\"text-align: right;\">\n",
              "      <th></th>\n",
              "      <th>Supplier Name</th>\n",
              "      <th>Invoice Number</th>\n",
              "      <th>Part Number</th>\n",
              "      <th>Cost</th>\n",
              "      <th>Purchase Date</th>\n",
              "    </tr>\n",
              "  </thead>\n",
              "  <tbody>\n",
              "    <tr>\n",
              "      <th>0</th>\n",
              "      <td>Supplier X</td>\n",
              "      <td>001-1001</td>\n",
              "      <td>2341</td>\n",
              "      <td>$500.00</td>\n",
              "      <td>1/20/14</td>\n",
              "    </tr>\n",
              "    <tr>\n",
              "      <th>1</th>\n",
              "      <td>Supplier X</td>\n",
              "      <td>001-1001</td>\n",
              "      <td>2341</td>\n",
              "      <td>$500.00</td>\n",
              "      <td>1/20/14</td>\n",
              "    </tr>\n",
              "    <tr>\n",
              "      <th>2</th>\n",
              "      <td>Supplier X</td>\n",
              "      <td>001-1001</td>\n",
              "      <td>5467</td>\n",
              "      <td>$750.00</td>\n",
              "      <td>1/20/14</td>\n",
              "    </tr>\n",
              "    <tr>\n",
              "      <th>3</th>\n",
              "      <td>Supplier X</td>\n",
              "      <td>001-1001</td>\n",
              "      <td>5467</td>\n",
              "      <td>$750.00</td>\n",
              "      <td>1/20/14</td>\n",
              "    </tr>\n",
              "    <tr>\n",
              "      <th>4</th>\n",
              "      <td>Supplier Y</td>\n",
              "      <td>50-9501</td>\n",
              "      <td>7009</td>\n",
              "      <td>$250.00</td>\n",
              "      <td>1/30/14</td>\n",
              "    </tr>\n",
              "  </tbody>\n",
              "</table>\n",
              "</div>"
            ],
            "text/plain": [
              "  Supplier Name Invoice Number  Part Number     Cost Purchase Date\n",
              "0    Supplier X       001-1001         2341  $500.00       1/20/14\n",
              "1    Supplier X       001-1001         2341  $500.00       1/20/14\n",
              "2    Supplier X       001-1001         5467  $750.00       1/20/14\n",
              "3    Supplier X       001-1001         5467  $750.00       1/20/14\n",
              "4    Supplier Y        50-9501         7009  $250.00       1/30/14"
            ]
          },
          "metadata": {},
          "execution_count": 18
        }
      ]
    },
    {
      "cell_type": "markdown",
      "metadata": {
        "id": "cBH-uXcRRcFZ"
      },
      "source": [
        "## 3.2 读取Excel文件 `pd.read_excel(io, header=0, sheet_name=0)`\n",
        "\n",
        "对于Python来说，Excel文件往往比csv文件要“脏”一些。"
      ]
    },
    {
      "cell_type": "markdown",
      "metadata": {
        "id": "IAs82t6cSLdS"
      },
      "source": [
        "以`data`文件夹中`debt.xlsx`为例，**许多Excel文件并不是只包含标准统一的数据表单**，它的开头数行要么是数据来源之类的文本，要么是空白。\n",
        "![image.png](data:image/png;base64,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)"
      ]
    },
    {
      "cell_type": "markdown",
      "metadata": {
        "id": "VOR4tlB7SqLL"
      },
      "source": [
        "pandas当然也有读取excel的函数`read_excel`，我们试着读一下它。"
      ]
    },
    {
      "cell_type": "code",
      "metadata": {
        "colab": {
          "base_uri": "https://localhost:8080/",
          "height": 417
        },
        "id": "0TNN4hkeSoZY",
        "outputId": "53df8f71-0908-46e4-e025-4c00dbc012cf"
      },
      "source": [
        "df_debt_0 = pd.read_excel('data/debt.xlsx')\n",
        "df_debt_0"
      ],
      "execution_count": null,
      "outputs": [
        {
          "output_type": "execute_result",
          "data": {
            "text/html": [
              "<div>\n",
              "<style scoped>\n",
              "    .dataframe tbody tr th:only-of-type {\n",
              "        vertical-align: middle;\n",
              "    }\n",
              "\n",
              "    .dataframe tbody tr th {\n",
              "        vertical-align: top;\n",
              "    }\n",
              "\n",
              "    .dataframe thead th {\n",
              "        text-align: right;\n",
              "    }\n",
              "</style>\n",
              "<table border=\"1\" class=\"dataframe\">\n",
              "  <thead>\n",
              "    <tr style=\"text-align: right;\">\n",
              "      <th></th>\n",
              "      <th>FRED Graph Observations</th>\n",
              "      <th>Unnamed: 1</th>\n",
              "      <th>Unnamed: 2</th>\n",
              "      <th>Unnamed: 3</th>\n",
              "    </tr>\n",
              "  </thead>\n",
              "  <tbody>\n",
              "    <tr>\n",
              "      <th>0</th>\n",
              "      <td>Federal Reserve Economic Data</td>\n",
              "      <td>NaN</td>\n",
              "      <td>NaN</td>\n",
              "      <td>NaN</td>\n",
              "    </tr>\n",
              "    <tr>\n",
              "      <th>1</th>\n",
              "      <td>Link: https://fred.stlouisfed.org</td>\n",
              "      <td>NaN</td>\n",
              "      <td>NaN</td>\n",
              "      <td>NaN</td>\n",
              "    </tr>\n",
              "    <tr>\n",
              "      <th>2</th>\n",
              "      <td>Help: https://fred.stlouisfed.org/help-faq</td>\n",
              "      <td>NaN</td>\n",
              "      <td>NaN</td>\n",
              "      <td>NaN</td>\n",
              "    </tr>\n",
              "    <tr>\n",
              "      <th>3</th>\n",
              "      <td>Economic Research Division</td>\n",
              "      <td>NaN</td>\n",
              "      <td>NaN</td>\n",
              "      <td>NaN</td>\n",
              "    </tr>\n",
              "    <tr>\n",
              "      <th>4</th>\n",
              "      <td>Federal Reserve Bank of St. Louis</td>\n",
              "      <td>NaN</td>\n",
              "      <td>NaN</td>\n",
              "      <td>NaN</td>\n",
              "    </tr>\n",
              "    <tr>\n",
              "      <th>...</th>\n",
              "      <td>...</td>\n",
              "      <td>...</td>\n",
              "      <td>...</td>\n",
              "      <td>...</td>\n",
              "    </tr>\n",
              "    <tr>\n",
              "      <th>97</th>\n",
              "      <td>2014-01-01 00:00:00</td>\n",
              "      <td>17521.7</td>\n",
              "      <td>17799837</td>\n",
              "      <td>2.53956</td>\n",
              "    </tr>\n",
              "    <tr>\n",
              "      <th>98</th>\n",
              "      <td>2015-01-01 00:00:00</td>\n",
              "      <td>18219.3</td>\n",
              "      <td>1.83442e+07</td>\n",
              "      <td>2.13829</td>\n",
              "    </tr>\n",
              "    <tr>\n",
              "      <th>99</th>\n",
              "      <td>2016-01-01 00:00:00</td>\n",
              "      <td>18707.2</td>\n",
              "      <td>1.95492e+07</td>\n",
              "      <td>1.83744</td>\n",
              "    </tr>\n",
              "    <tr>\n",
              "      <th>100</th>\n",
              "      <td>2017-01-01 00:00:00</td>\n",
              "      <td>19485.4</td>\n",
              "      <td>2.01072e+07</td>\n",
              "      <td>2.32948</td>\n",
              "    </tr>\n",
              "    <tr>\n",
              "      <th>101</th>\n",
              "      <td>2018-01-01 00:00:00</td>\n",
              "      <td>NaN</td>\n",
              "      <td>NaN</td>\n",
              "      <td>NaN</td>\n",
              "    </tr>\n",
              "  </tbody>\n",
              "</table>\n",
              "<p>102 rows × 4 columns</p>\n",
              "</div>"
            ],
            "text/plain": [
              "                        FRED Graph Observations  ... Unnamed: 3\n",
              "0                 Federal Reserve Economic Data  ...        NaN\n",
              "1             Link: https://fred.stlouisfed.org  ...        NaN\n",
              "2    Help: https://fred.stlouisfed.org/help-faq  ...        NaN\n",
              "3                    Economic Research Division  ...        NaN\n",
              "4             Federal Reserve Bank of St. Louis  ...        NaN\n",
              "..                                          ...  ...        ...\n",
              "97                          2014-01-01 00:00:00  ...    2.53956\n",
              "98                          2015-01-01 00:00:00  ...    2.13829\n",
              "99                          2016-01-01 00:00:00  ...    1.83744\n",
              "100                         2017-01-01 00:00:00  ...    2.32948\n",
              "101                         2018-01-01 00:00:00  ...        NaN\n",
              "\n",
              "[102 rows x 4 columns]"
            ]
          },
          "metadata": {},
          "execution_count": 22
        }
      ]
    },
    {
      "cell_type": "markdown",
      "metadata": {
        "id": "7YG2-_tFTPx2"
      },
      "source": [
        "你可以看到，默认的读取方式使得错误的行成为了columns行，这让我们的df看起来非常混乱。\n",
        "\n",
        "因此，读取Excel文件时，**我们往往需要定义数据起始列`header`**。考虑到一份Excel文件里还可能存在多张表单sheet，**我们最好还要定义`sheet_name`**。"
      ]
    },
    {
      "cell_type": "code",
      "metadata": {
        "colab": {
          "base_uri": "https://localhost:8080/",
          "height": 203
        },
        "id": "-LVigRSzT8xO",
        "outputId": "451c29e0-fe79-45c0-a89a-f2645cf67f38"
      },
      "source": [
        "df_debt = pd.read_excel('data/debt.xlsx',\n",
        "                        header = 12,\n",
        "                        sheet_name = 'quarterly')\n",
        "df_debt.head()"
      ],
      "execution_count": null,
      "outputs": [
        {
          "output_type": "execute_result",
          "data": {
            "text/html": [
              "<div>\n",
              "<style scoped>\n",
              "    .dataframe tbody tr th:only-of-type {\n",
              "        vertical-align: middle;\n",
              "    }\n",
              "\n",
              "    .dataframe tbody tr th {\n",
              "        vertical-align: top;\n",
              "    }\n",
              "\n",
              "    .dataframe thead th {\n",
              "        text-align: right;\n",
              "    }\n",
              "</style>\n",
              "<table border=\"1\" class=\"dataframe\">\n",
              "  <thead>\n",
              "    <tr style=\"text-align: right;\">\n",
              "      <th></th>\n",
              "      <th>observation_date</th>\n",
              "      <th>GFDEBTN</th>\n",
              "      <th>DGS10</th>\n",
              "      <th>GDP</th>\n",
              "    </tr>\n",
              "  </thead>\n",
              "  <tbody>\n",
              "    <tr>\n",
              "      <th>0</th>\n",
              "      <td>1947-01-01</td>\n",
              "      <td>NaN</td>\n",
              "      <td>NaN</td>\n",
              "      <td>243.164</td>\n",
              "    </tr>\n",
              "    <tr>\n",
              "      <th>1</th>\n",
              "      <td>1947-04-01</td>\n",
              "      <td>NaN</td>\n",
              "      <td>NaN</td>\n",
              "      <td>245.968</td>\n",
              "    </tr>\n",
              "    <tr>\n",
              "      <th>2</th>\n",
              "      <td>1947-07-01</td>\n",
              "      <td>NaN</td>\n",
              "      <td>NaN</td>\n",
              "      <td>249.585</td>\n",
              "    </tr>\n",
              "    <tr>\n",
              "      <th>3</th>\n",
              "      <td>1947-10-01</td>\n",
              "      <td>NaN</td>\n",
              "      <td>NaN</td>\n",
              "      <td>259.745</td>\n",
              "    </tr>\n",
              "    <tr>\n",
              "      <th>4</th>\n",
              "      <td>1948-01-01</td>\n",
              "      <td>NaN</td>\n",
              "      <td>NaN</td>\n",
              "      <td>265.742</td>\n",
              "    </tr>\n",
              "  </tbody>\n",
              "</table>\n",
              "</div>"
            ],
            "text/plain": [
              "  observation_date  GFDEBTN  DGS10      GDP\n",
              "0       1947-01-01      NaN    NaN  243.164\n",
              "1       1947-04-01      NaN    NaN  245.968\n",
              "2       1947-07-01      NaN    NaN  249.585\n",
              "3       1947-10-01      NaN    NaN  259.745\n",
              "4       1948-01-01      NaN    NaN  265.742"
            ]
          },
          "metadata": {},
          "execution_count": 41
        }
      ]
    },
    {
      "cell_type": "markdown",
      "metadata": {
        "id": "vTGxanpua8lD"
      },
      "source": [
        "`usecols`参数可以帮你筛选你想要的列。"
      ]
    },
    {
      "cell_type": "code",
      "metadata": {
        "colab": {
          "base_uri": "https://localhost:8080/",
          "height": 203
        },
        "id": "8citfHgNa7md",
        "outputId": "d64874cc-6e97-46a7-e145-799d2edb7800"
      },
      "source": [
        "df_debt_1 = pd.read_excel('data/debt.xlsx',\n",
        "                        header = 12,\n",
        "                        sheet_name = 'quarterly',\n",
        "                        usecols = [0,3])\n",
        "df_debt_1.head()"
      ],
      "execution_count": null,
      "outputs": [
        {
          "output_type": "execute_result",
          "data": {
            "text/html": [
              "<div>\n",
              "<style scoped>\n",
              "    .dataframe tbody tr th:only-of-type {\n",
              "        vertical-align: middle;\n",
              "    }\n",
              "\n",
              "    .dataframe tbody tr th {\n",
              "        vertical-align: top;\n",
              "    }\n",
              "\n",
              "    .dataframe thead th {\n",
              "        text-align: right;\n",
              "    }\n",
              "</style>\n",
              "<table border=\"1\" class=\"dataframe\">\n",
              "  <thead>\n",
              "    <tr style=\"text-align: right;\">\n",
              "      <th></th>\n",
              "      <th>observation_date</th>\n",
              "      <th>GDP</th>\n",
              "    </tr>\n",
              "  </thead>\n",
              "  <tbody>\n",
              "    <tr>\n",
              "      <th>0</th>\n",
              "      <td>1947-01-01</td>\n",
              "      <td>243.164</td>\n",
              "    </tr>\n",
              "    <tr>\n",
              "      <th>1</th>\n",
              "      <td>1947-04-01</td>\n",
              "      <td>245.968</td>\n",
              "    </tr>\n",
              "    <tr>\n",
              "      <th>2</th>\n",
              "      <td>1947-07-01</td>\n",
              "      <td>249.585</td>\n",
              "    </tr>\n",
              "    <tr>\n",
              "      <th>3</th>\n",
              "      <td>1947-10-01</td>\n",
              "      <td>259.745</td>\n",
              "    </tr>\n",
              "    <tr>\n",
              "      <th>4</th>\n",
              "      <td>1948-01-01</td>\n",
              "      <td>265.742</td>\n",
              "    </tr>\n",
              "  </tbody>\n",
              "</table>\n",
              "</div>"
            ],
            "text/plain": [
              "  observation_date      GDP\n",
              "0       1947-01-01  243.164\n",
              "1       1947-04-01  245.968\n",
              "2       1947-07-01  249.585\n",
              "3       1947-10-01  259.745\n",
              "4       1948-01-01  265.742"
            ]
          },
          "metadata": {},
          "execution_count": 40
        }
      ]
    },
    {
      "cell_type": "markdown",
      "metadata": {
        "id": "oqPURc6OU-e1"
      },
      "source": [
        "## 3.3 目录 io\n",
        "\n",
        "Python**默认的读取目录是程序文件所在的根目录**。\n",
        "\n",
        "也就是说，如果你将`test.csv`和程序文件放在同一个文件夹里，你只需要输入`pd.read_csv('test.csv')`，程序就能识别到你的文件。\n",
        "\n",
        "但是，现实情况往往不是这样的。**也许目录在上一层文件夹里、电脑中别的文件夹里或者是云端的某个地方，又或者这个路径是随着日期而变化的。**这时候，我们可以借助`os`库来完成路径读取的自动化。`os`库是python的一个标准库，它主要包含与操作系统（operating system）相关的一些函数。\n",
        "\n"
      ]
    },
    {
      "cell_type": "code",
      "metadata": {
        "id": "l41jEm4FWcC5"
      },
      "source": [
        "import os"
      ],
      "execution_count": null,
      "outputs": []
    },
    {
      "cell_type": "markdown",
      "metadata": {
        "id": "Lx4UL0k0Y5rW"
      },
      "source": [
        "## 3.3.1 相对路径与绝对路径\n",
        "\n",
        "\n",
        "*   **相对路径**：相对程序文件而言的路径。例如 `data/debt.xlsx`\n",
        "*   **绝对路径**：计算机中的路径。例如`D:/Python/data/debt.xlsx`\n",
        "\n",
        "\n",
        "（由于我们是在云端运行的代码，因此路径看起来和常见的计算机本地路径不同。）"
      ]
    },
    {
      "cell_type": "code",
      "metadata": {
        "colab": {
          "base_uri": "https://localhost:8080/",
          "height": 35
        },
        "id": "16g9A3vqWhXW",
        "outputId": "ec780588-acd3-40d4-ecbb-e074dee18ca8"
      },
      "source": [
        "# 获取当前目录\n",
        "os.getcwd()"
      ],
      "execution_count": null,
      "outputs": [
        {
          "output_type": "execute_result",
          "data": {
            "application/vnd.google.colaboratory.intrinsic+json": {
              "type": "string"
            },
            "text/plain": [
              "'/content'"
            ]
          },
          "metadata": {},
          "execution_count": 28
        }
      ]
    },
    {
      "cell_type": "code",
      "metadata": {
        "colab": {
          "base_uri": "https://localhost:8080/",
          "height": 35
        },
        "id": "0XYhNkXzYCtw",
        "outputId": "a5b8da6f-559b-4f99-d0ec-5ec2c9785908"
      },
      "source": [
        "# 获取上一级目录\n",
        "os.path.abspath(os.path.dirname(os.getcwd()))"
      ],
      "execution_count": null,
      "outputs": [
        {
          "output_type": "execute_result",
          "data": {
            "application/vnd.google.colaboratory.intrinsic+json": {
              "type": "string"
            },
            "text/plain": [
              "'/'"
            ]
          },
          "metadata": {},
          "execution_count": 37
        }
      ]
    }
  ]
}