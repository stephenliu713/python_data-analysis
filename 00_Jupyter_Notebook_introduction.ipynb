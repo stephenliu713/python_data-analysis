{
  "nbformat": 4,
  "nbformat_minor": 0,
  "metadata": {
    "colab": {
      "name": "00_Jupyter Notebook_introduction",
      "provenance": [],
      "collapsed_sections": [],
      "authorship_tag": "ABX9TyPyeRwSQqy3L097/QMHbNAL",
      "include_colab_link": true
    },
    "kernelspec": {
      "name": "python3",
      "display_name": "Python 3"
    },
    "language_info": {
      "name": "python"
    }
  },
  "cells": [
    {
      "cell_type": "markdown",
      "metadata": {
        "id": "view-in-github",
        "colab_type": "text"
      },
      "source": [
        "<a href=\"https://colab.research.google.com/github/stephenliu713/python_data-analysis/blob/main/00_Jupyter_Notebook_introduction.ipynb\" target=\"_parent\"><img src=\"https://colab.research.google.com/assets/colab-badge.svg\" alt=\"Open In Colab\"/></a>"
      ]
    },
    {
      "cell_type": "markdown",
      "metadata": {
        "id": "UvYmRHQE5gq_"
      },
      "source": [
        "# 1. 什么是Jupyer Notebook\n"
      ]
    },
    {
      "cell_type": "markdown",
      "metadata": {
        "id": "tPFX9eVE-L-6"
      },
      "source": [
        "> Jupyter Notebook是基于网页的用于交互计算的应用程序。其可被应用于全过程计算：开发、文档编写、运行代码和展示结果。\n",
        "——Jupyter Notebook官方介绍\n",
        "\n",
        "简而言之，Jupyter Notebook是以网页的形式打开，可以在网页页面中直接编写代码和运行代码，代码的运行结果也会直接在代码块下显示的程序。如在编程过程中需要编写说明文档，可在同一个页面中直接编写，便于作及时的说明和解释。"
      ]
    },
    {
      "cell_type": "markdown",
      "metadata": {
        "id": "IPe-pNek6HU4"
      },
      "source": [
        "# 2. Jupyter Notebook的主要特点\n"
      ]
    },
    {
      "cell_type": "markdown",
      "metadata": {
        "id": "NDnJn8bQ-Tg0"
      },
      "source": [
        "1. 编程时具有语法高亮、缩进、tab补全的功能。\n",
        "\n",
        "2. 可直接通过浏览器运行代码，同时在代码块下方展示运行结果。\n",
        "\n",
        "3. 以富媒体格式展示计算结果。富媒体格式包括：HTML，LaTeX，PNG，SVG等。\n",
        "\n",
        "4. 对代码编写说明文档或语句时，支持[Markdown语法](https://www.runoob.com/markdown/md-tutorial.html)。\n",
        "\n",
        "5. 支持使用LaTeX编写数学性说明。"
      ]
    },
    {
      "cell_type": "code",
      "metadata": {
        "colab": {
          "base_uri": "https://localhost:8080/"
        },
        "id": "JeoDHLsD8HKH",
        "outputId": "e023dffe-ca87-4b12-cff4-a08659b4904c"
      },
      "source": [
        "print(\"hello world\")"
      ],
      "execution_count": null,
      "outputs": [
        {
          "output_type": "stream",
          "name": "stdout",
          "text": [
            "hello world\n"
          ]
        }
      ]
    },
    {
      "cell_type": "markdown",
      "metadata": {
        "id": "0NqwacqW6TSu"
      },
      "source": [
        "# 3. Jupyter Notebook的安装和使用\n",
        "\n",
        "\n",
        "\n"
      ]
    },
    {
      "cell_type": "markdown",
      "metadata": {
        "id": "mmkzNHq2-V9j"
      },
      "source": [
        "1. 使用[Anaconda](https://www.anaconda.com/products/individual)安装\n",
        "\n",
        "2. 使用pip命令安装\n",
        "`pip install jupyter`\n",
        "\n",
        "方法1和方法2运行方法：cmd窗口中输入 `jupyter notebook`\n",
        "\n",
        "\n",
        "3. **(强烈推荐！)** 访问[Google Colab](https://colab.research.google.com/)直接云端使用Jupyter Notebook "
      ]
    },
    {
      "cell_type": "markdown",
      "metadata": {
        "id": "xZ_kzJDbNHiK"
      },
      "source": [
        "# 4. Markdown语法的使用"
      ]
    },
    {
      "cell_type": "markdown",
      "metadata": {
        "id": "gJgV9yfdNQz-"
      },
      "source": [
        "##字体"
      ]
    },
    {
      "cell_type": "markdown",
      "metadata": {
        "id": "NKXOEucHNUWY"
      },
      "source": [
        "### “#”的数量决定字号的大小\n",
        "  ```\n",
        "  # H1\n",
        "  ## H2\n",
        "  ### H3\n",
        "  #### H4\n",
        "  ##### H5\n",
        "  ###### H6\n",
        "  ```\n",
        "  # H1\n",
        "  ## H2\n",
        "  ### H3\n",
        "  #### H4\n",
        "  ##### H5\n",
        "  ###### H6\n",
        "\n",
        "\n",
        "\n",
        "\n",
        "\n"
      ]
    },
    {
      "cell_type": "markdown",
      "metadata": {
        "id": "O1yG9juSOuEO"
      },
      "source": [
        "### 下划线效果\n",
        "  ```\n",
        "  ##H1和H2可以选择下划线效果\n",
        "    ------\n",
        "  ```\n",
        "\n",
        "## H1和H2可以选择下划线效果 \n",
        "------\n"
      ]
    },
    {
      "cell_type": "markdown",
      "metadata": {
        "id": "_Dro9atXNqCD"
      },
      "source": [
        "## 列表\n"
      ]
    },
    {
      "cell_type": "markdown",
      "metadata": {
        "id": "HoD7PQwkN2w2"
      },
      "source": [
        " ### 有序列表\n",
        "  ```\n",
        "  1. 用“1.”表示要点1\n",
        "  4. 要点2\n",
        "  5. 具体数字不重要，都按照顺序\"1.2.3...\"显示\n",
        "  ```\n",
        "\n",
        "  1. 用“1.”表示要点1\n",
        "  4. 要点2\n",
        "  5. 具体数字不重要，都按照顺序\"1.2.3...\"显示\n",
        "\n"
      ]
    },
    {
      "cell_type": "markdown",
      "metadata": {
        "id": "UDf-ToUSO2k8"
      },
      "source": [
        "  ### 无序列表\n",
        "\n",
        "  ```\n",
        "  * 星号\n",
        "  + 加号\n",
        "  - 减号\n",
        "  ```\n",
        "\n",
        "  * 星号\n",
        "  + 加号\n",
        "  - 减号"
      ]
    },
    {
      "cell_type": "markdown",
      "metadata": {
        "id": "UQ-haD09NmEO"
      },
      "source": [
        "### 不同效果\n",
        "\n",
        "  *斜体*\n",
        "  ```\n",
        "  *斜体* 或者 _斜体_\n",
        "  ```\n",
        "\n",
        "  **粗体**\n",
        "  ```\n",
        "  **粗体** 或者 __粗体__\n",
        "  ```\n",
        "\n",
        "  ~~删除线~~\n",
        "  ```\n",
        "  ~~删除线~~\n",
        "  ```"
      ]
    },
    {
      "cell_type": "markdown",
      "metadata": {
        "id": "jOlTzksHPA8n"
      },
      "source": [
        "## 链接"
      ]
    },
    {
      "cell_type": "markdown",
      "metadata": {
        "id": "E8JOCPBdPDvw"
      },
      "source": [
        "[以标题显示，链接紧随其后](https://www.google.com/search?q=以标题显示链接紧随其后)\n",
        "\n",
        "[以标题显示，后跟随链接备注，链接在结尾标注][链接1]\n",
        "\n",
        "[用数字标注链接][1]\n",
        "\n",
        "[以标题显示，结尾标注]\n",
        "\n",
        "[链接1]:https://www.google.com/search?q=以标题显示后跟随链接备注链接在结尾标注\n",
        "[1]: https://www.google.com/search?q=用数字标注链接\n",
        "[以标题显示，结尾标注]:  https://www.google.com/search?q=以标题显示结尾标注"
      ]
    },
    {
      "cell_type": "markdown",
      "metadata": {
        "id": "CWtWbFLLPLTS"
      },
      "source": [
        "## 带格式的代码\n"
      ]
    },
    {
      "cell_type": "markdown",
      "metadata": {
        "id": "Sqhj0NUCPRto"
      },
      "source": [
        "\"```\" + 语言名称 = 编译器格式显示\n",
        "\n",
        "####Javascript\n",
        "```\n",
        "```javascript\n",
        "var s = \"JavaScript syntax highlighting\";\n",
        "alert(s);\n",
        "```\n",
        "```javascript\n",
        "var s = \"JavaScript syntax highlighting\";\n",
        "alert(s);\n",
        "```\n",
        "\n",
        "####Python\n",
        "```\n",
        "```python\n",
        "s = \"Python syntax highlighting\"\n",
        "print s\n",
        "```\n",
        "\n",
        " \n",
        "```python\n",
        "s = \"Python syntax highlighting\"\n",
        "print s\n",
        "```"
      ]
    },
    {
      "cell_type": "markdown",
      "metadata": {
        "id": "Y6ZXKxDi8uSr"
      },
      "source": [
        "# 5. Jupyter Notebook的快捷键\n"
      ]
    },
    {
      "cell_type": "markdown",
      "metadata": {
        "id": "ykhSck0z-pYA"
      },
      "source": [
        "## 命令模式\n"
      ]
    },
    {
      "cell_type": "markdown",
      "metadata": {
        "id": "aPf0f7du-4-P"
      },
      "source": [
        "* Enter : 转入编辑模式\n",
        "* Shift-Enter : 运行本单元，选中下个单元\n",
        "* **Ctrl-Enter : 运行本单元**\n",
        "* Alt-Enter : 运行本单元，在其下插入新单元\n",
        "* Up / K : 选中上方单元\n",
        "* Down / J : 选中下方单元\n",
        "* **A : 在上方插入新代码单元**\n",
        "* **B : 在下方插入新代码单元**\n",
        "* Ctrl-X : 剪切选中的单元\n",
        "* Ctrl-C : 复制选中的单元\n",
        "* Shift-V : 粘贴到上方单元\n",
        "* V : 粘贴到下方单元\n",
        "* Ctrl-M-Z : 恢复删除的最后一个单元\n",
        "* Shift-M : 合并选中的单元\n",
        "* Ctrl-S : 文件存盘"
      ]
    },
    {
      "cell_type": "markdown",
      "metadata": {
        "id": "8wvJt5JxAWXV"
      },
      "source": [
        "## 编辑模式"
      ]
    },
    {
      "cell_type": "markdown",
      "metadata": {
        "id": "wX8ZIf36AZBw"
      },
      "source": [
        "* Tab : 代码补全或缩进\n",
        "* Shift-Tab : 提示\n",
        "* Ctrl-] : 缩进\n",
        "* Ctrl-[ : 解除缩进"
      ]
    }
  ]
}