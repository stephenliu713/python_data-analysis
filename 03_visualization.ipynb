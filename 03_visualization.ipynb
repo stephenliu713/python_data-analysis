{
  "nbformat": 4,
  "nbformat_minor": 0,
  "metadata": {
    "colab": {
      "name": "03_visualization.ipynb",
      "provenance": [],
      "collapsed_sections": [],
      "authorship_tag": "ABX9TyP6hDEayUZc6uRF7F8gJ7dh",
      "include_colab_link": true
    },
    "kernelspec": {
      "name": "python3",
      "display_name": "Python 3"
    },
    "language_info": {
      "name": "python"
    }
  },
  "cells": [
    {
      "cell_type": "markdown",
      "metadata": {
        "id": "view-in-github",
        "colab_type": "text"
      },
      "source": [
        "<a href=\"https://colab.research.google.com/github/stephenliu713/python_data-analysis/blob/main/03_visualization.ipynb\" target=\"_parent\"><img src=\"https://colab.research.google.com/assets/colab-badge.svg\" alt=\"Open In Colab\"/></a>"
      ]
    },
    {
      "cell_type": "markdown",
      "metadata": {
        "id": "s6Dq-9k-MKvP"
      },
      "source": [
        "# 0. 为什么要数据可视化\n",
        "\n",
        "> 为了清晰有效地传递信息，数据可视化使用统计图形、图表、信息图表和其他工具。可以使用点、线或条对数字数据进行编码，以便在视觉上传达定量信息。有效的可视化可以帮助用户分析和推理数据和证据。它使复杂的数据更容易理解和使用。\n",
        "\n",
        "> 数据可视化既是一门艺术也是一门科学。\n",
        "\n",
        "个人观点：\n",
        "\n",
        "* 图对于人类来说更友好(\"一图胜千言\")；\n",
        "\n",
        "* 表格对于机器来说更友好\n",
        "\n",
        "**可视化有很多种软件和解决方案**，它们中的很多比Python更易操作、更加美观，因此你不一定要用Python来解决。不过**Python在自动化输出图表方面有一定的优势**。\n"
      ]
    },
    {
      "cell_type": "markdown",
      "metadata": {
        "id": "nGarbvCOM8lG"
      },
      "source": [
        "# 1. `matplotlib` —— 画各种数据图的好帮手\n",
        "\n",
        "> `matplotlib`是Python及其数值计算库NumPy的绘图库。\n",
        "\n",
        "与pandas的介绍类似，这里只涉及基本的使用逻辑和一些常用的简单操作。更复杂的功能请参考[matploblib官方技术文档](https://matplotlib.org/stable/contents.html)。"
      ]
    },
    {
      "cell_type": "code",
      "metadata": {
        "id": "zMcRuoM-MGL1"
      },
      "source": [
        "import pandas as pd\n",
        "import matplotlib.pyplot as plt"
      ],
      "execution_count": 2,
      "outputs": []
    },
    {
      "cell_type": "markdown",
      "metadata": {
        "id": "KiSFYN_nOiLb"
      },
      "source": [
        "##### 魔法命令 `%`\n",
        "\n",
        "IPython内核中有用一些魔法命令，这些指令独立于python语法，只能在jupyter notebook中使用，魔法命令可以完成一些特殊的功能。"
      ]
    },
    {
      "cell_type": "code",
      "metadata": {
        "id": "ZxMszcUgOwSt"
      },
      "source": [
        "# 下列的魔法命令是让jupyter在notebook内部显示创建的图表，而不是新建一个窗口显示。\n",
        "%matplotlib inline"
      ],
      "execution_count": 4,
      "outputs": []
    },
    {
      "cell_type": "markdown",
      "metadata": {
        "id": "dTTJdJN1Rn6a"
      },
      "source": [
        "## 1.1 图表初始化 `fig, ax = plt.subplots()`\n"
      ]
    },
    {
      "cell_type": "markdown",
      "metadata": {
        "id": "c3DRB0DpR3cQ"
      },
      "source": [
        "首先我们先用pandas读取一个csv文件作为示例。"
      ]
    },
    {
      "cell_type": "code",
      "metadata": {
        "colab": {
          "base_uri": "https://localhost:8080/",
          "height": 203
        },
        "id": "rdVZUPq0SALB",
        "outputId": "b5909ce2-c6bb-4d29-c78b-9dcbe15419a9"
      },
      "source": [
        "df_gdp = pd.read_csv('data/gdp_components.csv')\n",
        "df_gdp.head()"
      ],
      "execution_count": 7,
      "outputs": [
        {
          "output_type": "execute_result",
          "data": {
            "text/html": [
              "<div>\n",
              "<style scoped>\n",
              "    .dataframe tbody tr th:only-of-type {\n",
              "        vertical-align: middle;\n",
              "    }\n",
              "\n",
              "    .dataframe tbody tr th {\n",
              "        vertical-align: top;\n",
              "    }\n",
              "\n",
              "    .dataframe thead th {\n",
              "        text-align: right;\n",
              "    }\n",
              "</style>\n",
              "<table border=\"1\" class=\"dataframe\">\n",
              "  <thead>\n",
              "    <tr style=\"text-align: right;\">\n",
              "      <th></th>\n",
              "      <th>date</th>\n",
              "      <th>gdp</th>\n",
              "      <th>inv</th>\n",
              "      <th>gov</th>\n",
              "      <th>ex</th>\n",
              "      <th>im</th>\n",
              "    </tr>\n",
              "  </thead>\n",
              "  <tbody>\n",
              "    <tr>\n",
              "      <th>0</th>\n",
              "      <td>1929</td>\n",
              "      <td>104.556</td>\n",
              "      <td>17.170</td>\n",
              "      <td>9.622</td>\n",
              "      <td>5.939</td>\n",
              "      <td>5.556</td>\n",
              "    </tr>\n",
              "    <tr>\n",
              "      <th>1</th>\n",
              "      <td>1930</td>\n",
              "      <td>92.160</td>\n",
              "      <td>11.428</td>\n",
              "      <td>10.273</td>\n",
              "      <td>4.444</td>\n",
              "      <td>4.121</td>\n",
              "    </tr>\n",
              "    <tr>\n",
              "      <th>2</th>\n",
              "      <td>1931</td>\n",
              "      <td>77.391</td>\n",
              "      <td>6.549</td>\n",
              "      <td>10.169</td>\n",
              "      <td>2.906</td>\n",
              "      <td>2.905</td>\n",
              "    </tr>\n",
              "    <tr>\n",
              "      <th>3</th>\n",
              "      <td>1932</td>\n",
              "      <td>59.522</td>\n",
              "      <td>1.819</td>\n",
              "      <td>8.946</td>\n",
              "      <td>1.975</td>\n",
              "      <td>1.932</td>\n",
              "    </tr>\n",
              "    <tr>\n",
              "      <th>4</th>\n",
              "      <td>1933</td>\n",
              "      <td>57.154</td>\n",
              "      <td>2.276</td>\n",
              "      <td>8.875</td>\n",
              "      <td>1.987</td>\n",
              "      <td>1.929</td>\n",
              "    </tr>\n",
              "  </tbody>\n",
              "</table>\n",
              "</div>"
            ],
            "text/plain": [
              "   date      gdp     inv     gov     ex     im\n",
              "0  1929  104.556  17.170   9.622  5.939  5.556\n",
              "1  1930   92.160  11.428  10.273  4.444  4.121\n",
              "2  1931   77.391   6.549  10.169  2.906  2.905\n",
              "3  1932   59.522   1.819   8.946  1.975  1.932\n",
              "4  1933   57.154   2.276   8.875  1.987  1.929"
            ]
          },
          "metadata": {},
          "execution_count": 7
        }
      ]
    },
    {
      "cell_type": "code",
      "metadata": {
        "colab": {
          "base_uri": "https://localhost:8080/",
          "height": 265
        },
        "id": "vPwBWvVJTWHx",
        "outputId": "400b2633-4f79-4ac6-f072-3f5cf3f113c6"
      },
      "source": [
        "fig, ax = plt.subplots()\n",
        "\n",
        "ax.plot(df_gdp['date'], df_gdp['gdp'])\n",
        "\n",
        "plt.show()"
      ],
      "execution_count": 8,
      "outputs": [
        {
          "output_type": "display_data",
          "data": {
            "image/png": "[encoded data removed]",
            "text/plain": [
              "<Figure size 432x288 with 1 Axes>"
            ]
          },
          "metadata": {
            "needs_background": "light"
          }
        }
      ]
    },
    {
      "cell_type": "markdown",
      "metadata": {
        "id": "J12Rs0aNUF8W"
      },
      "source": [
        "## 1.2 自定义样式 `ax.plot(color, label, alpha, linestyle)`\n",
        "\n",
        "`linestyle`: '-', '--', '-.', ':',''\n",
        "`alpha`：float, 定义线条粗细"
      ]
    },
    {
      "cell_type": "code",
      "metadata": {
        "colab": {
          "base_uri": "https://localhost:8080/",
          "height": 265
        },
        "id": "Qb2Nbv1K6pny",
        "outputId": "25d0774a-e693-40ad-8863-f0c0ee5afb53"
      },
      "source": [
        "fig, ax = plt.subplots()\n",
        "\n",
        "ax.plot(df_gdp['date'], df_gdp['gdp'],\n",
        "        color = 'red',\n",
        "        label = 'GDP',\n",
        "        alpha = 15,\n",
        "        linestyle = ':')\n",
        "\n",
        "plt.show()"
      ],
      "execution_count": 32,
      "outputs": [
        {
          "output_type": "display_data",
          "data": {
            "image/png": "[encoded data removed]",
            "text/plain": [
              "<Figure size 432x288 with 1 Axes>"
            ]
          },
          "metadata": {
            "needs_background": "light"
          }
        }
      ]
    },
    {
      "cell_type": "markdown",
      "metadata": {
        "id": "5yYbhFda6oCo"
      },
      "source": [
        " ## 1.3 自定义标注及边框 `ax.set_ylabel`, `ax.set_xlabel`, `ax.set_title`, `ax.spines['top'/'bottom'/'left'/'right'].set_visible(False)`, `ax.text(x,y,s)`\n"
      ]
    },
    {
      "cell_type": "code",
      "metadata": {
        "colab": {
          "base_uri": "https://localhost:8080/",
          "height": 295
        },
        "id": "fhz_FW7u8J-j",
        "outputId": "8210f7aa-db18-49f0-ddad-803fc20d9d04"
      },
      "source": [
        "fig, ax = plt.subplots()\n",
        "\n",
        "ax.plot(df_gdp['date'], df_gdp['gdp'])\n",
        "\n",
        "# 设置x，y轴标签\n",
        "ax.set_ylabel('(Billions $)')\n",
        "ax.set_xlabel('Year')\n",
        "\n",
        "# 设置标题\n",
        "ax.set_title('U.S. GDP') \n",
        "\n",
        "# 设置上、右边框不可见\n",
        "ax.spines['right'].set_visible(False) \n",
        "ax.spines['top'].set_visible(False)\n",
        "\n",
        "# 设置标签\n",
        "ax.text(1989, 8500, 'GDP')\n",
        "\n",
        "plt.show()"
      ],
      "execution_count": 22,
      "outputs": [
        {
          "output_type": "display_data",
          "data": {
            "image/png": "[encoded data removed]",
            "text/plain": [
              "<Figure size 432x288 with 1 Axes>"
            ]
          },
          "metadata": {
            "needs_background": "light"
          }
        }
      ]
    },
    {
      "cell_type": "markdown",
      "metadata": {
        "id": "Ev_canGz9kEl"
      },
      "source": [
        "## 1.4 可视化图表的储存 `plt.savefig(filepath)`\n",
        "\n",
        "`plt.savefig()`既支持保存png格式，也支持pdf格式。"
      ]
    },
    {
      "cell_type": "code",
      "metadata": {
        "colab": {
          "base_uri": "https://localhost:8080/",
          "height": 265
        },
        "id": "6-Om-JNQ9sy3",
        "outputId": "3666a9d9-d45e-4ffe-e3d1-05da74b52049"
      },
      "source": [
        "fig, ax = plt.subplots()\n",
        "\n",
        "ax.plot(df_gdp['date'], df_gdp['gdp'])\n",
        "\n",
        "# PDF\n",
        "plt.savefig('gdp.pdf')\n",
        "\n",
        "# PNG\n",
        "plt.savefig('gdp.png')\n",
        "\n",
        "plt.show()"
      ],
      "execution_count": 26,
      "outputs": [
        {
          "output_type": "display_data",
          "data": {
            "image/png": "[encoded data removed]",
            "text/plain": [
              "<Figure size 432x288 with 1 Axes>"
            ]
          },
          "metadata": {
            "needs_background": "light"
          }
        }
      ]
    },
    {
      "cell_type": "markdown",
      "metadata": {
        "id": "94stf_cL-mQ9"
      },
      "source": [
        "## 1.5 直方图 Histograms `fig, ax = ax.hist(x, bins, color, alpha)`\n",
        "\n",
        "`bins`：int或sequence或string\n",
        "\n",
        "  *   int: 定义有多少个bins\n",
        "  *   sequnce: 定义各个bins的起始与结束\n",
        "  *   string: 选择已有策略: 'auto', 'fd', 'doane', 'scott', 'stone', 'rice', 'sturges', 'sqrt'\n",
        "\n",
        "`alpha`: ∈[0,1]\n",
        "\n"
      ]
    },
    {
      "cell_type": "code",
      "metadata": {
        "colab": {
          "base_uri": "https://localhost:8080/",
          "height": 203
        },
        "id": "WT_xFzSfAO8G",
        "outputId": "19aa8829-53c2-470e-ec5f-1b5da73e7000"
      },
      "source": [
        "# 统计gdp增速\n",
        "df_gdp['gdp_growth'] = df_gdp['gdp'].pct_change() * 100\n",
        "df_gdp.head()"
      ],
      "execution_count": 28,
      "outputs": [
        {
          "output_type": "execute_result",
          "data": {
            "text/html": [
              "<div>\n",
              "<style scoped>\n",
              "    .dataframe tbody tr th:only-of-type {\n",
              "        vertical-align: middle;\n",
              "    }\n",
              "\n",
              "    .dataframe tbody tr th {\n",
              "        vertical-align: top;\n",
              "    }\n",
              "\n",
              "    .dataframe thead th {\n",
              "        text-align: right;\n",
              "    }\n",
              "</style>\n",
              "<table border=\"1\" class=\"dataframe\">\n",
              "  <thead>\n",
              "    <tr style=\"text-align: right;\">\n",
              "      <th></th>\n",
              "      <th>date</th>\n",
              "      <th>gdp</th>\n",
              "      <th>inv</th>\n",
              "      <th>gov</th>\n",
              "      <th>ex</th>\n",
              "      <th>im</th>\n",
              "      <th>gdp_growth</th>\n",
              "    </tr>\n",
              "  </thead>\n",
              "  <tbody>\n",
              "    <tr>\n",
              "      <th>0</th>\n",
              "      <td>1929</td>\n",
              "      <td>104.556</td>\n",
              "      <td>17.170</td>\n",
              "      <td>9.622</td>\n",
              "      <td>5.939</td>\n",
              "      <td>5.556</td>\n",
              "      <td>NaN</td>\n",
              "    </tr>\n",
              "    <tr>\n",
              "      <th>1</th>\n",
              "      <td>1930</td>\n",
              "      <td>92.160</td>\n",
              "      <td>11.428</td>\n",
              "      <td>10.273</td>\n",
              "      <td>4.444</td>\n",
              "      <td>4.121</td>\n",
              "      <td>-11.855848</td>\n",
              "    </tr>\n",
              "    <tr>\n",
              "      <th>2</th>\n",
              "      <td>1931</td>\n",
              "      <td>77.391</td>\n",
              "      <td>6.549</td>\n",
              "      <td>10.169</td>\n",
              "      <td>2.906</td>\n",
              "      <td>2.905</td>\n",
              "      <td>-16.025391</td>\n",
              "    </tr>\n",
              "    <tr>\n",
              "      <th>3</th>\n",
              "      <td>1932</td>\n",
              "      <td>59.522</td>\n",
              "      <td>1.819</td>\n",
              "      <td>8.946</td>\n",
              "      <td>1.975</td>\n",
              "      <td>1.932</td>\n",
              "      <td>-23.089248</td>\n",
              "    </tr>\n",
              "    <tr>\n",
              "      <th>4</th>\n",
              "      <td>1933</td>\n",
              "      <td>57.154</td>\n",
              "      <td>2.276</td>\n",
              "      <td>8.875</td>\n",
              "      <td>1.987</td>\n",
              "      <td>1.929</td>\n",
              "      <td>-3.978361</td>\n",
              "    </tr>\n",
              "  </tbody>\n",
              "</table>\n",
              "</div>"
            ],
            "text/plain": [
              "   date      gdp     inv     gov     ex     im  gdp_growth\n",
              "0  1929  104.556  17.170   9.622  5.939  5.556         NaN\n",
              "1  1930   92.160  11.428  10.273  4.444  4.121  -11.855848\n",
              "2  1931   77.391   6.549  10.169  2.906  2.905  -16.025391\n",
              "3  1932   59.522   1.819   8.946  1.975  1.932  -23.089248\n",
              "4  1933   57.154   2.276   8.875  1.987  1.929   -3.978361"
            ]
          },
          "metadata": {},
          "execution_count": 28
        }
      ]
    },
    {
      "cell_type": "code",
      "metadata": {
        "colab": {
          "base_uri": "https://localhost:8080/",
          "height": 265
        },
        "id": "4-R3qLoWAh3o",
        "outputId": "2a24d745-572e-42bf-a97e-8bbf07f370b8"
      },
      "source": [
        "# bins为int\n",
        "\n",
        "fig, ax = plt.subplots()\n",
        "\n",
        "ax.hist(df_gdp['gdp_growth'].dropna(),\n",
        "        bins = 20,\n",
        "        color = 'red',\n",
        "        alpha = 0.5)\n",
        "\n",
        "plt.show()"
      ],
      "execution_count": 30,
      "outputs": [
        {
          "output_type": "display_data",
          "data": {
            "image/png": "[encoded data removed]",
            "text/plain": [
              "<Figure size 432x288 with 1 Axes>"
            ]
          },
          "metadata": {
            "needs_background": "light"
          }
        }
      ]
    },
    {
      "cell_type": "code",
      "metadata": {
        "colab": {
          "base_uri": "https://localhost:8080/",
          "height": 265
        },
        "id": "ZAuwh-v1A8Ay",
        "outputId": "2f5745bd-e8f7-4ade-9024-d716db414b3c"
      },
      "source": [
        "# bins为sequence\n",
        "\n",
        "fig, ax = plt.subplots()\n",
        "\n",
        "ax.hist(df_gdp['gdp_growth'].dropna(),\n",
        "        bins = [1, 2, 3, 4], #三段bin的范围分别为[1,2),[2,3),[3,4]\n",
        "        color = 'yellow',\n",
        "        alpha = 0.75)\n",
        "\n",
        "plt.show()"
      ],
      "execution_count": 36,
      "outputs": [
        {
          "output_type": "display_data",
          "data": {
            "image/png": "[encoded data removed]",
            "text/plain": [
              "<Figure size 432x288 with 1 Axes>"
            ]
          },
          "metadata": {
            "needs_background": "light"
          }
        }
      ]
    },
    {
      "cell_type": "code",
      "metadata": {
        "colab": {
          "base_uri": "https://localhost:8080/",
          "height": 265
        },
        "id": "kj_ymHK9CPlG",
        "outputId": "df46c578-c2f2-4063-971e-6f900bc471b4"
      },
      "source": [
        "# bins为str\n",
        "\n",
        "fig, ax = plt.subplots()\n",
        "\n",
        "ax.hist(df_gdp['gdp_growth'].dropna(),\n",
        "        bins = 'scott',\n",
        "        color = 'blue',\n",
        "        alpha = 1)\n",
        "\n",
        "plt.show()"
      ],
      "execution_count": 39,
      "outputs": [
        {
          "output_type": "display_data",
          "data": {
            "image/png": "[encoded data removed]",
            "text/plain": [
              "<Figure size 432x288 with 1 Axes>"
            ]
          },
          "metadata": {
            "needs_background": "light"
          }
        }
      ]
    },
    {
      "cell_type": "markdown",
      "metadata": {
        "id": "4ZZhjggZC4rK"
      },
      "source": [
        "## 1.6 子图 Subplots `fig, ax = plt.subplots(row, col, figsize)`\n"
      ]
    },
    {
      "cell_type": "code",
      "metadata": {
        "colab": {
          "base_uri": "https://localhost:8080/",
          "height": 281
        },
        "id": "cLKWeFrdDX5T",
        "outputId": "1c483317-d031-4734-bb2d-49be2c98f948"
      },
      "source": [
        "fig, ax = plt.subplots(1, 2, figsize=(10,4))\n",
        "\n",
        "# 第一张图\n",
        "ax[0].plot(df_gdp['date'],df_gdp['gdp'],\n",
        "           color = 'red',\n",
        "           label = 'GDP')\n",
        "ax[0].set_title('GDP')\n",
        "\n",
        "# 第二张图\n",
        "ax[1].hist(df_gdp['gdp_growth'],\n",
        "           color = 'blue')\n",
        "ax[1].set_title('GDP growth rates')\n",
        "\n",
        "# 通过循环定义全部子图\n",
        "for a in ax:\n",
        "  a.spines['top'].set_visible(False)\n",
        "  a.spines['right'].set_visible(False)\n",
        "\n",
        "plt.show()"
      ],
      "execution_count": 45,
      "outputs": [
        {
          "output_type": "display_data",
          "data": {
            "image/png": "[encoded data removed]",
            "text/plain": [
              "<Figure size 720x288 with 2 Axes>"
            ]
          },
          "metadata": {
            "needs_background": "light"
          }
        }
      ]
    },
    {
      "cell_type": "markdown",
      "metadata": {
        "id": "nufiaAWzE3vw"
      },
      "source": [
        "## 1.7 散点图 Scatter `ax.scatter(x, y)`\n",
        "\n",
        "散点图往往能帮读者更直观的体会到两个变量之间可能存在的线性（或其他）关系。"
      ]
    },
    {
      "cell_type": "code",
      "metadata": {
        "colab": {
          "base_uri": "https://localhost:8080/",
          "height": 326
        },
        "id": "TIREsYRCFPNl",
        "outputId": "c18f4857-1ed0-4ce3-b43b-be058e18f03b"
      },
      "source": [
        "# 选取2010-2019的GDP\n",
        "\n",
        "df_gdp_1 = df_gdp[df_gdp['date']>=2010]\n",
        "df_gdp_1.set_index('date',inplace=True)\n",
        "df_gdp_1"
      ],
      "execution_count": 49,
      "outputs": [
        {
          "output_type": "execute_result",
          "data": {
            "text/html": [
              "<div>\n",
              "<style scoped>\n",
              "    .dataframe tbody tr th:only-of-type {\n",
              "        vertical-align: middle;\n",
              "    }\n",
              "\n",
              "    .dataframe tbody tr th {\n",
              "        vertical-align: top;\n",
              "    }\n",
              "\n",
              "    .dataframe thead th {\n",
              "        text-align: right;\n",
              "    }\n",
              "</style>\n",
              "<table border=\"1\" class=\"dataframe\">\n",
              "  <thead>\n",
              "    <tr style=\"text-align: right;\">\n",
              "      <th></th>\n",
              "      <th>gdp</th>\n",
              "      <th>inv</th>\n",
              "      <th>gov</th>\n",
              "      <th>ex</th>\n",
              "      <th>im</th>\n",
              "      <th>gdp_growth</th>\n",
              "    </tr>\n",
              "    <tr>\n",
              "      <th>date</th>\n",
              "      <th></th>\n",
              "      <th></th>\n",
              "      <th></th>\n",
              "      <th></th>\n",
              "      <th></th>\n",
              "      <th></th>\n",
              "    </tr>\n",
              "  </thead>\n",
              "  <tbody>\n",
              "    <tr>\n",
              "      <th>2010</th>\n",
              "      <td>14992.052</td>\n",
              "      <td>2165.473</td>\n",
              "      <td>3154.647</td>\n",
              "      <td>1846.280</td>\n",
              "      <td>2360.183</td>\n",
              "      <td>3.758894</td>\n",
              "    </tr>\n",
              "    <tr>\n",
              "      <th>2011</th>\n",
              "      <td>15542.582</td>\n",
              "      <td>2332.562</td>\n",
              "      <td>3148.372</td>\n",
              "      <td>2102.995</td>\n",
              "      <td>2682.456</td>\n",
              "      <td>3.672146</td>\n",
              "    </tr>\n",
              "    <tr>\n",
              "      <th>2012</th>\n",
              "      <td>16197.007</td>\n",
              "      <td>2621.754</td>\n",
              "      <td>3137.010</td>\n",
              "      <td>2191.280</td>\n",
              "      <td>2759.851</td>\n",
              "      <td>4.210529</td>\n",
              "    </tr>\n",
              "    <tr>\n",
              "      <th>2013</th>\n",
              "      <td>16784.851</td>\n",
              "      <td>2826.013</td>\n",
              "      <td>3132.409</td>\n",
              "      <td>2273.428</td>\n",
              "      <td>2764.210</td>\n",
              "      <td>3.629337</td>\n",
              "    </tr>\n",
              "    <tr>\n",
              "      <th>2014</th>\n",
              "      <td>17521.747</td>\n",
              "      <td>3038.931</td>\n",
              "      <td>3167.041</td>\n",
              "      <td>2371.027</td>\n",
              "      <td>2879.284</td>\n",
              "      <td>4.390245</td>\n",
              "    </tr>\n",
              "    <tr>\n",
              "      <th>2015</th>\n",
              "      <td>18219.297</td>\n",
              "      <td>3211.971</td>\n",
              "      <td>3234.210</td>\n",
              "      <td>2265.047</td>\n",
              "      <td>2786.461</td>\n",
              "      <td>3.981053</td>\n",
              "    </tr>\n",
              "    <tr>\n",
              "      <th>2016</th>\n",
              "      <td>18707.189</td>\n",
              "      <td>3169.887</td>\n",
              "      <td>3290.979</td>\n",
              "      <td>2217.576</td>\n",
              "      <td>2738.146</td>\n",
              "      <td>2.677886</td>\n",
              "    </tr>\n",
              "    <tr>\n",
              "      <th>2017</th>\n",
              "      <td>19485.394</td>\n",
              "      <td>3367.965</td>\n",
              "      <td>3374.444</td>\n",
              "      <td>2350.175</td>\n",
              "      <td>2928.596</td>\n",
              "      <td>4.159925</td>\n",
              "    </tr>\n",
              "  </tbody>\n",
              "</table>\n",
              "</div>"
            ],
            "text/plain": [
              "            gdp       inv       gov        ex        im  gdp_growth\n",
              "date                                                               \n",
              "2010  14992.052  2165.473  3154.647  1846.280  2360.183    3.758894\n",
              "2011  15542.582  2332.562  3148.372  2102.995  2682.456    3.672146\n",
              "2012  16197.007  2621.754  3137.010  2191.280  2759.851    4.210529\n",
              "2013  16784.851  2826.013  3132.409  2273.428  2764.210    3.629337\n",
              "2014  17521.747  3038.931  3167.041  2371.027  2879.284    4.390245\n",
              "2015  18219.297  3211.971  3234.210  2265.047  2786.461    3.981053\n",
              "2016  18707.189  3169.887  3290.979  2217.576  2738.146    2.677886\n",
              "2017  19485.394  3367.965  3374.444  2350.175  2928.596    4.159925"
            ]
          },
          "metadata": {},
          "execution_count": 49
        }
      ]
    },
    {
      "cell_type": "code",
      "metadata": {
        "colab": {
          "base_uri": "https://localhost:8080/",
          "height": 281
        },
        "id": "nmAkKqDoFqEq",
        "outputId": "bac8b2b9-572d-423a-8bc7-bf6459a45f0b"
      },
      "source": [
        "# 创建散点图\n",
        "\n",
        "fig, ax = plt.subplots()\n",
        "\n",
        "ax.scatter(df_gdp_1.index, df_gdp_1['gdp'],\n",
        "           color = 'black')\n",
        "ax.set_title('GDP (2010-2019)')\n",
        "\n",
        "plt.show()"
      ],
      "execution_count": 52,
      "outputs": [
        {
          "output_type": "display_data",
          "data": {
            "image/png": "[encoded data removed]",
            "text/plain": [
              "<Figure size 432x288 with 1 Axes>"
            ]
          },
          "metadata": {
            "needs_background": "light"
          }
        }
      ]
    },
    {
      "cell_type": "markdown",
      "metadata": {
        "id": "R2cOO3DjIFqN"
      },
      "source": [
        "## 1.8 柱状图 Bar plots `ax.bar(x, y)`\n",
        "\n",
        "柱状图适合比较同一量级上的数据。例如GDP增长在每20年间的平均值。"
      ]
    },
    {
      "cell_type": "code",
      "metadata": {
        "colab": {
          "base_uri": "https://localhost:8080/",
          "height": 447
        },
        "id": "H2OJP5_XIXZs",
        "outputId": "4f5a4e79-9419-4aae-e448-adbc79ddbfe0"
      },
      "source": [
        "df_gdp_2 = df_gdp.set_index('date')\n",
        "\n",
        "# 1920-2021按照20年间隔划分\n",
        "df_gdp_2['gr_20yr'] = pd.cut(df_gdp_2.index, \n",
        "                             bins=range(1920,2021,20)) \n",
        "df_gdp_2"
      ],
      "execution_count": 77,
      "outputs": [
        {
          "output_type": "execute_result",
          "data": {
            "text/html": [
              "<div>\n",
              "<style scoped>\n",
              "    .dataframe tbody tr th:only-of-type {\n",
              "        vertical-align: middle;\n",
              "    }\n",
              "\n",
              "    .dataframe tbody tr th {\n",
              "        vertical-align: top;\n",
              "    }\n",
              "\n",
              "    .dataframe thead th {\n",
              "        text-align: right;\n",
              "    }\n",
              "</style>\n",
              "<table border=\"1\" class=\"dataframe\">\n",
              "  <thead>\n",
              "    <tr style=\"text-align: right;\">\n",
              "      <th></th>\n",
              "      <th>gdp</th>\n",
              "      <th>inv</th>\n",
              "      <th>gov</th>\n",
              "      <th>ex</th>\n",
              "      <th>im</th>\n",
              "      <th>gdp_growth</th>\n",
              "      <th>gr_20yr</th>\n",
              "    </tr>\n",
              "    <tr>\n",
              "      <th>date</th>\n",
              "      <th></th>\n",
              "      <th></th>\n",
              "      <th></th>\n",
              "      <th></th>\n",
              "      <th></th>\n",
              "      <th></th>\n",
              "      <th></th>\n",
              "    </tr>\n",
              "  </thead>\n",
              "  <tbody>\n",
              "    <tr>\n",
              "      <th>1929</th>\n",
              "      <td>104.556</td>\n",
              "      <td>17.170</td>\n",
              "      <td>9.622</td>\n",
              "      <td>5.939</td>\n",
              "      <td>5.556</td>\n",
              "      <td>NaN</td>\n",
              "      <td>(1920, 1940]</td>\n",
              "    </tr>\n",
              "    <tr>\n",
              "      <th>1930</th>\n",
              "      <td>92.160</td>\n",
              "      <td>11.428</td>\n",
              "      <td>10.273</td>\n",
              "      <td>4.444</td>\n",
              "      <td>4.121</td>\n",
              "      <td>-11.855848</td>\n",
              "      <td>(1920, 1940]</td>\n",
              "    </tr>\n",
              "    <tr>\n",
              "      <th>1931</th>\n",
              "      <td>77.391</td>\n",
              "      <td>6.549</td>\n",
              "      <td>10.169</td>\n",
              "      <td>2.906</td>\n",
              "      <td>2.905</td>\n",
              "      <td>-16.025391</td>\n",
              "      <td>(1920, 1940]</td>\n",
              "    </tr>\n",
              "    <tr>\n",
              "      <th>1932</th>\n",
              "      <td>59.522</td>\n",
              "      <td>1.819</td>\n",
              "      <td>8.946</td>\n",
              "      <td>1.975</td>\n",
              "      <td>1.932</td>\n",
              "      <td>-23.089248</td>\n",
              "      <td>(1920, 1940]</td>\n",
              "    </tr>\n",
              "    <tr>\n",
              "      <th>1933</th>\n",
              "      <td>57.154</td>\n",
              "      <td>2.276</td>\n",
              "      <td>8.875</td>\n",
              "      <td>1.987</td>\n",
              "      <td>1.929</td>\n",
              "      <td>-3.978361</td>\n",
              "      <td>(1920, 1940]</td>\n",
              "    </tr>\n",
              "    <tr>\n",
              "      <th>...</th>\n",
              "      <td>...</td>\n",
              "      <td>...</td>\n",
              "      <td>...</td>\n",
              "      <td>...</td>\n",
              "      <td>...</td>\n",
              "      <td>...</td>\n",
              "      <td>...</td>\n",
              "    </tr>\n",
              "    <tr>\n",
              "      <th>2013</th>\n",
              "      <td>16784.851</td>\n",
              "      <td>2826.013</td>\n",
              "      <td>3132.409</td>\n",
              "      <td>2273.428</td>\n",
              "      <td>2764.210</td>\n",
              "      <td>3.629337</td>\n",
              "      <td>(2000, 2020]</td>\n",
              "    </tr>\n",
              "    <tr>\n",
              "      <th>2014</th>\n",
              "      <td>17521.747</td>\n",
              "      <td>3038.931</td>\n",
              "      <td>3167.041</td>\n",
              "      <td>2371.027</td>\n",
              "      <td>2879.284</td>\n",
              "      <td>4.390245</td>\n",
              "      <td>(2000, 2020]</td>\n",
              "    </tr>\n",
              "    <tr>\n",
              "      <th>2015</th>\n",
              "      <td>18219.297</td>\n",
              "      <td>3211.971</td>\n",
              "      <td>3234.210</td>\n",
              "      <td>2265.047</td>\n",
              "      <td>2786.461</td>\n",
              "      <td>3.981053</td>\n",
              "      <td>(2000, 2020]</td>\n",
              "    </tr>\n",
              "    <tr>\n",
              "      <th>2016</th>\n",
              "      <td>18707.189</td>\n",
              "      <td>3169.887</td>\n",
              "      <td>3290.979</td>\n",
              "      <td>2217.576</td>\n",
              "      <td>2738.146</td>\n",
              "      <td>2.677886</td>\n",
              "      <td>(2000, 2020]</td>\n",
              "    </tr>\n",
              "    <tr>\n",
              "      <th>2017</th>\n",
              "      <td>19485.394</td>\n",
              "      <td>3367.965</td>\n",
              "      <td>3374.444</td>\n",
              "      <td>2350.175</td>\n",
              "      <td>2928.596</td>\n",
              "      <td>4.159925</td>\n",
              "      <td>(2000, 2020]</td>\n",
              "    </tr>\n",
              "  </tbody>\n",
              "</table>\n",
              "<p>89 rows × 7 columns</p>\n",
              "</div>"
            ],
            "text/plain": [
              "            gdp       inv       gov  ...        im  gdp_growth       gr_20yr\n",
              "date                                 ...                                    \n",
              "1929    104.556    17.170     9.622  ...     5.556         NaN  (1920, 1940]\n",
              "1930     92.160    11.428    10.273  ...     4.121  -11.855848  (1920, 1940]\n",
              "1931     77.391     6.549    10.169  ...     2.905  -16.025391  (1920, 1940]\n",
              "1932     59.522     1.819     8.946  ...     1.932  -23.089248  (1920, 1940]\n",
              "1933     57.154     2.276     8.875  ...     1.929   -3.978361  (1920, 1940]\n",
              "...         ...       ...       ...  ...       ...         ...           ...\n",
              "2013  16784.851  2826.013  3132.409  ...  2764.210    3.629337  (2000, 2020]\n",
              "2014  17521.747  3038.931  3167.041  ...  2879.284    4.390245  (2000, 2020]\n",
              "2015  18219.297  3211.971  3234.210  ...  2786.461    3.981053  (2000, 2020]\n",
              "2016  18707.189  3169.887  3290.979  ...  2738.146    2.677886  (2000, 2020]\n",
              "2017  19485.394  3367.965  3374.444  ...  2928.596    4.159925  (2000, 2020]\n",
              "\n",
              "[89 rows x 7 columns]"
            ]
          },
          "metadata": {},
          "execution_count": 77
        }
      ]
    },
    {
      "cell_type": "code",
      "metadata": {
        "colab": {
          "base_uri": "https://localhost:8080/",
          "height": 338
        },
        "id": "ZARYBJGtJ9zE",
        "outputId": "15b57514-e6d0-432c-d36d-7715f8c7a547"
      },
      "source": [
        "# 以'gr_20yr'中的量为index计算平均值\n",
        "df_gdp_20yr = df_gdp_2.groupby('gr_20yr').mean() \n",
        "df_gdp_20yr"
      ],
      "execution_count": 78,
      "outputs": [
        {
          "output_type": "execute_result",
          "data": {
            "text/html": [
              "<div>\n",
              "<style scoped>\n",
              "    .dataframe tbody tr th:only-of-type {\n",
              "        vertical-align: middle;\n",
              "    }\n",
              "\n",
              "    .dataframe tbody tr th {\n",
              "        vertical-align: top;\n",
              "    }\n",
              "\n",
              "    .dataframe thead th {\n",
              "        text-align: right;\n",
              "    }\n",
              "</style>\n",
              "<table border=\"1\" class=\"dataframe\">\n",
              "  <thead>\n",
              "    <tr style=\"text-align: right;\">\n",
              "      <th></th>\n",
              "      <th>gdp</th>\n",
              "      <th>inv</th>\n",
              "      <th>gov</th>\n",
              "      <th>ex</th>\n",
              "      <th>im</th>\n",
              "      <th>gdp_growth</th>\n",
              "    </tr>\n",
              "    <tr>\n",
              "      <th>gr_20yr</th>\n",
              "      <th></th>\n",
              "      <th></th>\n",
              "      <th></th>\n",
              "      <th></th>\n",
              "      <th></th>\n",
              "      <th></th>\n",
              "    </tr>\n",
              "  </thead>\n",
              "  <tbody>\n",
              "    <tr>\n",
              "      <th>(1920, 1940]</th>\n",
              "      <td>82.778750</td>\n",
              "      <td>8.834833</td>\n",
              "      <td>11.764250</td>\n",
              "      <td>3.525333</td>\n",
              "      <td>3.182167</td>\n",
              "      <td>0.725608</td>\n",
              "    </tr>\n",
              "    <tr>\n",
              "      <th>(1940, 1960]</th>\n",
              "      <td>333.143850</td>\n",
              "      <td>49.295250</td>\n",
              "      <td>81.340300</td>\n",
              "      <td>14.942200</td>\n",
              "      <td>12.910850</td>\n",
              "      <td>8.953970</td>\n",
              "    </tr>\n",
              "    <tr>\n",
              "      <th>(1960, 1980]</th>\n",
              "      <td>1341.311650</td>\n",
              "      <td>240.384950</td>\n",
              "      <td>292.761300</td>\n",
              "      <td>95.245550</td>\n",
              "      <td>96.672500</td>\n",
              "      <td>8.688144</td>\n",
              "    </tr>\n",
              "    <tr>\n",
              "      <th>(1980, 2000]</th>\n",
              "      <td>6244.898500</td>\n",
              "      <td>1124.944800</td>\n",
              "      <td>1220.329450</td>\n",
              "      <td>596.833750</td>\n",
              "      <td>704.544900</td>\n",
              "      <td>6.616591</td>\n",
              "    </tr>\n",
              "    <tr>\n",
              "      <th>(2000, 2020]</th>\n",
              "      <td>14888.542235</td>\n",
              "      <td>2542.593294</td>\n",
              "      <td>2833.751353</td>\n",
              "      <td>1747.807941</td>\n",
              "      <td>2308.219471</td>\n",
              "      <td>3.867038</td>\n",
              "    </tr>\n",
              "  </tbody>\n",
              "</table>\n",
              "</div>"
            ],
            "text/plain": [
              "                       gdp          inv  ...           im  gdp_growth\n",
              "gr_20yr                                  ...                         \n",
              "(1920, 1940]     82.778750     8.834833  ...     3.182167    0.725608\n",
              "(1940, 1960]    333.143850    49.295250  ...    12.910850    8.953970\n",
              "(1960, 1980]   1341.311650   240.384950  ...    96.672500    8.688144\n",
              "(1980, 2000]   6244.898500  1124.944800  ...   704.544900    6.616591\n",
              "(2000, 2020]  14888.542235  2542.593294  ...  2308.219471    3.867038\n",
              "\n",
              "[5 rows x 6 columns]"
            ]
          },
          "metadata": {},
          "execution_count": 78
        }
      ]
    },
    {
      "cell_type": "code",
      "metadata": {
        "colab": {
          "base_uri": "https://localhost:8080/",
          "height": 281
        },
        "id": "KQ1w5_VyKFlQ",
        "outputId": "f3822c7f-7f96-492d-bb92-da63594b0500"
      },
      "source": [
        "# 画柱状图\n",
        "\n",
        "fig, ax = plt.subplots()\n",
        "\n",
        "ax.bar(df_gdp_20yr.index.astype(str),df_gdp_20yr['gdp_growth'],\n",
        "       color = 'silver')\n",
        "ax.set_title('GDP growth')\n",
        "sns.despine(ax=ax)\n"
      ],
      "execution_count": 74,
      "outputs": [
        {
          "output_type": "display_data",
          "data": {
            "image/png": "[encoded data removed]",
            "text/plain": [
              "<Figure size 432x288 with 1 Axes>"
            ]
          },
          "metadata": {
            "needs_background": "light"
          }
        }
      ]
    },
    {
      "cell_type": "markdown",
      "metadata": {
        "id": "m1q1PragMBg4"
      },
      "source": [
        "# 2. `seaborn` ——更复杂一些的作图库\n",
        "> seaborn 是封装在matplotlib库之上的可视化库，这个库提供了丰富的可视化模板，使画图更加方便。\n",
        "\n"
      ]
    },
    {
      "cell_type": "markdown",
      "metadata": {
        "id": "FtWgqLk2Gcar"
      },
      "source": [
        "## 2.1 回归线 regression line `sns.regplot(x, y, data, ax, color, ci)`\n",
        "\n",
        "如果散点图确实呈现了某种线性关系，加一条回归线会使整个图更加直观。这需要用到seaborn库的`sns.regplot()`。\n"
      ]
    },
    {
      "cell_type": "code",
      "metadata": {
        "id": "8rUVHLPnGnA1"
      },
      "source": [
        "import seaborn as sns"
      ],
      "execution_count": 53,
      "outputs": []
    },
    {
      "cell_type": "code",
      "metadata": {
        "colab": {
          "base_uri": "https://localhost:8080/",
          "height": 295
        },
        "id": "RQQBgPr5HZF_",
        "outputId": "c539a44b-d2cc-4235-9ced-5812b3fc1c58"
      },
      "source": [
        "fig, ax = plt.subplots()\n",
        "\n",
        "sns.regplot(x = df_gdp_1.index,\n",
        "            y = 'gdp',\n",
        "            data = df_gdp_1,\n",
        "            ax = ax,\n",
        "            color = 'black',\n",
        "            ci = 0)\n",
        "ax.scatter(df_gdp_1.index, df_gdp_1['gdp'],\n",
        "           color = 'black')\n",
        "ax.set_title('GDP (2010-2019)')\n",
        "\n",
        "plt.show()"
      ],
      "execution_count": 59,
      "outputs": [
        {
          "output_type": "display_data",
          "data": {
            "image/png": "[encoded data removed]",
            "text/plain": [
              "<Figure size 432x288 with 1 Axes>"
            ]
          },
          "metadata": {
            "needs_background": "light"
          }
        }
      ]
    },
    {
      "cell_type": "markdown",
      "metadata": {
        "id": "8pRsLhYdNDAd"
      },
      "source": [
        "## 2.1.1 置信区间 confidence interval `ci`\n",
        "\n",
        "`sns.regplot`中的`ci`代表统计学中的置信区间。我们尝试将它调整到95%。"
      ]
    },
    {
      "cell_type": "code",
      "metadata": {
        "colab": {
          "base_uri": "https://localhost:8080/",
          "height": 295
        },
        "id": "g6EeU1XzNSDE",
        "outputId": "0004bee8-a791-46c8-b83c-85056b95baaf"
      },
      "source": [
        "fig, ax = plt.subplots()\n",
        "\n",
        "sns.regplot(x = df_gdp_1.index,\n",
        "            y = 'gdp',\n",
        "            data = df_gdp_1,\n",
        "            ax = ax,\n",
        "            color = 'black',\n",
        "            ci = 95)                        # confidence interval → 95%\n",
        "ax.scatter(df_gdp_1.index, df_gdp_1['gdp'],\n",
        "           color = 'black')\n",
        "ax.set_title('GDP (2010-2019)')\n",
        "\n",
        "plt.show()"
      ],
      "execution_count": 79,
      "outputs": [
        {
          "output_type": "display_data",
          "data": {
            "image/png": "[encoded data removed]",
            "text/plain": [
              "<Figure size 432x288 with 1 Axes>"
            ]
          },
          "metadata": {
            "needs_background": "light"
          }
        }
      ]
    },
    {
      "cell_type": "markdown",
      "metadata": {
        "id": "Jx8aP1QENene"
      },
      "source": [
        "在这张图上的区别似乎不明显，不过你需要知道`sns.regplots()`能够定义置信区间`ci`。"
      ]
    },
    {
      "cell_type": "markdown",
      "metadata": {
        "id": "pYAHx0oXPeGj"
      },
      "source": [
        "## 2.2 泡泡图 Bubble plot `sns.regplot(scatter_kws={'s':data_var})`\n",
        "\n",
        "泡泡图和散点图很类似，但是多了一个维度：每个“泡泡”的大小由另一个变量决定"
      ]
    },
    {
      "cell_type": "code",
      "metadata": {
        "colab": {
          "base_uri": "https://localhost:8080/",
          "height": 279
        },
        "id": "bhLj40LmP2K2",
        "outputId": "b3978529-f2ba-401a-8e81-2c02f8e04676"
      },
      "source": [
        "fig, ax = plt.subplots()\n",
        "\n",
        "sns.regplot(x = 'date',\n",
        "            y = 'gdp',\n",
        "            data = df_gdp,\n",
        "            scatter_kws = {'s':df_gdp['inv']/50,\n",
        "                           'alpha':0.5},\n",
        "            color = 'blue',\n",
        "            ci = 95)\n",
        "\n",
        "plt.show()"
      ],
      "execution_count": 112,
      "outputs": [
        {
          "output_type": "display_data",
          "data": {
            "image/png": "[encoded data removed]",
            "text/plain": [
              "<Figure size 432x288 with 1 Axes>"
            ]
          },
          "metadata": {
            "needs_background": "light"
          }
        }
      ]
    },
    {
      "cell_type": "code",
      "metadata": {
        "colab": {
          "base_uri": "https://localhost:8080/",
          "height": 265
        },
        "id": "RfJDo61TQ2cv",
        "outputId": "db72b17e-31c0-42b8-f270-a4205d66f468"
      },
      "source": [
        "fig, ax = plt.subplots()\n",
        "\n",
        "ax.plot(df_gdp['date'], df_gdp['gdp'])\n",
        "\n",
        "plt.show()"
      ],
      "execution_count": 100,
      "outputs": [
        {
          "output_type": "display_data",
          "data": {
            "image/png": "[encoded data removed]",
            "text/plain": [
              "<Figure size 432x288 with 1 Axes>"
            ]
          },
          "metadata": {
            "needs_background": "light"
          }
        }
      ]
    },
    {
      "cell_type": "markdown",
      "metadata": {
        "id": "phv2ZVs8Nqrj"
      },
      "source": [
        "## 2.3 双变量关系图 `sns.jointplot()`"
      ]
    },
    {
      "cell_type": "code",
      "metadata": {
        "colab": {
          "base_uri": "https://localhost:8080/",
          "height": 441
        },
        "id": "-KdcEzppN29P",
        "outputId": "44df43cd-b404-4ff1-f2d9-ae15f7ba6b26"
      },
      "source": [
        "h = sns.jointplot(x = 'inv',\n",
        "            y = 'gdp',\n",
        "            data = df_gdp_1,\n",
        "            kind = 'scatter',\n",
        "            color = 'black',\n",
        "            ci = 95)\n",
        "\n",
        "plt.show()"
      ],
      "execution_count": 94,
      "outputs": [
        {
          "output_type": "display_data",
          "data": {
            "image/png": "[encoded data removed]",
            "text/plain": [
              "<Figure size 432x432 with 3 Axes>"
            ]
          },
          "metadata": {
            "needs_background": "light"
          }
        }
      ]
    }
  ]
}