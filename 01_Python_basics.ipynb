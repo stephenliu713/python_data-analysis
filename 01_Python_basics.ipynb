{
  "nbformat": 4,
  "nbformat_minor": 0,
  "metadata": {
    "colab": {
      "name": "01_Python basics.ipynb",
      "provenance": [],
      "collapsed_sections": [],
      "authorship_tag": "ABX9TyNoIEDpzNdsLQjokLyNKsg7",
      "include_colab_link": true
    },
    "kernelspec": {
      "name": "python3",
      "display_name": "Python 3"
    },
    "language_info": {
      "name": "python"
    }
  },
  "cells": [
    {
      "cell_type": "markdown",
      "metadata": {
        "id": "view-in-github",
        "colab_type": "text"
      },
      "source": [
        "<a href=\"https://colab.research.google.com/github/stephenliu713/python_data-analysis/blob/main/01_Python_basics.ipynb\" target=\"_parent\"><img src=\"https://colab.research.google.com/assets/colab-badge.svg\" alt=\"Open In Colab\"/></a>"
      ]
    },
    {
      "cell_type": "markdown",
      "metadata": {
        "id": "ue-wbpdxaIoI"
      },
      "source": [
        "# 1. 创建并运行一个Python脚本"
      ]
    },
    {
      "cell_type": "markdown",
      "metadata": {
        "id": "Wyaylbzaa3Qf"
      },
      "source": [
        "## 1.1 注释\n",
        "以 # 开头的行是注释，用来解释代码。计算机并不会运行这些行。\n",
        "\n",
        "\n"
      ]
    },
    {
      "cell_type": "code",
      "metadata": {
        "colab": {
          "base_uri": "https://localhost:8080/"
        },
        "id": "6mYvEPXEbO_r",
        "outputId": "9a766717-c38d-436c-c316-752be0320c3e"
      },
      "source": [
        "# 注释行的内容对程序不会产生影响\n",
        "print(\"hello world\")"
      ],
      "execution_count": null,
      "outputs": [
        {
          "output_type": "stream",
          "name": "stdout",
          "text": [
            "hello world\n"
          ]
        }
      ]
    },
    {
      "cell_type": "markdown",
      "metadata": {
        "id": "9J2FweydbYtH"
      },
      "source": [
        "## 1.2 print()\n",
        "`print()`是python中最基础的函数之一，它的作用是在控制台中“打印”出相应的内容。\n",
        "`print()`也可以实现格式化输出的功能。例如`print({0:d}.format(z)`，`{}`是占位符，`0`代表format函数中的第一个参数（这里是`z`），`d`表示这个值为整数。"
      ]
    },
    {
      "cell_type": "code",
      "metadata": {
        "colab": {
          "base_uri": "https://localhost:8080/"
        },
        "id": "DScXFAJQcMVO",
        "outputId": "5e158eb0-7c20-498d-c8d0-3f7f6cba39ed"
      },
      "source": [
        "print(\"The result of 3 + 2 = {0:d}\".format(3+2))\n",
        "print(\"The result of 3 + 2.1 = {0:.1f}\".format(3+2.1))\n",
        "print(\"First:{0}. Second: {2}. Third: {1}\".format(1111,2222,3333))"
      ],
      "execution_count": null,
      "outputs": [
        {
          "output_type": "stream",
          "name": "stdout",
          "text": [
            "The result of 3 + 2 = 5\n",
            "The result of 3 + 2.1 = 5.1\n",
            "First:1111. Second: 3333. Third: 2222\n"
          ]
        }
      ]
    },
    {
      "cell_type": "markdown",
      "metadata": {
        "id": "6XNRWbAIdYc2"
      },
      "source": [
        "# 2. 数据类型\n",
        "\n",
        "Python中变量的主要数据类型简介。\n",
        "\n",
        "注：Python中主要包含4种数值类型：整数、浮点数、长整数和复数。这里只介绍整数和浮点数。"
      ]
    },
    {
      "cell_type": "markdown",
      "metadata": {
        "id": "aGWBkVzdjuUY"
      },
      "source": [
        "## 2.0 type()\n",
        "`type()`可以帮助你读取一个变量在Python中的类型。"
      ]
    },
    {
      "cell_type": "code",
      "metadata": {
        "colab": {
          "base_uri": "https://localhost:8080/"
        },
        "id": "WlWp6qcqj3Za",
        "outputId": "bfcf61b8-7385-48c6-fe78-1a74b1092b4f"
      },
      "source": [
        "x = 1\n",
        "type(x)"
      ],
      "execution_count": null,
      "outputs": [
        {
          "output_type": "execute_result",
          "data": {
            "text/plain": [
              "int"
            ]
          },
          "metadata": {},
          "execution_count": 30
        }
      ]
    },
    {
      "cell_type": "markdown",
      "metadata": {
        "id": "pQ1VoJWMdbFk"
      },
      "source": [
        "## 2.1 整数 int\n",
        "Python中的整数很好理解，就是生活中常见的不带小数点的数。但是需要注意的是，**在Python中，整数之间的运算得到的并不总是整数**（例如除法）。"
      ]
    },
    {
      "cell_type": "code",
      "metadata": {
        "colab": {
          "base_uri": "https://localhost:8080/"
        },
        "id": "f97SAspceFIm",
        "outputId": "ec36b4bf-d268-4b72-8af0-370ccf260ec7"
      },
      "source": [
        "n = 9\n",
        "print(\"n = {}\".format(n))\n",
        "print(\"3 ** 4 = {}\".format(3**4))\n",
        "print(\"4 / 2 = {}\".format(4/2))"
      ],
      "execution_count": null,
      "outputs": [
        {
          "output_type": "stream",
          "name": "stdout",
          "text": [
            "n = 9\n",
            "3 ** 4 = 81\n",
            "4 / 2 = 2.0\n"
          ]
        }
      ]
    },
    {
      "cell_type": "markdown",
      "metadata": {
        "id": "4E6MgugSe2Py"
      },
      "source": [
        "## 2.2 浮点数 float\n",
        "Python中的浮点数就是指带小数点的数。浮点数之间的运算得到的总是浮点数。\n",
        "\n",
        "由于计算机的底层原理，浮点数的运算并不总是完全“精确”的（例如8.1/2.7=2.99999999999996），我们可以通过保留适当位数的小数来得到易于理解的结果。"
      ]
    },
    {
      "cell_type": "code",
      "metadata": {
        "colab": {
          "base_uri": "https://localhost:8080/"
        },
        "id": "3VAwj3gLgA9U",
        "outputId": "1c58ea85-7c3d-4d4a-ecd7-95439f89097d"
      },
      "source": [
        "print(\"8.1 / 2.7 = {}\".format(8.1/2.7))\n",
        "print(\"8.3 / 2.7 = {}\".format(8.3/2.7))\n",
        "print(\"8.1 / 2.7 = {:.2f}\".format(8.1/2.7)) #保留两位小数"
      ],
      "execution_count": null,
      "outputs": [
        {
          "output_type": "stream",
          "name": "stdout",
          "text": [
            "8.1 / 2.7 = 2.9999999999999996\n",
            "8.3 / 2.7 = 3.074074074074074\n",
            "8.1 / 2.7 = 3.00\n"
          ]
        }
      ]
    },
    {
      "cell_type": "markdown",
      "metadata": {
        "id": "gkl4_FZ4hDJl"
      },
      "source": [
        "## 2.3 字符串 str\n",
        "字符串是指人类可以阅读的文本。字符串可以包含在**单引号、双引号、3 个单引号或 3 个双引号**之间。\n",
        "\n",
        "值得注意的是，**一长串数字也可以是字符串**。"
      ]
    },
    {
      "cell_type": "code",
      "metadata": {
        "colab": {
          "base_uri": "https://localhost:8080/"
        },
        "id": "M0LarggIiBUY",
        "outputId": "08b9c640-3d82-4a78-9b9c-0c0b06db29d4"
      },
      "source": [
        "print('单引号')\n",
        "print(\"双引号\")\n",
        "print('''3个单引号''')\n",
        "print(\"\"\"3个双引号\"\"\")"
      ],
      "execution_count": null,
      "outputs": [
        {
          "output_type": "stream",
          "name": "stdout",
          "text": [
            "单引号\n",
            "双引号\n",
            "3个单引号\n",
            "3个双引号\n"
          ]
        }
      ]
    },
    {
      "cell_type": "code",
      "metadata": {
        "colab": {
          "base_uri": "https://localhost:8080/"
        },
        "id": "MbPwq8JNkBDS",
        "outputId": "e32f288e-0d1b-4587-9f9d-ec0a03cce796"
      },
      "source": [
        "a = 9833021031\n",
        "b = '9833021031'\n",
        "print(\"type(a) = {}\".format(type(a)))\n",
        "print(\"type(b) = {}\".format(type(b)))\n"
      ],
      "execution_count": null,
      "outputs": [
        {
          "output_type": "stream",
          "name": "stdout",
          "text": [
            "type(a) = <class 'int'>\n",
            "type(b) = <class 'str'>\n"
          ]
        }
      ]
    },
    {
      "cell_type": "markdown",
      "metadata": {
        "id": "oHs6YgqWiYjC"
      },
      "source": [
        "有时候我们会遇到字符串本身包含单引号或双引号，我们可以通过反斜杠`\\`或者使用不同的引号来避免识别错误。例如 `I'm Zhang San.`"
      ]
    },
    {
      "cell_type": "code",
      "metadata": {
        "colab": {
          "base_uri": "https://localhost:8080/"
        },
        "id": "Pl_1LEuSir-I",
        "outputId": "81c7264d-e789-4fc7-bb8c-ccb9ef2e6ece"
      },
      "source": [
        "print('I\\'m Zhang San.')\n",
        "print(\"I'm Zhang San.\")"
      ],
      "execution_count": null,
      "outputs": [
        {
          "output_type": "stream",
          "name": "stdout",
          "text": [
            "I'm Zhang San.\n",
            "I'm Zhang San.\n"
          ]
        }
      ]
    },
    {
      "cell_type": "markdown",
      "metadata": {
        "id": "nyTr-3Fpi9ie"
      },
      "source": [
        "为了易于阅读，你可以在一串长字符串中加入反斜杠`\\`来使得字符串在代码模块中分行显示。这一操作只对代码模块有效，**输出在控制台中的依然是一整串字符串**。"
      ]
    },
    {
      "cell_type": "code",
      "metadata": {
        "colab": {
          "base_uri": "https://localhost:8080/",
          "height": 53
        },
        "id": "buQkC5ZBjJc9",
        "outputId": "114f3aed-a0f5-4395-a73e-8a72748d703c"
      },
      "source": [
        "\"这是一串非常非常非常非常非常非常\\\n",
        "非常非常非常非常非常非常非常非常\\\n",
        "非常非常非常非常非常非常非常非常\\\n",
        "非常非常非常非常长的字符串。\""
      ],
      "execution_count": null,
      "outputs": [
        {
          "output_type": "execute_result",
          "data": {
            "application/vnd.google.colaboratory.intrinsic+json": {
              "type": "string"
            },
            "text/plain": [
              "'这是一串非常非常非常非常非常非常非常非常非常非常非常非常非常非常非常非常非常非常非常非常非常非常非常非常非常非常长的字符串。'"
            ]
          },
          "metadata": {},
          "execution_count": 29
        }
      ]
    },
    {
      "cell_type": "markdown",
      "metadata": {
        "id": "B6dVXlv3kXFu"
      },
      "source": [
        "**字符串是python中最常需要处理的变量类型之一。由于它的特殊性，python标准库有许多常用的处理str类型变量的函数。**"
      ]
    },
    {
      "cell_type": "markdown",
      "metadata": {
        "id": "iKonvfX0km2_"
      },
      "source": [
        "### 2.3.1 split()\n",
        "`split()`可以将一个字符串拆分成一个子字符串列表(list)。\n",
        "\n",
        "`split()`的默认分隔符为空格（因此它往往对英文分割很有效）。"
      ]
    },
    {
      "cell_type": "code",
      "metadata": {
        "colab": {
          "base_uri": "https://localhost:8080/"
        },
        "id": "76-BQPVAlKdL",
        "outputId": "7bee639a-2c03-4551-8424-2d8a66843c84"
      },
      "source": [
        "str_1 = '这是一个字符串。'\n",
        "str_1.split()"
      ],
      "execution_count": null,
      "outputs": [
        {
          "output_type": "execute_result",
          "data": {
            "text/plain": [
              "['这是一个字符串。']"
            ]
          },
          "metadata": {},
          "execution_count": 34
        }
      ]
    },
    {
      "cell_type": "code",
      "metadata": {
        "colab": {
          "base_uri": "https://localhost:8080/"
        },
        "id": "ryblaShVlOQJ",
        "outputId": "8368e9f9-bdfb-4ffa-c5f8-6e44a542b73b"
      },
      "source": [
        "str_2 = 'This is a string.'\n",
        "str_2.split()"
      ],
      "execution_count": 2,
      "outputs": [
        {
          "output_type": "execute_result",
          "data": {
            "text/plain": [
              "['This', 'is', 'a', 'string.']"
            ]
          },
          "metadata": {},
          "execution_count": 2
        }
      ]
    },
    {
      "cell_type": "code",
      "metadata": {
        "colab": {
          "base_uri": "https://localhost:8080/"
        },
        "id": "7LtXNLxWl074",
        "outputId": "94dee0d1-1c9c-4e64-ea29-b0cdf8dc4498"
      },
      "source": [
        "str_3 = 'This is a string.'\n",
        "str_3.split('i')"
      ],
      "execution_count": null,
      "outputs": [
        {
          "output_type": "execute_result",
          "data": {
            "text/plain": [
              "['Th', 's ', 's a str', 'ng.']"
            ]
          },
          "metadata": {},
          "execution_count": 36
        }
      ]
    },
    {
      "cell_type": "markdown",
      "metadata": {
        "id": "Wg-W5Il7UHdq"
      },
      "source": [
        "### 2.3.2 join()\n",
        "join函数可以将列表中的子字符串组合成一个字符串。\n",
        "\n",
        "join函数前面可以放置一个参数，例如`','.join(list_1)`，表示用','对list_1中的元素进行区隔。"
      ]
    },
    {
      "cell_type": "code",
      "metadata": {
        "colab": {
          "base_uri": "https://localhost:8080/"
        },
        "id": "Yqu3-zYsUY9a",
        "outputId": "eefd5597-ce9a-44ad-a36a-d309a62fa53d"
      },
      "source": [
        "list_str_2 = str_2.split()\n",
        "list_str_2"
      ],
      "execution_count": 4,
      "outputs": [
        {
          "output_type": "execute_result",
          "data": {
            "text/plain": [
              "['This', 'is', 'a', 'string.']"
            ]
          },
          "metadata": {},
          "execution_count": 4
        }
      ]
    },
    {
      "cell_type": "code",
      "metadata": {
        "colab": {
          "base_uri": "https://localhost:8080/",
          "height": 35
        },
        "id": "wGsKdXd_UlVJ",
        "outputId": "de0a7dbc-49f3-4864-f640-3cfe4f675c0b"
      },
      "source": [
        "','.join(list_str_2)"
      ],
      "execution_count": 7,
      "outputs": [
        {
          "output_type": "execute_result",
          "data": {
            "application/vnd.google.colaboratory.intrinsic+json": {
              "type": "string"
            },
            "text/plain": [
              "'This,is,a,string.'"
            ]
          },
          "metadata": {},
          "execution_count": 7
        }
      ]
    },
    {
      "cell_type": "markdown",
      "metadata": {
        "id": "Y5sJnOnMWkTm"
      },
      "source": [
        "### 2.3.3 replace()\n",
        "\n",
        "replace函数可以将字符串中的一个或一组字符替换为另一个或另一组字符。"
      ]
    },
    {
      "cell_type": "code",
      "metadata": {
        "colab": {
          "base_uri": "https://localhost:8080/"
        },
        "id": "GuI9gre0Wukv",
        "outputId": "ceea321d-5094-4f24-ea14-f93979992ebc"
      },
      "source": [
        "str_4 = '让我们来替换某些字符。'\n",
        "str_4_replace = str_4.replace(\"字符\",\"!!!\")\n",
        "print(str_4_replace)"
      ],
      "execution_count": 21,
      "outputs": [
        {
          "output_type": "stream",
          "name": "stdout",
          "text": [
            "让我们来替换某些!!!。\n"
          ]
        }
      ]
    },
    {
      "cell_type": "markdown",
      "metadata": {
        "id": "oQo_g0rMXCrj"
      },
      "source": [
        "### 2.3.4 lower(), upper(), capitalize()\n",
        "\n",
        "`lower()`和`upper()`分别用来将字符串中的字母转换为小写和大写。`capitalize()` 函数对字符串中的第一个字母应用`upper()`，对其余的字母应用`lower()`。\n",
        "\n",
        "在做数据分析时，**有时不同列的名字大小写规则并不统一。因此在分析前将列名先统一转换为全部大写或全部小写会降低之后步骤出错的概率。**（“清洗数据”）\n"
      ]
    },
    {
      "cell_type": "code",
      "metadata": {
        "colab": {
          "base_uri": "https://localhost:8080/"
        },
        "id": "X7KQ1ICoXsOw",
        "outputId": "3f35b05c-2d84-43d1-f039-c8b62fd233bd"
      },
      "source": [
        "str_5 = 'this is a TEST string.'\n",
        "print('lower():{}'.format(str_5.lower()))\n",
        "print('upper():{}'.format(str_5.upper()))\n",
        "print('capitalize():{}'.format(str_5.capitalize()))\n"
      ],
      "execution_count": 22,
      "outputs": [
        {
          "output_type": "stream",
          "name": "stdout",
          "text": [
            "lower():this is a test string.\n",
            "upper():THIS IS A TEST STRING.\n",
            "capitalize():This is a test string.\n"
          ]
        }
      ]
    },
    {
      "cell_type": "markdown",
      "metadata": {
        "id": "PtbJK9OqYsEM"
      },
      "source": [
        "## 2.4 日期 date\n",
        "\n",
        "数据分析中日期经常蕴含着关键信息。你可以用字符串来表示日期，但是用Python中自带的日期处理方式来表达日期是更优的解决方案。**这需要你导入datetime模块，这是Python自带的标准库之一。**\n"
      ]
    },
    {
      "cell_type": "code",
      "metadata": {
        "id": "hIJD6RyJZjjV"
      },
      "source": [
        "import datetime"
      ],
      "execution_count": 29,
      "outputs": []
    },
    {
      "cell_type": "code",
      "metadata": {
        "colab": {
          "base_uri": "https://localhost:8080/"
        },
        "id": "xUSMhVv_ZoeP",
        "outputId": "95392980-1735-4bb8-dc24-676e29ed20d1"
      },
      "source": [
        "today = datetime.date.today()\n",
        "print(today)"
      ],
      "execution_count": 30,
      "outputs": [
        {
          "output_type": "stream",
          "name": "stdout",
          "text": [
            "2021-11-04\n"
          ]
        }
      ]
    },
    {
      "cell_type": "code",
      "metadata": {
        "colab": {
          "base_uri": "https://localhost:8080/"
        },
        "id": "lWk5-TrvZ_co",
        "outputId": "395f4886-f859-4a98-aacf-0c80d3a90e37"
      },
      "source": [
        "print(\"This year: {}\".format(today.year))\n",
        "print(\"This month: {}\".format(today.month))\n",
        "print(\"This day: {}\".format(today.day))"
      ],
      "execution_count": 32,
      "outputs": [
        {
          "output_type": "stream",
          "name": "stdout",
          "text": [
            "This year: 2021\n",
            "This month: 11\n",
            "This day: 4\n"
          ]
        }
      ]
    },
    {
      "cell_type": "markdown",
      "metadata": {
        "id": "pnJ8xtaPaaht"
      },
      "source": [
        "使用datetime格式来表达日期的一个最大优点就是**我们可以方便的对日期进行运算**。\n",
        "\n",
        "这里我们需要使用`timedelta()`, 它支持输入的参数包括`days`,`hours`,`weeks`。"
      ]
    },
    {
      "cell_type": "code",
      "metadata": {
        "colab": {
          "base_uri": "https://localhost:8080/"
        },
        "id": "WI7yqSrxamPg",
        "outputId": "3a479a22-d3a2-4721-fb81-ec1abedbb041"
      },
      "source": [
        "yesterday = today + datetime.timedelta(days=-1)\n",
        "tomorrow = today + datetime.timedelta(days=1)\n",
        "\n",
        "print('yesterday: {}'.format(yesterday))\n",
        "print('tomorrow: {}'.format(tomorrow))"
      ],
      "execution_count": 35,
      "outputs": [
        {
          "output_type": "stream",
          "name": "stdout",
          "text": [
            "yesterday:2021-11-03\n",
            "tomorrow:2021-11-05\n"
          ]
        }
      ]
    },
    {
      "cell_type": "code",
      "metadata": {
        "colab": {
          "base_uri": "https://localhost:8080/"
        },
        "id": "73gZr4ZobK5f",
        "outputId": "43b24b5d-891c-4b5f-ab2f-58a8eb2cfcd6"
      },
      "source": [
        "two_wks_later = today + datetime.timedelta(weeks=2)\n",
        "print('2 weeks after today: {}'.format(two_wks_later))"
      ],
      "execution_count": 40,
      "outputs": [
        {
          "output_type": "stream",
          "name": "stdout",
          "text": [
            "2 weeks after today: 2021-11-18\n"
          ]
        }
      ]
    },
    {
      "cell_type": "markdown",
      "metadata": {
        "id": "xs6K2RCwckBb"
      },
      "source": [
        "也许“年-月-日”`yyyy-mm-dd`这样的格式并不符合你的要求。你可以通过`strftime`来改变格式。\n",
        "\n",
        "常用对应关系：\n",
        "*   `%Y` - 年\n",
        "*   `%m` - 月\n",
        "*   `%d` - 日\n",
        "*   `%d` - 月份 (如:November)\n",
        "*   `%b` - 月份缩写 (如:Nov)\n",
        "\n",
        "\n",
        "\n"
      ]
    },
    {
      "cell_type": "code",
      "metadata": {
        "colab": {
          "base_uri": "https://localhost:8080/"
        },
        "id": "tv38qdAJc2ti",
        "outputId": "e5c2ccaa-867a-45df-c73e-37288b09cff4"
      },
      "source": [
        "print(today)\n",
        "print(today.strftime('%m/%d/%Y'))\n",
        "print(today.strftime('%b %d %Y'))\n",
        "print(today.strftime('%B %d, %Y'))"
      ],
      "execution_count": 43,
      "outputs": [
        {
          "output_type": "stream",
          "name": "stdout",
          "text": [
            "2021-11-04\n",
            "11/04/2021\n",
            "Nov 04 2021\n",
            "November 04, 2021\n"
          ]
        }
      ]
    },
    {
      "cell_type": "markdown",
      "metadata": {
        "id": "RffkgWa0eu8j"
      },
      "source": [
        "## 2.5 列表 list [ ]\n",
        "\n",
        "Python中的列表(list)就是一种有序的数据集合，形如`[1,2,3]`就是一个最简单的列表。它不仅可以包含数值，还可以包含字符串、其他列表、元组和字典（稍后介绍）等。\n"
      ]
    },
    {
      "cell_type": "code",
      "metadata": {
        "colab": {
          "base_uri": "https://localhost:8080/"
        },
        "id": "qv8AHAbsfZ0t",
        "outputId": "c13cceea-4f7b-4441-e521-3d9697b0c3fa"
      },
      "source": [
        "list_1 = [1, 2, 3, 4, 5, 3, 1]\n",
        "\n",
        "# 用len()计算列表中元素的数量\n",
        "# 用max()和min()找出最大值和最小值\n",
        "# 用count()计算出列表中某个值出现的次数\n",
        "print('list_1有{}个元素。'.format(len(list_1)))\n",
        "print('list_1的最大值是{0}，最小值是{1}。'.format(max(list_1),min(list_1)))\n",
        "print('list_1中，\"3\"出现了{}次。'.format(list_1.count(3)))"
      ],
      "execution_count": 70,
      "outputs": [
        {
          "output_type": "stream",
          "name": "stdout",
          "text": [
            "list_1有7个元素。\n",
            "list_1的最大值是5，最小值是1。\n",
            "list_1中，\"3\"出现了2次。\n"
          ]
        }
      ]
    },
    {
      "cell_type": "markdown",
      "metadata": {
        "id": "dSh5k96WgVUO"
      },
      "source": [
        "### 2.5.1 索引值 index\n",
        "\n",
        "你可以像“数数”一样访问列表中的特定元素，既可以正着数，也可以反着数。\n",
        "\n",
        "注意：与其他许多语言一样，**python中计数的规则是从0开始数。**\n"
      ]
    },
    {
      "cell_type": "code",
      "metadata": {
        "colab": {
          "base_uri": "https://localhost:8080/"
        },
        "id": "WZtRlUjHglbV",
        "outputId": "fc11ae56-4688-4152-b484-b38fb0c01584"
      },
      "source": [
        "list_1"
      ],
      "execution_count": 51,
      "outputs": [
        {
          "output_type": "execute_result",
          "data": {
            "text/plain": [
              "[1, 2, 3, 4, 5, 3, 1]"
            ]
          },
          "metadata": {},
          "execution_count": 51
        }
      ]
    },
    {
      "cell_type": "code",
      "metadata": {
        "colab": {
          "base_uri": "https://localhost:8080/"
        },
        "id": "oAyd7RX-g5O2",
        "outputId": "95e4c77d-1d11-425a-9407-31e765d7a1d2"
      },
      "source": [
        "list_1[0]"
      ],
      "execution_count": 53,
      "outputs": [
        {
          "output_type": "execute_result",
          "data": {
            "text/plain": [
              "1"
            ]
          },
          "metadata": {},
          "execution_count": 53
        }
      ]
    },
    {
      "cell_type": "code",
      "metadata": {
        "colab": {
          "base_uri": "https://localhost:8080/"
        },
        "id": "6Ki849Hlg8U4",
        "outputId": "40b69cca-c1eb-4b20-f6d7-e6eb6b28e011"
      },
      "source": [
        "list_1[1]"
      ],
      "execution_count": 55,
      "outputs": [
        {
          "output_type": "execute_result",
          "data": {
            "text/plain": [
              "2"
            ]
          },
          "metadata": {},
          "execution_count": 55
        }
      ]
    },
    {
      "cell_type": "code",
      "metadata": {
        "colab": {
          "base_uri": "https://localhost:8080/"
        },
        "id": "AnRkDb70g-dW",
        "outputId": "f1705589-9325-4a41-d4b6-e3f8d44f0b5f"
      },
      "source": [
        "list_1[-2]"
      ],
      "execution_count": 56,
      "outputs": [
        {
          "output_type": "execute_result",
          "data": {
            "text/plain": [
              "3"
            ]
          },
          "metadata": {},
          "execution_count": 56
        }
      ]
    },
    {
      "cell_type": "markdown",
      "metadata": {
        "id": "PcEMxZONhCNc"
      },
      "source": [
        "### 2.5.2 切片 slicing \n",
        "\n",
        "`[start:stop:stride]`\n",
        "\n",
        "你可以通过切片访问这个列表的某一段。\n",
        "\n",
        "`start`: 从哪里开始读，默认为第0位\n",
        "\n",
        "`stop`: 读到哪里为止，默认为第-1位\n",
        "\n",
        "`stride`: 步长，即每几位读一次，默认为1"
      ]
    },
    {
      "cell_type": "code",
      "metadata": {
        "colab": {
          "base_uri": "https://localhost:8080/"
        },
        "id": "czgxrPJBicg9",
        "outputId": "fc981c29-b821-472d-bbb1-f9d6c4d377f7"
      },
      "source": [
        "list_1"
      ],
      "execution_count": 62,
      "outputs": [
        {
          "output_type": "execute_result",
          "data": {
            "text/plain": [
              "[1, 2, 3, 4, 5, 3, 1]"
            ]
          },
          "metadata": {},
          "execution_count": 62
        }
      ]
    },
    {
      "cell_type": "code",
      "metadata": {
        "colab": {
          "base_uri": "https://localhost:8080/"
        },
        "id": "CEbf0xWshNPj",
        "outputId": "b5750607-c81b-49b8-dba2-8bcc6b6b7b30"
      },
      "source": [
        "list_1[0:2]"
      ],
      "execution_count": 58,
      "outputs": [
        {
          "output_type": "execute_result",
          "data": {
            "text/plain": [
              "[1, 2]"
            ]
          },
          "metadata": {},
          "execution_count": 58
        }
      ]
    },
    {
      "cell_type": "code",
      "metadata": {
        "colab": {
          "base_uri": "https://localhost:8080/"
        },
        "id": "9ko75Mm-hQq-",
        "outputId": "f915f292-8f80-433d-af8e-6d3158c44b21"
      },
      "source": [
        "list_1[1:] #第1位至最后"
      ],
      "execution_count": 63,
      "outputs": [
        {
          "output_type": "execute_result",
          "data": {
            "text/plain": [
              "[2, 3, 4, 5, 3, 1]"
            ]
          },
          "metadata": {},
          "execution_count": 63
        }
      ]
    },
    {
      "cell_type": "code",
      "metadata": {
        "colab": {
          "base_uri": "https://localhost:8080/"
        },
        "id": "U3q1g0j0i1-U",
        "outputId": "9de04a2a-ce6f-4ef2-bdac-c1c656c76bca"
      },
      "source": [
        "list_1[:-2]"
      ],
      "execution_count": 65,
      "outputs": [
        {
          "output_type": "execute_result",
          "data": {
            "text/plain": [
              "[1, 2, 3, 4, 5]"
            ]
          },
          "metadata": {},
          "execution_count": 65
        }
      ]
    },
    {
      "cell_type": "code",
      "metadata": {
        "colab": {
          "base_uri": "https://localhost:8080/"
        },
        "id": "VkkH5RUYhR8M",
        "outputId": "b0709e07-86a6-4ff8-84b3-f8d91e5a06be"
      },
      "source": [
        "list_1[::2] #每2个数读一次"
      ],
      "execution_count": 61,
      "outputs": [
        {
          "output_type": "execute_result",
          "data": {
            "text/plain": [
              "[1, 3, 5, 1]"
            ]
          },
          "metadata": {},
          "execution_count": 61
        }
      ]
    },
    {
      "cell_type": "markdown",
      "metadata": {
        "id": "xMGeRw5Wj4MV"
      },
      "source": [
        "### 2.5.3 复制\n",
        "当你复制时，你往往是为了完成备份的目的，因此你希望**复制后与复制前的list是独立的。** 但简单赋值复制无法完成这一点，正确做法是**复制目标列表的每一个元素** `list_a_copy = list_a[:]`"
      ]
    },
    {
      "cell_type": "code",
      "metadata": {
        "id": "2PZk1NkBkAEl"
      },
      "source": [
        "list_2 = [1, 2, 3, 4, 5]\n",
        "list_3 = [1, 2, 3, 4, 5]"
      ],
      "execution_count": 74,
      "outputs": []
    },
    {
      "cell_type": "code",
      "metadata": {
        "id": "TSXrm2fikEAc"
      },
      "source": [
        "list_2_copy = list_2\n",
        "list_3_copy = list_3[:]\n",
        "\n",
        "list_2_copy[2] = 3333\n",
        "list_3_copy[2] = 3333"
      ],
      "execution_count": 75,
      "outputs": []
    },
    {
      "cell_type": "code",
      "metadata": {
        "colab": {
          "base_uri": "https://localhost:8080/"
        },
        "id": "C9wj3ESrlhCZ",
        "outputId": "791aa392-e449-414a-b1e6-2af2159d873e"
      },
      "source": [
        "list_2_copy"
      ],
      "execution_count": 76,
      "outputs": [
        {
          "output_type": "execute_result",
          "data": {
            "text/plain": [
              "[1, 2, 3333, 4, 5]"
            ]
          },
          "metadata": {},
          "execution_count": 76
        }
      ]
    },
    {
      "cell_type": "code",
      "metadata": {
        "colab": {
          "base_uri": "https://localhost:8080/"
        },
        "id": "rm-kv3UcljEV",
        "outputId": "8882d22a-9e95-4dd7-c3cb-9bb1d32d1205"
      },
      "source": [
        "list_2 #与list_2_copy一起被修改。因为它们本质上指向同一个\"抽屉\""
      ],
      "execution_count": 77,
      "outputs": [
        {
          "output_type": "execute_result",
          "data": {
            "text/plain": [
              "[1, 2, 3333, 4, 5]"
            ]
          },
          "metadata": {},
          "execution_count": 77
        }
      ]
    },
    {
      "cell_type": "code",
      "metadata": {
        "colab": {
          "base_uri": "https://localhost:8080/"
        },
        "id": "GRRhfJI4lkyx",
        "outputId": "5b33a47d-cce1-49b7-a56b-44c6123321c9"
      },
      "source": [
        "list_3_copy"
      ],
      "execution_count": 78,
      "outputs": [
        {
          "output_type": "execute_result",
          "data": {
            "text/plain": [
              "[1, 2, 3333, 4, 5]"
            ]
          },
          "metadata": {},
          "execution_count": 78
        }
      ]
    },
    {
      "cell_type": "code",
      "metadata": {
        "colab": {
          "base_uri": "https://localhost:8080/"
        },
        "id": "Fqz8ynWVlmAI",
        "outputId": "dfe6b581-c23c-45a9-8ae0-321cf7febffe"
      },
      "source": [
        "list_3 #未被修改。创造了\"新抽屉\""
      ],
      "execution_count": 79,
      "outputs": [
        {
          "output_type": "execute_result",
          "data": {
            "text/plain": [
              "[1, 2, 3, 4, 5]"
            ]
          },
          "metadata": {},
          "execution_count": 79
        }
      ]
    },
    {
      "cell_type": "markdown",
      "metadata": {
        "id": "-CvQmywlmB5Z"
      },
      "source": [
        "### 2.5.4 连接\n",
        "\n",
        "使用`+`连接不同列表。"
      ]
    },
    {
      "cell_type": "code",
      "metadata": {
        "colab": {
          "base_uri": "https://localhost:8080/"
        },
        "id": "Wr6tgWEKmLnq",
        "outputId": "d3654574-d55d-43aa-d6bc-a5551b29e0ac"
      },
      "source": [
        "list_4 = [1, 2, 3]\n",
        "list_5 = [4, 5, 6]\n",
        "list_4 + list_5"
      ],
      "execution_count": 80,
      "outputs": [
        {
          "output_type": "execute_result",
          "data": {
            "text/plain": [
              "[1, 2, 3, 4, 5, 6]"
            ]
          },
          "metadata": {},
          "execution_count": 80
        }
      ]
    },
    {
      "cell_type": "markdown",
      "metadata": {
        "id": "_jAdgdjVmgjU"
      },
      "source": [
        "### 2.5.5 查找特定元素\n",
        "\n",
        "`in`和`not in`可以用来查找列表中是否有某个特定元素，返回`True`或`False`"
      ]
    },
    {
      "cell_type": "code",
      "metadata": {
        "colab": {
          "base_uri": "https://localhost:8080/"
        },
        "id": "80JX1XUfnyeq",
        "outputId": "5644008f-8d13-4714-fa2c-022a555e08ed"
      },
      "source": [
        "list_6 = [1,2,3,'a']\n",
        "if 'a' in list_6:\n",
        "  print('a is in list_6.')\n",
        "if 5 not in list_6:\n",
        "  print('5 is not in list_6.')"
      ],
      "execution_count": 81,
      "outputs": [
        {
          "output_type": "stream",
          "name": "stdout",
          "text": [
            "a is in list_6.\n",
            "5 is not in list_6.\n"
          ]
        }
      ]
    },
    {
      "cell_type": "markdown",
      "metadata": {
        "id": "PVLRNJzVoEvy"
      },
      "source": [
        "### 2.5.6 增加/删除元素\n",
        "\n",
        "`append()`: 向列表末尾添加新元素\n",
        "\n",
        "`remove()`: 从列表中删除一个特定元素\n",
        "\n",
        "`pop()`: 从列表末尾删除一个元素（“弹夹”：后进先出）\n"
      ]
    },
    {
      "cell_type": "code",
      "metadata": {
        "id": "-ioRPodOoxO7"
      },
      "source": [
        "list_7 = [1, 2, 3, 4, 5]"
      ],
      "execution_count": 98,
      "outputs": []
    },
    {
      "cell_type": "code",
      "metadata": {
        "colab": {
          "base_uri": "https://localhost:8080/"
        },
        "id": "NFhX35DIo2zB",
        "outputId": "fa3696ee-ac7b-4874-eec1-20015fa02da0"
      },
      "source": [
        "list_7.append(6666)\n",
        "list_7"
      ],
      "execution_count": 99,
      "outputs": [
        {
          "output_type": "execute_result",
          "data": {
            "text/plain": [
              "[1, 2, 3, 4, 5, 6666]"
            ]
          },
          "metadata": {},
          "execution_count": 99
        }
      ]
    },
    {
      "cell_type": "code",
      "metadata": {
        "colab": {
          "base_uri": "https://localhost:8080/"
        },
        "id": "VA6cYkfLo44a",
        "outputId": "9c1d9deb-c53b-4366-a5c3-027e6eb21317"
      },
      "source": [
        "list_7.remove(4)\n",
        "list_7"
      ],
      "execution_count": 100,
      "outputs": [
        {
          "output_type": "execute_result",
          "data": {
            "text/plain": [
              "[1, 2, 3, 5, 6666]"
            ]
          },
          "metadata": {},
          "execution_count": 100
        }
      ]
    },
    {
      "cell_type": "code",
      "metadata": {
        "colab": {
          "base_uri": "https://localhost:8080/"
        },
        "id": "QUjt0moapEUe",
        "outputId": "f642ed77-f5f4-48ab-9390-3d4e8729120b"
      },
      "source": [
        "list_7.pop()\n",
        "list_7"
      ],
      "execution_count": 101,
      "outputs": [
        {
          "output_type": "execute_result",
          "data": {
            "text/plain": [
              "[1, 2, 3, 5]"
            ]
          },
          "metadata": {},
          "execution_count": 101
        }
      ]
    },
    {
      "cell_type": "markdown",
      "metadata": {
        "id": "UcQHkfsJpjgT"
      },
      "source": [
        "###2.5.7 排序\n",
        "使用`sort()`对列表原地排序（会替换原列表，注意备份）"
      ]
    },
    {
      "cell_type": "code",
      "metadata": {
        "colab": {
          "base_uri": "https://localhost:8080/"
        },
        "id": "y9LF2IkOpwI1",
        "outputId": "a8b058fe-c40c-4fb5-d53d-eae372ced6df"
      },
      "source": [
        "list_8 = [3, 5, 2, 4, 1]\n",
        "list_8.sort()\n",
        "list_8"
      ],
      "execution_count": 102,
      "outputs": [
        {
          "output_type": "execute_result",
          "data": {
            "text/plain": [
              "[1, 2, 3, 4, 5]"
            ]
          },
          "metadata": {},
          "execution_count": 102
        }
      ]
    },
    {
      "cell_type": "markdown",
      "metadata": {
        "id": "jdjz0w5traL7"
      },
      "source": [
        "## 2.6 元组 Tuple ( )\n",
        "元组与列表十分相似，形如`(1, 2, 3)`。但有一个主要区别：**元组不能被修改**\n",
        " "
      ]
    },
    {
      "cell_type": "code",
      "metadata": {
        "colab": {
          "base_uri": "https://localhost:8080/"
        },
        "id": "49CM16AbsDP9",
        "outputId": "2609ec13-8692-4bf9-9549-41f47c6a2f00"
      },
      "source": [
        "tuple_1 = (111,222,333)\n",
        "tuple_1"
      ],
      "execution_count": 107,
      "outputs": [
        {
          "output_type": "execute_result",
          "data": {
            "text/plain": [
              "(111, 222, 333)"
            ]
          },
          "metadata": {},
          "execution_count": 107
        }
      ]
    },
    {
      "cell_type": "markdown",
      "metadata": {
        "id": "iOrzv5rOsVSt"
      },
      "source": [
        "### 2.6.1 解包\n",
        "即将元组中的元素单独提取出来"
      ]
    },
    {
      "cell_type": "code",
      "metadata": {
        "colab": {
          "base_uri": "https://localhost:8080/"
        },
        "id": "d3CMuf39sfi1",
        "outputId": "1056aad6-3a57-42b2-eed5-264c439a0f41"
      },
      "source": [
        "var1, var2, var3 = tuple_1\n",
        "print(var1, var2, var3)"
      ],
      "execution_count": 108,
      "outputs": [
        {
          "output_type": "stream",
          "name": "stdout",
          "text": [
            "111 222 333\n"
          ]
        }
      ]
    },
    {
      "cell_type": "markdown",
      "metadata": {
        "id": "6A_cuOb4srzI"
      },
      "source": [
        "### 2.6.2 转换为列表\n",
        "元组可以通过直接被转化为列表，反之亦然。"
      ]
    },
    {
      "cell_type": "code",
      "metadata": {
        "colab": {
          "base_uri": "https://localhost:8080/"
        },
        "id": "se6zdAI-s319",
        "outputId": "1a544250-9d8b-41af-8f5f-28c597a11818"
      },
      "source": [
        "list_tp = list(tuple_1)\n",
        "list_tp"
      ],
      "execution_count": 109,
      "outputs": [
        {
          "output_type": "execute_result",
          "data": {
            "text/plain": [
              "[111, 222, 333]"
            ]
          },
          "metadata": {},
          "execution_count": 109
        }
      ]
    },
    {
      "cell_type": "code",
      "metadata": {
        "colab": {
          "base_uri": "https://localhost:8080/"
        },
        "id": "wGJyR2yws81I",
        "outputId": "853640da-3388-40a7-bfa8-6d5249bfff72"
      },
      "source": [
        "tuple_list = tuple(list_tp)\n",
        "tuple_list"
      ],
      "execution_count": 110,
      "outputs": [
        {
          "output_type": "execute_result",
          "data": {
            "text/plain": [
              "(111, 222, 333)"
            ]
          },
          "metadata": {},
          "execution_count": 110
        }
      ]
    },
    {
      "cell_type": "markdown",
      "metadata": {
        "id": "2KE0OokktGRn"
      },
      "source": [
        "## 2.7 字典 dicts { }\n",
        "Python 中的字典本质上是包含各种**带有唯一标识符**的**成对信息**的列表。(“通过翻字典找到对应信息”) ，形如`{key-value}`（键-值）。\n",
        "\n",
        "\n",
        "*   你可以通过key来查询value，**反之则不行**\n",
        "*   **字典值则没有排序**，因为索引不仅仅只是数值。**你可以为字典中的项目定义排序操作**，但是字典确实没有内置排序。\n",
        "\n"
      ]
    },
    {
      "cell_type": "code",
      "metadata": {
        "colab": {
          "base_uri": "https://localhost:8080/"
        },
        "id": "q2zNdHZSugno",
        "outputId": "cc8adb88-25e6-4a66-8816-3cfe6b33682c"
      },
      "source": [
        "dict_1 = {'Zhang San':111111, 'Li Si':222222, 'Wang Wu': 333333}\n",
        "dict_1['Zhang San']"
      ],
      "execution_count": 115,
      "outputs": [
        {
          "output_type": "execute_result",
          "data": {
            "text/plain": [
              "111111"
            ]
          },
          "metadata": {},
          "execution_count": 115
        }
      ]
    },
    {
      "cell_type": "markdown",
      "metadata": {
        "id": "OiOrrkzyvW7w"
      },
      "source": [
        "### 2.7.1 键 keys、值 values、项目 items"
      ]
    },
    {
      "cell_type": "code",
      "metadata": {
        "colab": {
          "base_uri": "https://localhost:8080/"
        },
        "id": "SWTGHsfbuz8G",
        "outputId": "753e7575-7ff0-4d48-f119-77dc5a8667ce"
      },
      "source": [
        "dict_1.keys()"
      ],
      "execution_count": 116,
      "outputs": [
        {
          "output_type": "execute_result",
          "data": {
            "text/plain": [
              "dict_keys(['Zhang San', 'Li Si', 'Wang Wu'])"
            ]
          },
          "metadata": {},
          "execution_count": 116
        }
      ]
    },
    {
      "cell_type": "code",
      "metadata": {
        "colab": {
          "base_uri": "https://localhost:8080/"
        },
        "id": "ac3hNS4ivIp6",
        "outputId": "5b3da652-c151-46f1-8030-5f8f7ba95e0b"
      },
      "source": [
        "dict_1.values()"
      ],
      "execution_count": 117,
      "outputs": [
        {
          "output_type": "execute_result",
          "data": {
            "text/plain": [
              "dict_values([111111, 222222, 333333])"
            ]
          },
          "metadata": {},
          "execution_count": 117
        }
      ]
    },
    {
      "cell_type": "code",
      "metadata": {
        "colab": {
          "base_uri": "https://localhost:8080/"
        },
        "id": "lnD8JZmnvK_f",
        "outputId": "e0d4059d-35e6-421d-acf4-4bd2690eb053"
      },
      "source": [
        "dict_1.items()"
      ],
      "execution_count": 118,
      "outputs": [
        {
          "output_type": "execute_result",
          "data": {
            "text/plain": [
              "dict_items([('Zhang San', 111111), ('Li Si', 222222), ('Wang Wu', 333333)])"
            ]
          },
          "metadata": {},
          "execution_count": 118
        }
      ]
    },
    {
      "cell_type": "markdown",
      "metadata": {
        "id": "Cyy_d0o8vmOa"
      },
      "source": [
        "### 2.7.2 复制\n",
        "使用`copy()`创建副本"
      ]
    },
    {
      "cell_type": "code",
      "metadata": {
        "colab": {
          "base_uri": "https://localhost:8080/"
        },
        "id": "bEOkXsq1vhhd",
        "outputId": "b30ac2d3-02e3-4a46-8457-b5b5d3b646e6"
      },
      "source": [
        "dict_1_copy = dict_1.copy()\n",
        "dict_1_copy"
      ],
      "execution_count": 119,
      "outputs": [
        {
          "output_type": "execute_result",
          "data": {
            "text/plain": [
              "{'Li Si': 222222, 'Wang Wu': 333333, 'Zhang San': 111111}"
            ]
          },
          "metadata": {},
          "execution_count": 119
        }
      ]
    },
    {
      "cell_type": "markdown",
      "metadata": {
        "id": "fO65-GUGw1eL"
      },
      "source": [
        "# 3 控制流 control flow\n",
        "逻辑控制元素，例如“如果A则B，否则C”"
      ]
    },
    {
      "cell_type": "markdown",
      "metadata": {
        "id": "UbLOc-pigl6R"
      },
      "source": [
        "## 3.1 if-else\n",
        "`if`: 判断是否符合某个条件\n",
        "\n",
        "`elif`: 判断是否符合某个if以外的条件\n",
        "\n",
        "`else`: `if`和`elif`以外的所有情况"
      ]
    },
    {
      "cell_type": "code",
      "metadata": {
        "id": "MLOpgJQshCAA"
      },
      "source": [
        "# if-elif-else语句\n",
        "def f_if(x):\n",
        "  if x > 6:\n",
        "    print(\" x大于6\")\n",
        "  elif x > 4 and x <= 6:\n",
        "    print(\" x*x = {}\".format(x*x))\n",
        "  else:\n",
        "    print(\" x不大于4\")"
      ],
      "execution_count": 11,
      "outputs": []
    },
    {
      "cell_type": "code",
      "metadata": {
        "colab": {
          "base_uri": "https://localhost:8080/"
        },
        "id": "Iw3X5SZAhdsH",
        "outputId": "0a1f36be-b0fb-4540-fa05-87298b52ba44"
      },
      "source": [
        "f_if(7)"
      ],
      "execution_count": 9,
      "outputs": [
        {
          "output_type": "stream",
          "name": "stdout",
          "text": [
            " x大于6\n"
          ]
        }
      ]
    },
    {
      "cell_type": "code",
      "metadata": {
        "colab": {
          "base_uri": "https://localhost:8080/"
        },
        "id": "b27QLiWehjhb",
        "outputId": "0e17df12-3007-49ca-f67b-5f4a90e8954d"
      },
      "source": [
        "f_if(4.5)"
      ],
      "execution_count": 13,
      "outputs": [
        {
          "output_type": "stream",
          "name": "stdout",
          "text": [
            " x*x = 20.25\n"
          ]
        }
      ]
    },
    {
      "cell_type": "code",
      "metadata": {
        "colab": {
          "base_uri": "https://localhost:8080/"
        },
        "id": "fzgssBrPhlCJ",
        "outputId": "43d64808-78e8-4480-d2e6-a329f9f2b516"
      },
      "source": [
        "f_if(3)"
      ],
      "execution_count": 14,
      "outputs": [
        {
          "output_type": "stream",
          "name": "stdout",
          "text": [
            " x不大于4\n"
          ]
        }
      ]
    },
    {
      "cell_type": "markdown",
      "metadata": {
        "id": "h-MuPzd8h4wc"
      },
      "source": [
        "# 3.2 for循环\n",
        "for循环是python中非常重要的功能，它表示**按照一定的规则在序列中迭代**。\n",
        "\n",
        "`for i in range(n)`\n",
        "\n",
        "这代表着一个循环n次的循环，i可以理解为计数器，它会从0递增计数到n-1(共n次)\n",
        "\n",
        "\n",
        "**python中常见的for循环写法：**\n",
        "\n",
        "`for variable in sequence`\n",
        "\n",
        "`variable`在这里只是一个临时占位符，`sequence`代表整个序列。这条语句表示遍历`sequence`中的每个值。"
      ]
    },
    {
      "cell_type": "code",
      "metadata": {
        "id": "erUzWrvah2PR"
      },
      "source": [
        "months = ['一月', '二月', '三月', '四月']"
      ],
      "execution_count": 25,
      "outputs": []
    },
    {
      "cell_type": "code",
      "metadata": {
        "colab": {
          "base_uri": "https://localhost:8080/"
        },
        "id": "cdnTIKmhletQ",
        "outputId": "c32acf7d-bffc-4434-ba6e-cc22ae2df24e"
      },
      "source": [
        "#比较python的写法\n",
        "for month in months:\n",
        "  print(month)"
      ],
      "execution_count": 26,
      "outputs": [
        {
          "output_type": "stream",
          "name": "stdout",
          "text": [
            "一月\n",
            "二月\n",
            "三月\n",
            "四月\n"
          ]
        }
      ]
    },
    {
      "cell_type": "code",
      "metadata": {
        "colab": {
          "base_uri": "https://localhost:8080/"
        },
        "id": "CnFShaTvjQKZ",
        "outputId": "a0f43aab-dfbb-498b-b7a4-8cfc3001648a"
      },
      "source": [
        "# 另一种for循环写法\n",
        "for i in range(len(months)):\n",
        "  print(months[i])"
      ],
      "execution_count": 18,
      "outputs": [
        {
          "output_type": "stream",
          "name": "stdout",
          "text": [
            "一月\n",
            "二月\n",
            "三月\n",
            "四月\n"
          ]
        }
      ]
    },
    {
      "cell_type": "markdown",
      "metadata": {
        "id": "OKyZVKtTkxbX"
      },
      "source": [
        "你可以在for循环中嵌套if判断。"
      ]
    },
    {
      "cell_type": "code",
      "metadata": {
        "colab": {
          "base_uri": "https://localhost:8080/"
        },
        "id": "rZl4KNwbk4ZE",
        "outputId": "5bed3402-9f5e-4774-ed53-2f6a09fae37a"
      },
      "source": [
        "for month in months:\n",
        "  if month.startswith('二'): #判断是否以\"二\"开头\n",
        "    print(month)"
      ],
      "execution_count": 29,
      "outputs": [
        {
          "output_type": "stream",
          "name": "stdout",
          "text": [
            "二月\n"
          ]
        }
      ]
    },
    {
      "cell_type": "markdown",
      "metadata": {
        "id": "UnjfLODxmmqm"
      },
      "source": [
        "这几条语句实现了一个类似搜索的功能（搜索以\"二\"开头的词条）。但是搜索算法是一门很复杂的学科，**当数据量很大时，这种简单粗暴的算法可能会浪费算力和时间。**因此，当你需要实现**排序、搜索或类似功能**时，**请优先使用或查找已有的库中的函数。**（当好\"调包侠\"）"
      ]
    },
    {
      "cell_type": "markdown",
      "metadata": {
        "id": "tHJONx0YkVA0"
      },
      "source": [
        "for循环还可以十分方便的遍历词典。"
      ]
    },
    {
      "cell_type": "code",
      "metadata": {
        "colab": {
          "base_uri": "https://localhost:8080/"
        },
        "id": "JnjlkcTlkZt8",
        "outputId": "0fa12958-7d78-44e2-dc7e-b5c05bacef14"
      },
      "source": [
        "dict_2 = {'Zhang San':111111, 'Li Si':222222, 'Wang Wu': 333333}\n",
        "\n",
        "for key, value in dict_2.items():\n",
        "  print(\"{0}:{1}\".format(key,value))"
      ],
      "execution_count": 20,
      "outputs": [
        {
          "output_type": "stream",
          "name": "stdout",
          "text": [
            "Zhang San:111111\n",
            "Li Si:222222\n",
            "Wang Wu:333333\n"
          ]
        }
      ]
    },
    {
      "cell_type": "markdown",
      "metadata": {
        "id": "JlKdGDNdnCnd"
      },
      "source": [
        "列表、集合与字典生成式是 Python 中一种简化的 for 循环写法。你可以运用这种方法快速的创建对应变量。\n",
        "\n",
        "(尽管这种写法看起来很简单，但它有时并不利于其他人理解。)"
      ]
    },
    {
      "cell_type": "markdown",
      "metadata": {
        "id": "GhRNeypTnKYG"
      },
      "source": [
        "### 3.2.1 列表生成式"
      ]
    },
    {
      "cell_type": "code",
      "metadata": {
        "colab": {
          "base_uri": "https://localhost:8080/"
        },
        "id": "rbh7m1UfnQbI",
        "outputId": "fe6a2c82-7880-4e06-eb35-773f69ec2fbf"
      },
      "source": [
        "data_1 = [[1,2,3], [4,5,6], [7,8,9]]\n",
        "rows_to_keep = [row for row in data_1 if row[2] > 5] #保留第2位大于5的list\n",
        "rows_to_keep"
      ],
      "execution_count": 31,
      "outputs": [
        {
          "output_type": "execute_result",
          "data": {
            "text/plain": [
              "[[4, 5, 6], [7, 8, 9]]"
            ]
          },
          "metadata": {},
          "execution_count": 31
        }
      ]
    },
    {
      "cell_type": "markdown",
      "metadata": {
        "id": "5MC509GzntJD"
      },
      "source": [
        "### 3.2.2 集合生成式"
      ]
    },
    {
      "cell_type": "code",
      "metadata": {
        "colab": {
          "base_uri": "https://localhost:8080/"
        },
        "id": "E7Hmw1LQnxLk",
        "outputId": "e26ee7de-bede-4eb2-f36a-6143a7796fdd"
      },
      "source": [
        "data_2 = [1,2,2,3,3,3]\n",
        "set_tp = {x for x in data_2} #转换为set时，重复的元素会被舍弃\n",
        "set_tp"
      ],
      "execution_count": 32,
      "outputs": [
        {
          "output_type": "execute_result",
          "data": {
            "text/plain": [
              "{1, 2, 3}"
            ]
          },
          "metadata": {},
          "execution_count": 32
        }
      ]
    },
    {
      "cell_type": "markdown",
      "metadata": {
        "id": "SWQqJonMo8Cg"
      },
      "source": [
        "### 3.2.3 字典生成式"
      ]
    },
    {
      "cell_type": "code",
      "metadata": {
        "colab": {
          "base_uri": "https://localhost:8080/"
        },
        "id": "ec7D96zio_cY",
        "outputId": "d72d7c15-5e4b-487b-9c60-c4c4b55d10a0"
      },
      "source": [
        "data_3 = {'customer1':7,'customer2':9,'customer3':11}\n",
        "dict_3 = {key : value for key, value in data_3.items() if value > 10} #保留value>10的items\n",
        "dict_3"
      ],
      "execution_count": 34,
      "outputs": [
        {
          "output_type": "execute_result",
          "data": {
            "text/plain": [
              "{'customer3': 11}"
            ]
          },
          "metadata": {},
          "execution_count": 34
        }
      ]
    },
    {
      "cell_type": "markdown",
      "metadata": {
        "id": "Pcb-MCvEpznz"
      },
      "source": [
        "## 3.3 while循环\n",
        "当满足（或不满足）某个条件时就一直执行循环。\n",
        "\n",
        "while循环并不如for循环常用。大多数时候，你需要遍历一整列数据，这种情景更适用于for循环。"
      ]
    },
    {
      "cell_type": "code",
      "metadata": {
        "colab": {
          "base_uri": "https://localhost:8080/"
        },
        "id": "M6Uppiueqafg",
        "outputId": "d8e7290e-62e9-4f97-9e0a-50f3b8135009"
      },
      "source": [
        "x = 0\n",
        "while x < 5:\n",
        "  print(x)\n",
        "  x += 1"
      ],
      "execution_count": 35,
      "outputs": [
        {
          "output_type": "stream",
          "name": "stdout",
          "text": [
            "0\n",
            "1\n",
            "2\n",
            "3\n",
            "4\n"
          ]
        }
      ]
    },
    {
      "cell_type": "markdown",
      "metadata": {
        "id": "UTo3vmLzq60u"
      },
      "source": [
        "## 3.4 函数\n",
        "python中有两种典型的使用函数的场景：\n",
        "\n",
        "1. 调用标准库或第三方库中的函数。例如`print()`, `datetime.timedelta()`\n",
        "\n",
        "2. 为了避免不断重复出现的代码，你自己编写函数。**Clean code!**"
      ]
    },
    {
      "cell_type": "code",
      "metadata": {
        "colab": {
          "base_uri": "https://localhost:8080/"
        },
        "id": "evhL57fYr85Z",
        "outputId": "c4a17533-6243-4a19-f332-6bc82857a59f"
      },
      "source": [
        "# Dirty code\n",
        "x = 1\n",
        "if x > 5:\n",
        "  print(\"x > 5\")\n",
        "else:\n",
        "  print(\"x <= 5\")\n",
        "\n",
        "x = 7\n",
        "if x > 5:\n",
        "  print(\"x > 5\")\n",
        "else:\n",
        "  print(\"x <= 5\")"
      ],
      "execution_count": 38,
      "outputs": [
        {
          "output_type": "stream",
          "name": "stdout",
          "text": [
            "x <= 5\n",
            "x > 5\n"
          ]
        }
      ]
    },
    {
      "cell_type": "code",
      "metadata": {
        "colab": {
          "base_uri": "https://localhost:8080/"
        },
        "id": "7lEwp8DYsrW9",
        "outputId": "0079a140-9ecd-4695-df93-508080acea24"
      },
      "source": [
        "# Clean code\n",
        "def func(x):\n",
        "  if x > 5:\n",
        "    print(\"x > 5\")\n",
        "  else:\n",
        "    print(\"x <= 5\")\n",
        "  \n",
        "x = 5\n",
        "y = 7\n",
        "func(5)\n",
        "func(7)"
      ],
      "execution_count": 39,
      "outputs": [
        {
          "output_type": "stream",
          "name": "stdout",
          "text": [
            "x <= 5\n",
            "x > 5\n"
          ]
        }
      ]
    },
    {
      "cell_type": "markdown",
      "metadata": {
        "id": "ujXJRdnfs7Az"
      },
      "source": [
        "函数的定义很简单。\n",
        "\n",
        "`def(var1,var2,...)`\n",
        "\n",
        "**你可以打出`def`声明你要创建一个函数，然后给出若干个需要输入的变量`var1`,`var2`,...。接下来你要定义这个函数进行哪些运算，最后你要定义一个返回值`return`（`return`可以为空）**\n",
        "\n",
        "需要输入的参数可以被赋予默认初始值。例如你可以声明`def func(var1,var2,var3=0)`。用户调用这个函数时，可以给出2个变量，也可以给出3个变量，这都是合法的，区别在于是否给var3赋新的值。"
      ]
    },
    {
      "cell_type": "code",
      "metadata": {
        "id": "JxfEb6-htynX"
      },
      "source": [
        "# 一个简单的求平方函数\n",
        "\n",
        "def getSq(x, ifPrint=False):\n",
        "  if ifPrint == True:\n",
        "    return 'x^2 = {}'.format(x*x)\n",
        "  else:\n",
        "    return x*x"
      ],
      "execution_count": 47,
      "outputs": []
    },
    {
      "cell_type": "code",
      "metadata": {
        "colab": {
          "base_uri": "https://localhost:8080/"
        },
        "id": "xV2Cni62uu1T",
        "outputId": "25b8368d-6ab2-4384-9a77-f5d731ee71da"
      },
      "source": [
        "getSq(4)"
      ],
      "execution_count": 48,
      "outputs": [
        {
          "output_type": "execute_result",
          "data": {
            "text/plain": [
              "16"
            ]
          },
          "metadata": {},
          "execution_count": 48
        }
      ]
    },
    {
      "cell_type": "code",
      "metadata": {
        "colab": {
          "base_uri": "https://localhost:8080/",
          "height": 35
        },
        "id": "HNrA2xTuux3W",
        "outputId": "750e7671-73ca-44e1-fd25-fe664504a4d8"
      },
      "source": [
        "getSq(5,ifPrint=True)"
      ],
      "execution_count": 50,
      "outputs": [
        {
          "output_type": "execute_result",
          "data": {
            "application/vnd.google.colaboratory.intrinsic+json": {
              "type": "string"
            },
            "text/plain": [
              "'x^2 = 25'"
            ]
          },
          "metadata": {},
          "execution_count": 50
        }
      ]
    }
  ]
}