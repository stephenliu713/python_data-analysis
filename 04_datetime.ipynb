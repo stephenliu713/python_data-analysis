{
  "nbformat": 4,
  "nbformat_minor": 0,
  "metadata": {
    "colab": {
      "name": "04_datetime.ipynb",
      "provenance": [],
      "collapsed_sections": [],
      "authorship_tag": "ABX9TyNS2w12P1phiFOaPULuDkqU",
      "include_colab_link": true
    },
    "kernelspec": {
      "name": "python3",
      "display_name": "Python 3"
    },
    "language_info": {
      "name": "python"
    }
  },
  "cells": [
    {
      "cell_type": "markdown",
      "metadata": {
        "id": "view-in-github",
        "colab_type": "text"
      },
      "source": [
        "<a href=\"https://colab.research.google.com/github/stephenliu713/python_data-analysis/blob/main/04_datetime.ipynb\" target=\"_parent\"><img src=\"https://colab.research.google.com/assets/colab-badge.svg\" alt=\"Open In Colab\"/></a>"
      ]
    },
    {
      "cell_type": "code",
      "metadata": {
        "id": "QW7QwHG4gBG5"
      },
      "source": [
        "import pandas as pd\n",
        "import matplotlib.pyplot as plt\n",
        "\n",
        "%matplotlib inline"
      ],
      "execution_count": null,
      "outputs": []
    },
    {
      "cell_type": "markdown",
      "metadata": {
        "id": "o2HPg8zQqFcu"
      },
      "source": [
        "所需文件: `data/vix.csv`"
      ]
    },
    {
      "cell_type": "markdown",
      "metadata": {
        "id": "6HM62dMDhLI6"
      },
      "source": [
        "# 1. `datetime` ——python中的日期格式\n",
        "\n",
        "在我们处理数据时，日期往往有着特殊的意义并且普遍存在于各类数据中。\n",
        "\n",
        "因此，日期在python中有特殊的格式，这需要我们导入python处理日期变量的标准库——`datetime`。（尽管你也可以使用`str`来表示日期，但是这样远没有`datetime`灵活）"
      ]
    },
    {
      "cell_type": "code",
      "metadata": {
        "id": "V5kJ2po-hwyZ"
      },
      "source": [
        "import datetime as dt"
      ],
      "execution_count": null,
      "outputs": []
    },
    {
      "cell_type": "markdown",
      "metadata": {
        "id": "VPgQjsYbh6G4"
      },
      "source": [
        "## 1.1 `datetime`的初始化\n",
        "\n",
        "`datetime`包含年、月、日、小时、分钟、秒等时间信息。但是当你初始化时，你只需要定义年月日，时分秒不是必须的。"
      ]
    },
    {
      "cell_type": "code",
      "metadata": {
        "colab": {
          "base_uri": "https://localhost:8080/"
        },
        "id": "-OvhnU7yh9IR",
        "outputId": "d002df6e-97f9-49d6-893f-a4942458a151"
      },
      "source": [
        "time_1 = dt.datetime(1949, 10, 1)\n",
        "print(time_1)"
      ],
      "execution_count": null,
      "outputs": [
        {
          "output_type": "stream",
          "name": "stdout",
          "text": [
            "1949-10-01 00:00:00\n"
          ]
        }
      ]
    },
    {
      "cell_type": "markdown",
      "metadata": {
        "id": "Q_g2E1IdjzNf"
      },
      "source": [
        "### 1.1.1 返回当日的`datetime` `dt.datetime.today()`"
      ]
    },
    {
      "cell_type": "code",
      "metadata": {
        "colab": {
          "base_uri": "https://localhost:8080/"
        },
        "id": "u6pueNDujspn",
        "outputId": "c8e48cd9-85f1-4dbe-e072-0ca6d114a6bd"
      },
      "source": [
        "today = dt.datetime.today()\n",
        "print(today)"
      ],
      "execution_count": null,
      "outputs": [
        {
          "output_type": "stream",
          "name": "stdout",
          "text": [
            "2021-11-09 05:58:47.460102\n"
          ]
        }
      ]
    },
    {
      "cell_type": "markdown",
      "metadata": {
        "id": "dp8uF4aIjCv-"
      },
      "source": [
        "## 1.2 `datetime`转为`str` `datetime.strftime()`\n",
        "\n",
        "数据分析的实践中我们会发现，数据存储的路径往往与事件有关，例如2021.11.9的数据存储在名为`xxx_20211109`的文件夹里。\n",
        "\n",
        "这时就需要我们将`datetime`转化为`str`，并且是以我们需要的格式出现。`strftime()`可以做到这一点。\n",
        "\n"
      ]
    },
    {
      "cell_type": "markdown",
      "metadata": {
        "id": "99fVJFxkkLmI"
      },
      "source": [
        "比如说我们希望之前得到的`today`能够以'yyyy/mm/dd'的格式显示。"
      ]
    },
    {
      "cell_type": "code",
      "metadata": {
        "colab": {
          "base_uri": "https://localhost:8080/",
          "height": 35
        },
        "id": "f0YVwmvhkMdc",
        "outputId": "bd21c562-e024-4d9a-92ef-f1626910c373"
      },
      "source": [
        "today_ymd = today.strftime('%Y/%m/%d')\n",
        "today_ymd"
      ],
      "execution_count": null,
      "outputs": [
        {
          "output_type": "execute_result",
          "data": {
            "application/vnd.google.colaboratory.intrinsic+json": {
              "type": "string"
            },
            "text/plain": [
              "'2021/11/09'"
            ]
          },
          "metadata": {},
          "execution_count": 4
        }
      ]
    },
    {
      "cell_type": "markdown",
      "metadata": {
        "id": "s_En2xQckfLU"
      },
      "source": [
        "### 时间格式符对应表\n",
        "\n",
        "这条语句中的`%Y`是‘年’的格式符。常用的时间格式对应表如下：\n",
        "\n",
        "* `%a` - 星期几缩写，如 `Mon`\n",
        "* `%b` - 月份缩写，如`Jan`\n",
        "* `%c` - `datetime`的字符串表示，如`03/08/15 23:01:26`\n",
        "* `%d` - ‘日’，即当前时间是当前月的第几天\n",
        "* `%H` - ‘时’（24h）\n",
        "* `%I` - ‘时’（12h）\n",
        "* `%m` - ‘月’\n",
        "* `%M` - ‘分’\n",
        "* `%P` - `AM`/`PM`\n",
        "* `%S` - ‘秒’\n",
        "* `%y` - ‘年’\n",
        "\n",
        "\n",
        "[完整版时间格式符对应表](https://invented-cave-0f3.notion.site/strftime-ed0a093a9d0b41f2bd2c8e9349862165)\n"
      ]
    },
    {
      "cell_type": "markdown",
      "metadata": {
        "id": "GkvZUGkpnz5v"
      },
      "source": [
        "# 2. pandas中`datetime`的处理\n"
      ]
    },
    {
      "cell_type": "markdown",
      "metadata": {
        "id": "P8nlm3pVR8WB"
      },
      "source": [
        "首先我们读取一份带有日期的csv文件。"
      ]
    },
    {
      "cell_type": "code",
      "metadata": {
        "colab": {
          "base_uri": "https://localhost:8080/",
          "height": 203
        },
        "id": "QEkG1d_rR-0U",
        "outputId": "77f0e124-d376-4f20-d896-f48045cc346c"
      },
      "source": [
        "df_vix = pd.read_csv('data/vix.csv',\n",
        "                     na_values = '.')\n",
        "df_vix.head()"
      ],
      "execution_count": null,
      "outputs": [
        {
          "output_type": "execute_result",
          "data": {
            "text/html": [
              "<div>\n",
              "<style scoped>\n",
              "    .dataframe tbody tr th:only-of-type {\n",
              "        vertical-align: middle;\n",
              "    }\n",
              "\n",
              "    .dataframe tbody tr th {\n",
              "        vertical-align: top;\n",
              "    }\n",
              "\n",
              "    .dataframe thead th {\n",
              "        text-align: right;\n",
              "    }\n",
              "</style>\n",
              "<table border=\"1\" class=\"dataframe\">\n",
              "  <thead>\n",
              "    <tr style=\"text-align: right;\">\n",
              "      <th></th>\n",
              "      <th>DATE</th>\n",
              "      <th>VIXCLS</th>\n",
              "    </tr>\n",
              "  </thead>\n",
              "  <tbody>\n",
              "    <tr>\n",
              "      <th>0</th>\n",
              "      <td>1990-01-02</td>\n",
              "      <td>17.24</td>\n",
              "    </tr>\n",
              "    <tr>\n",
              "      <th>1</th>\n",
              "      <td>1990-01-03</td>\n",
              "      <td>18.19</td>\n",
              "    </tr>\n",
              "    <tr>\n",
              "      <th>2</th>\n",
              "      <td>1990-01-04</td>\n",
              "      <td>19.22</td>\n",
              "    </tr>\n",
              "    <tr>\n",
              "      <th>3</th>\n",
              "      <td>1990-01-05</td>\n",
              "      <td>20.11</td>\n",
              "    </tr>\n",
              "    <tr>\n",
              "      <th>4</th>\n",
              "      <td>1990-01-08</td>\n",
              "      <td>20.26</td>\n",
              "    </tr>\n",
              "  </tbody>\n",
              "</table>\n",
              "</div>"
            ],
            "text/plain": [
              "         DATE  VIXCLS\n",
              "0  1990-01-02   17.24\n",
              "1  1990-01-03   18.19\n",
              "2  1990-01-04   19.22\n",
              "3  1990-01-05   20.11\n",
              "4  1990-01-08   20.26"
            ]
          },
          "metadata": {},
          "execution_count": 11
        }
      ]
    },
    {
      "cell_type": "code",
      "metadata": {
        "colab": {
          "base_uri": "https://localhost:8080/"
        },
        "id": "GH6Jx1tXSsgA",
        "outputId": "7057a529-a0d0-4519-fefd-f2d919b4d6ef"
      },
      "source": [
        "df_vix.dtypes"
      ],
      "execution_count": null,
      "outputs": [
        {
          "output_type": "execute_result",
          "data": {
            "text/plain": [
              "DATE       object\n",
              "VIXCLS    float64\n",
              "dtype: object"
            ]
          },
          "metadata": {},
          "execution_count": 12
        }
      ]
    },
    {
      "cell_type": "markdown",
      "metadata": {
        "id": "XmwTXs48SNtW"
      },
      "source": [
        "## 2.1 将日期转换为`datetime`格式 `pd.to_datetime(df['date'])`\n",
        "\n"
      ]
    },
    {
      "cell_type": "code",
      "metadata": {
        "colab": {
          "base_uri": "https://localhost:8080/"
        },
        "id": "Xjyqyj8pSbJd",
        "outputId": "343a5fca-1d5a-454f-c53f-ff3388745d5d"
      },
      "source": [
        "df_vix['DATE'] = pd.to_datetime(df_vix['DATE'])\n",
        "df_vix.dtypes"
      ],
      "execution_count": null,
      "outputs": [
        {
          "output_type": "execute_result",
          "data": {
            "text/plain": [
              "DATE      datetime64[ns]\n",
              "VIXCLS           float64\n",
              "dtype: object"
            ]
          },
          "metadata": {},
          "execution_count": 13
        }
      ]
    },
    {
      "cell_type": "markdown",
      "metadata": {
        "id": "sQwJ_WjFS8-3"
      },
      "source": [
        "改变格式后，我们可以选择`date`列作为索引列。"
      ]
    },
    {
      "cell_type": "code",
      "metadata": {
        "colab": {
          "base_uri": "https://localhost:8080/",
          "height": 234
        },
        "id": "qA6Q3hXETB9x",
        "outputId": "dd1d3a89-4b0f-4c65-c017-90122eb25299"
      },
      "source": [
        "df_vix_d = df_vix.set_index('DATE')\n",
        "df_vix_d.head()"
      ],
      "execution_count": null,
      "outputs": [
        {
          "output_type": "execute_result",
          "data": {
            "text/html": [
              "<div>\n",
              "<style scoped>\n",
              "    .dataframe tbody tr th:only-of-type {\n",
              "        vertical-align: middle;\n",
              "    }\n",
              "\n",
              "    .dataframe tbody tr th {\n",
              "        vertical-align: top;\n",
              "    }\n",
              "\n",
              "    .dataframe thead th {\n",
              "        text-align: right;\n",
              "    }\n",
              "</style>\n",
              "<table border=\"1\" class=\"dataframe\">\n",
              "  <thead>\n",
              "    <tr style=\"text-align: right;\">\n",
              "      <th></th>\n",
              "      <th>VIXCLS</th>\n",
              "    </tr>\n",
              "    <tr>\n",
              "      <th>DATE</th>\n",
              "      <th></th>\n",
              "    </tr>\n",
              "  </thead>\n",
              "  <tbody>\n",
              "    <tr>\n",
              "      <th>1990-01-02</th>\n",
              "      <td>17.24</td>\n",
              "    </tr>\n",
              "    <tr>\n",
              "      <th>1990-01-03</th>\n",
              "      <td>18.19</td>\n",
              "    </tr>\n",
              "    <tr>\n",
              "      <th>1990-01-04</th>\n",
              "      <td>19.22</td>\n",
              "    </tr>\n",
              "    <tr>\n",
              "      <th>1990-01-05</th>\n",
              "      <td>20.11</td>\n",
              "    </tr>\n",
              "    <tr>\n",
              "      <th>1990-01-08</th>\n",
              "      <td>20.26</td>\n",
              "    </tr>\n",
              "  </tbody>\n",
              "</table>\n",
              "</div>"
            ],
            "text/plain": [
              "            VIXCLS\n",
              "DATE              \n",
              "1990-01-02   17.24\n",
              "1990-01-03   18.19\n",
              "1990-01-04   19.22\n",
              "1990-01-05   20.11\n",
              "1990-01-08   20.26"
            ]
          },
          "metadata": {},
          "execution_count": 14
        }
      ]
    },
    {
      "cell_type": "markdown",
      "metadata": {
        "id": "sdywN0uuToHL"
      },
      "source": [
        "## 2.2 改变数据频率 `df.resample(rule).mean()`, `df.resample(rule).sum()`\n",
        "\n",
        "有些时候数据的频率并不符合我们的要求。例如上面的数据是按‘天’展示的，但我们希望以‘周’为单位的数据。这时候我们可以用`df.resample()`改变数据的频率。\n",
        "\n",
        "**`mean()`和`sum()`决定了处理后的数据应该是原始数据的平均值还是总和**。"
      ]
    },
    {
      "cell_type": "code",
      "metadata": {
        "colab": {
          "base_uri": "https://localhost:8080/",
          "height": 234
        },
        "id": "GhiPvcyMUVoO",
        "outputId": "8ac188da-3d54-47e0-bf03-86d0f4ada73a"
      },
      "source": [
        "# 将之前得到的数据改为按'周'显示\n",
        "\n",
        "df_vix_w = df_vix_d.resample(rule = 'W').mean()\n",
        "df_vix_w.head()"
      ],
      "execution_count": null,
      "outputs": [
        {
          "output_type": "execute_result",
          "data": {
            "text/html": [
              "<div>\n",
              "<style scoped>\n",
              "    .dataframe tbody tr th:only-of-type {\n",
              "        vertical-align: middle;\n",
              "    }\n",
              "\n",
              "    .dataframe tbody tr th {\n",
              "        vertical-align: top;\n",
              "    }\n",
              "\n",
              "    .dataframe thead th {\n",
              "        text-align: right;\n",
              "    }\n",
              "</style>\n",
              "<table border=\"1\" class=\"dataframe\">\n",
              "  <thead>\n",
              "    <tr style=\"text-align: right;\">\n",
              "      <th></th>\n",
              "      <th>VIXCLS</th>\n",
              "    </tr>\n",
              "    <tr>\n",
              "      <th>DATE</th>\n",
              "      <th></th>\n",
              "    </tr>\n",
              "  </thead>\n",
              "  <tbody>\n",
              "    <tr>\n",
              "      <th>1990-01-07</th>\n",
              "      <td>18.690</td>\n",
              "    </tr>\n",
              "    <tr>\n",
              "      <th>1990-01-14</th>\n",
              "      <td>21.918</td>\n",
              "    </tr>\n",
              "    <tr>\n",
              "      <th>1990-01-21</th>\n",
              "      <td>24.304</td>\n",
              "    </tr>\n",
              "    <tr>\n",
              "      <th>1990-01-28</th>\n",
              "      <td>25.744</td>\n",
              "    </tr>\n",
              "    <tr>\n",
              "      <th>1990-02-04</th>\n",
              "      <td>25.648</td>\n",
              "    </tr>\n",
              "  </tbody>\n",
              "</table>\n",
              "</div>"
            ],
            "text/plain": [
              "            VIXCLS\n",
              "DATE              \n",
              "1990-01-07  18.690\n",
              "1990-01-14  21.918\n",
              "1990-01-21  24.304\n",
              "1990-01-28  25.744\n",
              "1990-02-04  25.648"
            ]
          },
          "metadata": {},
          "execution_count": 18
        }
      ]
    },
    {
      "cell_type": "markdown",
      "metadata": {
        "id": "TLN-hwDgUvwt"
      },
      "source": [
        "### 2.2.1 `df.resample(rule)`中`rule`的频率规则对应表\n",
        "\n",
        "常用：\n",
        "\n",
        "* `A` - 年末 \n",
        "* `AS`, `YS` - 年初\n",
        "* `M` - 月末\n",
        "* `W` - 周\n",
        "* `D` - 日历日\n",
        "* `B` - 工作日\n",
        "* `H` - 小时\n",
        "* `T`, `min` - 分\n",
        "* `S` - 秒\n",
        "\n",
        "[完整版频率规则对应表](https://invented-cave-0f3.notion.site/resample-rule-5c03475bbe9c43ad80b8d68e8fc94841)\n"
      ]
    },
    {
      "cell_type": "code",
      "metadata": {
        "colab": {
          "base_uri": "https://localhost:8080/",
          "height": 234
        },
        "id": "05P9fOmZZK_c",
        "outputId": "64b7fc50-43a6-40b0-84c7-5953f8a5f3c0"
      },
      "source": [
        "# 按月显示\n",
        "df_m = df_vix_d.resample(rule='M').mean()\n",
        "df_m.head()"
      ],
      "execution_count": null,
      "outputs": [
        {
          "output_type": "execute_result",
          "data": {
            "text/html": [
              "<div>\n",
              "<style scoped>\n",
              "    .dataframe tbody tr th:only-of-type {\n",
              "        vertical-align: middle;\n",
              "    }\n",
              "\n",
              "    .dataframe tbody tr th {\n",
              "        vertical-align: top;\n",
              "    }\n",
              "\n",
              "    .dataframe thead th {\n",
              "        text-align: right;\n",
              "    }\n",
              "</style>\n",
              "<table border=\"1\" class=\"dataframe\">\n",
              "  <thead>\n",
              "    <tr style=\"text-align: right;\">\n",
              "      <th></th>\n",
              "      <th>VIXCLS</th>\n",
              "    </tr>\n",
              "    <tr>\n",
              "      <th>DATE</th>\n",
              "      <th></th>\n",
              "    </tr>\n",
              "  </thead>\n",
              "  <tbody>\n",
              "    <tr>\n",
              "      <th>1990-01-31</th>\n",
              "      <td>23.347273</td>\n",
              "    </tr>\n",
              "    <tr>\n",
              "      <th>1990-02-28</th>\n",
              "      <td>23.262632</td>\n",
              "    </tr>\n",
              "    <tr>\n",
              "      <th>1990-03-31</th>\n",
              "      <td>20.062273</td>\n",
              "    </tr>\n",
              "    <tr>\n",
              "      <th>1990-04-30</th>\n",
              "      <td>21.403500</td>\n",
              "    </tr>\n",
              "    <tr>\n",
              "      <th>1990-05-31</th>\n",
              "      <td>18.097727</td>\n",
              "    </tr>\n",
              "  </tbody>\n",
              "</table>\n",
              "</div>"
            ],
            "text/plain": [
              "               VIXCLS\n",
              "DATE                 \n",
              "1990-01-31  23.347273\n",
              "1990-02-28  23.262632\n",
              "1990-03-31  20.062273\n",
              "1990-04-30  21.403500\n",
              "1990-05-31  18.097727"
            ]
          },
          "metadata": {},
          "execution_count": 19
        }
      ]
    }
  ]
}